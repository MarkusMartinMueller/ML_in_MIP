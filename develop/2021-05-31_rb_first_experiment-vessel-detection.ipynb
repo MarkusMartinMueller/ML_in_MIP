{
 "cells": [
  {
   "cell_type": "markdown",
   "metadata": {},
   "source": [
    "# Experiment Template\n",
    "\n",
    "\n",
    "**In this notebook:**\n",
    "\n",
    "* Load original mri data + vessel mask\n",
    "* Resample Images to 1.5 mm Voxelsize\n",
    "* Filter images based on size\n",
    "* Train network to predict vessel mask\n",
    "* Evaluate vessel mask\n",
    "\n",
    "**Todo:**\n",
    "* Change prediction from mask to vessel\n",
    "* Check percentage of 1s in resampled mask\n",
    "* Write evaluation\n",
    "* Try out different batch_sizes"
   ]
  },
  {
   "cell_type": "markdown",
   "metadata": {},
   "source": [
    "## Dependencies\n",
    "Install, load, and initialize all required dependencies for this experiment.\n",
    "\n",
    "### Install Dependencies"
   ]
  },
  {
   "cell_type": "code",
   "execution_count": null,
   "metadata": {
    "ExecuteTime": {
     "start_time": "2021-06-08T16:28:47.795Z"
    }
   },
   "outputs": [],
   "source": [
    "#It should be possible to run the notebook independent of anything else. \n",
    "# If dependency cannot be installed via pip, either:\n",
    "# - download & install it via %%bash\n",
    "# - atleast mention those dependecies in this section\n",
    "\n",
    "!pip install -q -e ../utils/\n",
    "\n",
    "\n"
   ]
  },
  {
   "cell_type": "markdown",
   "metadata": {},
   "source": [
    "### Import Dependencies"
   ]
  },
  {
   "cell_type": "markdown",
   "metadata": {},
   "source": [
    "# System libraries"
   ]
  },
  {
   "cell_type": "code",
   "execution_count": null,
   "metadata": {
    "ExecuteTime": {
     "start_time": "2021-06-08T16:28:47.803Z"
    }
   },
   "outputs": [],
   "source": [
    "from __future__ import absolute_import, division, print_function\n",
    "import logging, os, sys\n",
    "\n",
    "# Enable logging\n",
    "logging.basicConfig(format='[%(levelname)s] %(message)s', level=logging.INFO, stream=sys.stdout)\n",
    "\n",
    "# Re-import packages if they change\n",
    "%load_ext autoreload\n",
    "%autoreload 2\n",
    "\n",
    "# Recursion Depth\n",
    "import sys\n",
    "sys.setrecursionlimit(10000)\n",
    "\n",
    "# Intialize tqdm to always use the notebook progress bar\n",
    "import tqdm\n",
    "tqdm.tqdm = tqdm.tqdm_notebook\n",
    "\n",
    "# Third-party libraries\n",
    "import comet_ml\n",
    "import numpy as np\n",
    "import pandas as pd\n",
    "import nilearn.plotting as nip\n",
    "import matplotlib.pyplot as plt\n",
    "import nibabel as nib\n",
    "import numpy as np\n",
    "import collections\n",
    "%matplotlib inline\n",
    "plt.rcParams[\"figure.figsize\"] = (12,6)\n",
    "%config InlineBackend.figure_format='retina'  # adapt plots for retina displays\n",
    "import git\n",
    "\n",
    "\n",
    "# Project utils\n",
    "import aneurysm_utils\n",
    "from aneurysm_utils import evaluation, training\n"
   ]
  },
  {
   "cell_type": "markdown",
   "metadata": {},
   "source": [
    "### Initialize Environment"
   ]
  },
  {
   "cell_type": "code",
   "execution_count": null,
   "metadata": {
    "ExecuteTime": {
     "start_time": "2021-06-08T16:28:47.807Z"
    }
   },
   "outputs": [],
   "source": [
    "env = aneurysm_utils.Environment(project=\"ML_in_MIP\", root_folder=\"/workspace/\")\n",
    "env.cached_data[\"comet_key\"] = \"EGrR4luSis87yhHbs2rEaqAWs\" \n",
    "env.print_info()"
   ]
  },
  {
   "cell_type": "markdown",
   "metadata": {},
   "source": [
    "## Load Data\n",
    "Download, explore, and prepare all required data for the experiment in this section."
   ]
  },
  {
   "cell_type": "code",
   "execution_count": null,
   "metadata": {
    "ExecuteTime": {
     "start_time": "2021-06-08T16:28:47.813Z"
    }
   },
   "outputs": [],
   "source": [
    "dataset_params = {\n",
    "    \"prediction\": \"vessel\",\n",
    "    \"mri_data_selection\": \"unprocessed\", \n",
    "    \"balance_data\": False,\n",
    "    \"seed\": 1\n",
    "}\n",
    "\n",
    "preprocessing_params = {\n",
    "    'min_max_normalize': True,\n",
    "    'mean_std_normalize': False,\n",
    "    'smooth_img': False, # can contain a number: smoothing factor\n",
    "}\n"
   ]
  },
  {
   "cell_type": "markdown",
   "metadata": {},
   "source": [
    "### Load Meta Data"
   ]
  },
  {
   "cell_type": "code",
   "execution_count": null,
   "metadata": {
    "ExecuteTime": {
     "start_time": "2021-06-08T16:28:47.818Z"
    }
   },
   "outputs": [],
   "source": [
    "from aneurysm_utils.data_collection import load_aneurysm_dataset\n",
    "\n",
    "df = load_aneurysm_dataset(\n",
    "    env,\n",
    "    mri_data_selection=dataset_params[\"mri_data_selection\"],\n",
    "    random_state=dataset_params[\"seed\"]\n",
    ")\n",
    "df.head()"
   ]
  },
  {
   "cell_type": "markdown",
   "metadata": {},
   "source": [
    "### Load & Split MRI Data"
   ]
  },
  {
   "cell_type": "code",
   "execution_count": null,
   "metadata": {
    "ExecuteTime": {
     "start_time": "2021-06-08T16:28:47.827Z"
    },
    "lines_to_next_cell": 2
   },
   "outputs": [],
   "source": [
    "# Load MRI images and split into train, test, and validation\n",
    "from aneurysm_utils.data_collection import split_mri_images\n",
    "#case_list = [\"A001\", \"A130_R\", \"A005\"]\n",
    "#df = df.loc[df[\"Case\"].isin(case_list)]\n",
    "\n",
    "train_data, test_data, val_data, _ = split_mri_images(\n",
    "    env, \n",
    "    df[:10], \n",
    "    prediction=dataset_params[\"prediction\"], \n",
    "    encode_labels=False,\n",
    "    random_state=dataset_params[\"seed\"],\n",
    "    balance_data=dataset_params[\"balance_data\"]\n",
    ")\n",
    "\n",
    "mri_imgs_train, labels_train = train_data\n",
    "mri_imgs_test, labels_test = test_data\n",
    "mri_imgs_val, labels_val = val_data"
   ]
  },
  {
   "cell_type": "code",
   "execution_count": null,
   "metadata": {
    "ExecuteTime": {
     "start_time": "2021-06-08T16:28:47.830Z"
    }
   },
   "outputs": [],
   "source": [
    "from aneurysm_utils import preprocessing\n",
    "\n",
    "preprocessing.check_mri_shapes(mri_imgs_train)"
   ]
  },
  {
   "cell_type": "markdown",
   "metadata": {},
   "source": [
    "## Transform & Preprocess Data"
   ]
  },
  {
   "cell_type": "code",
   "execution_count": null,
   "metadata": {
    "ExecuteTime": {
     "start_time": "2021-06-08T16:28:47.835Z"
    },
    "lines_to_next_cell": 2
   },
   "outputs": [],
   "source": [
    "from aneurysm_utils import preprocessing\n",
    "\n",
    "size_of_train = len(mri_imgs_train)\n",
    "size_of_test = len(mri_imgs_test)\n",
    "size_of_val = len(mri_imgs_val)\n",
    "\n",
    "# preprocess all lists as one to have a working mean_std_normalization\n",
    "mri_imgs = mri_imgs_train + mri_imgs_test + mri_imgs_val\n",
    "mri_imgs = preprocessing.preprocess(env, mri_imgs, preprocessing_params)\n",
    "\n",
    "mri_imgs_train = mri_imgs[:size_of_train]\n",
    "mri_imgs_train = [train for train in mri_imgs_train]\n",
    "mri_imgs_test = mri_imgs[size_of_train : size_of_train + size_of_test]\n",
    "mri_imgs_test = [test for test in mri_imgs_test]\n",
    "mri_imgs_val = mri_imgs[size_of_train + size_of_test :]\n",
    "mri_imgs_val = [val for val in mri_imgs_val]\n",
    "\n",
    "# preprocess mask\n",
    "x, y, h = labels_train[0].shape\n",
    "labels_train = [label_train for label_train in labels_train]\n",
    "labels_test = [label_test for label_test in labels_test]\n",
    "labels_val = [label_val for label_val in labels_val]\n",
    "# flatten"
   ]
  },
  {
   "cell_type": "code",
   "execution_count": null,
   "metadata": {
    "ExecuteTime": {
     "start_time": "2021-06-08T16:28:47.839Z"
    }
   },
   "outputs": [],
   "source": [
    "# 32, 32, 32 - funktion\n",
    "train_index = [i for i, e in enumerate(mri_imgs_train) if e.shape != (93, 93, 80)]\n",
    "mri_imgs_train = [i[:, :, :-2] for j, i in enumerate(mri_imgs_train) if j not in train_index]\n",
    "labels_train = [i[:, :, :-2] for j, i in enumerate(labels_train) if j not in train_index]\n",
    "\n",
    "test_index = [i for i, e in enumerate(mri_imgs_test) if e.shape != (93, 93, 80)]\n",
    "mri_imgs_test = [i[:, :, :-2] for j, i in enumerate(mri_imgs_test) if j not in test_index]\n",
    "labels_test = [i[:, :, :-2] for j, i in enumerate(labels_test) if j not in test_index]\n",
    "\n",
    "val_index = [i for i, e in enumerate(mri_imgs_val) if e.shape != (93, 93, 80)]\n",
    "mri_imgs_val = [i[:, :, :-2] for j, i in enumerate(mri_imgs_val) if j not in val_index]\n",
    "labels_val = [i[:, :, :-2] for j, i in enumerate(labels_val) if j not in val_index]\n",
    "\n",
    "mri_imgs_train[0].shape\n",
    "preprocessing.check_mri_shapes(mri_imgs_train)\n",
    "print(np.unique(labels_val[0], return_counts=True))"
   ]
  },
  {
   "cell_type": "markdown",
   "metadata": {},
   "source": [
    "### Optional: View image"
   ]
  },
  {
   "cell_type": "code",
   "execution_count": null,
   "metadata": {
    "ExecuteTime": {
     "start_time": "2021-06-08T16:28:47.848Z"
    },
    "lines_to_next_cell": 2
   },
   "outputs": [],
   "source": [
    "idx = 0\n",
    "nip.view_img(\n",
    "    nib.Nifti1Image(mri_imgs_train[0], np.eye(4)),\n",
    "    symmetric_cmap=False,\n",
    "    cmap=\"Greys_r\",\n",
    "    bg_img=False,\n",
    "    black_bg=True,\n",
    "    threshold=1e-03, \n",
    "    draw_cross=False\n",
    ")"
   ]
  },
  {
   "cell_type": "code",
   "execution_count": null,
   "metadata": {
    "ExecuteTime": {
     "start_time": "2021-06-08T16:28:47.851Z"
    }
   },
   "outputs": [],
   "source": [
    "evaluation.plot_slices(mri_imgs_train[0])"
   ]
  },
  {
   "cell_type": "markdown",
   "metadata": {},
   "source": [
    "## Train Model\n",
    "Implementation, configuration, and evaluation of the experiment.\n",
    "\n",
    "### Train Deep Model 3D data"
   ]
  },
  {
   "cell_type": "code",
   "execution_count": null,
   "metadata": {
    "ExecuteTime": {
     "start_time": "2021-06-08T16:28:47.855Z"
    },
    "lines_to_next_cell": 2
   },
   "outputs": [],
   "source": [
    "artifacts = {\n",
    "    \"train_data\": (mri_imgs_train, labels_train),\n",
    "    \"val_data\": (mri_imgs_val, labels_val),\n",
    "    \"test_data\": (mri_imgs_test, labels_test)\n",
    "}\n",
    "\n",
    "# Define parameter configuration for experiment run\n",
    "params = {\n",
    "    \"batch_size\": 3,\n",
    "    \"epochs\": 200,\n",
    "    \"learning_rate\": 5.0e-3, # 3e-04, 1.0E-5\n",
    "    \"es_patience\": None, # None = deactivate early stopping\n",
    "    \"weight_decay\": 0.001, # 1e-3\n",
    "    \"model_name\": 'MonaiUnet',\n",
    "    \"optimizer_momentum\": 0.9,\n",
    "    \"optimizer\":'Adam',\n",
    "    \"criterion\": \"CrossEntropyLoss\", \n",
    "    \"criterion_weights\": [1.0, 100.0], # [1.75, 1.0],\n",
    "    \"sampler\": None,   #'ImbalancedDatasetSampler2',\n",
    "    \"shuffle_train_set\": True,\n",
    "    \"scheduler\": \"ReduceLROnPlateau\", # \"ReduceLROnPlateau\",\n",
    "    \"save_models\": False,\n",
    "    \"debug\": True,\n",
    "}\n",
    "\n",
    "params.update(dataset_params)\n",
    "params.update(preprocessing_params)\n",
    "\n",
    "# data augmentation"
   ]
  },
  {
   "cell_type": "code",
   "execution_count": null,
   "metadata": {
    "ExecuteTime": {
     "start_time": "2021-06-08T16:28:47.860Z"
    }
   },
   "outputs": [],
   "source": [
    "# Run experiment and sync all metadata\n",
    "exp = env.create_experiment(\n",
    "    params[\"prediction\"] + \"-pytorch-\" + params[\"model_name\"],\n",
    "    comet_ml.Experiment(\n",
    "        env.cached_data[\"comet_key\"],\n",
    "        project_name=env.project + \"-\" + params[\"prediction\"],\n",
    "        disabled=params[\"debug\"],\n",
    "    ),\n",
    ")\n",
    "exp.run(training.train_pytorch_model, params, artifacts)"
   ]
  },
  {
   "cell_type": "markdown",
   "metadata": {
    "lines_to_next_cell": 2
   },
   "source": [
    "## Evaluate Model\n",
    "\n",
    "Do evaluation, e.g. visualizations  "
   ]
  },
  {
   "cell_type": "code",
   "execution_count": null,
   "metadata": {
    "ExecuteTime": {
     "start_time": "2021-06-08T16:28:47.863Z"
    }
   },
   "outputs": [],
   "source": [
    "from aneurysm_utils.utils.pytorch_utils import predict"
   ]
  },
  {
   "cell_type": "code",
   "execution_count": null,
   "metadata": {
    "ExecuteTime": {
     "start_time": "2021-06-08T16:28:47.867Z"
    }
   },
   "outputs": [],
   "source": [
    "model = exp.artifacts[\"model\"]"
   ]
  },
  {
   "cell_type": "code",
   "execution_count": null,
   "metadata": {
    "ExecuteTime": {
     "start_time": "2021-06-08T16:28:47.869Z"
    }
   },
   "outputs": [],
   "source": [
    "predictions = predict(model, mri_imgs_val,apply_softmax=False )"
   ]
  },
  {
   "cell_type": "code",
   "execution_count": null,
   "metadata": {
    "ExecuteTime": {
     "start_time": "2021-06-08T16:28:47.872Z"
    }
   },
   "outputs": [],
   "source": [
    "\n",
    "idx = 0\n",
    "nip.view_img(\n",
    "    nib.Nifti1Image(predictions[0][0], np.eye(4)),\n",
    "    symmetric_cmap=False,\n",
    "    cmap=\"Greys_r\",\n",
    "    bg_img=False,\n",
    "    black_bg=True,\n",
    "    threshold=1e-03, \n",
    "    draw_cross=False\n",
    ")"
   ]
  },
  {
   "cell_type": "code",
   "execution_count": null,
   "metadata": {
    "ExecuteTime": {
     "start_time": "2021-06-08T16:28:47.873Z"
    }
   },
   "outputs": [],
   "source": [
    "idx = 0\n",
    "nip.view_img(\n",
    "    nib.Nifti1Image(labels_val[0], np.eye(4)),\n",
    "    symmetric_cmap=False,\n",
    "    cmap=\"Greys_r\",\n",
    "    bg_img=False,\n",
    "    black_bg=True,\n",
    "    threshold=1e-03, \n",
    "    draw_cross=False\n",
    ")"
   ]
  },
  {
   "cell_type": "raw",
   "metadata": {},
   "source": []
  }
 ],
 "metadata": {
  "jupytext": {
   "cell_metadata_filter": "-all",
   "encoding": "# coding: utf-8",
   "executable": "/usr/bin/env python",
   "notebook_metadata_filter": "-all",
   "text_representation": {
    "extension": ".py",
    "format_name": "percent"
   }
  },
  "kernelspec": {
   "display_name": "Python 3",
   "language": "python",
   "name": "python3"
  },
  "language_info": {
   "codemirror_mode": {
    "name": "ipython",
    "version": 3
   },
   "file_extension": ".py",
   "mimetype": "text/x-python",
   "name": "python",
   "nbconvert_exporter": "python",
   "pygments_lexer": "ipython3",
   "version": "3.8.5"
  },
  "toc": {
   "base_numbering": 1,
   "nav_menu": {},
   "number_sections": false,
   "sideBar": true,
   "skip_h1_title": false,
   "title_cell": "Table of Contents",
   "title_sidebar": "Contents",
   "toc_cell": false,
   "toc_position": {},
   "toc_section_display": true,
   "toc_window_display": true
  }
 },
 "nbformat": 4,
 "nbformat_minor": 4
}
