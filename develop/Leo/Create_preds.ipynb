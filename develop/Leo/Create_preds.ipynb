{
 "cells": [
  {
   "cell_type": "code",
   "execution_count": 30,
   "id": "6aa03ad4",
   "metadata": {},
   "outputs": [
    {
     "name": "stdout",
     "output_type": "stream",
     "text": [
      "[INFO] Preprocessing: Min Max Normalize...\n",
      "[INFO] Preprocessing: Intensity Segmentation...\n"
     ]
    }
   ],
   "source": [
    "from aneurysm_utils import postprocessing\n",
    "case_list_shuffled=[\"A130_R\",\"A118\",\"A120\",\"A115\",\"A133\",\"A073\",\"A072\",\"A077\",\"A064\"]\n",
    "mri_imgs_test=[]\n",
    "\n",
    "for cases in case_list_shuffled:\n",
    "    file_path=f\"../../../../../data/training/{cases}_orig.nii.gz\"\n",
    "    mri_imgs_test.append(nib.load(file_path).get_fdata())\n",
    "mri_imgs_test=postprocessing.resample(mri_imgs_test,(70,70,60))\n",
    "mri_imgs_test=preprocessing.preprocess(env,mri_imgs_test,preprocessing_params)"
   ]
  },
  {
   "cell_type": "code",
   "execution_count": 31,
   "id": "17e0d569",
   "metadata": {},
   "outputs": [],
   "source": [
    "from aneurysm_utils import postprocessing\n",
    "case_list_shuffled=[\"A130_R\",\"A118\",\"A120\",\"A115\",\"A133\",\"A073\",\"A072\",\"A077\",\"A064\"]\n",
    "labels_test=[]\n",
    "\n",
    "for cases in case_list_shuffled:\n",
    "    file_path=f\"../../../../../data/training/{cases}_masks.nii.gz\"\n",
    "    labels_test.append(nib.load(file_path).get_fdata())\n",
    "labels_test=postprocessing.resample(labels_test,(70,70,60))\n",
    "#labels_test=preprocessing.preprocess(env,labels_test,preprocessing_params)"
   ]
  },
  {
   "cell_type": "code",
   "execution_count": 32,
   "id": "5551fa11",
   "metadata": {},
   "outputs": [],
   "source": [
    "from aneurysm_utils.utils.pytorch_utils import predict\n",
    "from aneurysm_utils.models.unet_3d_oktay import unet_3D\n",
    "from aneurysm_utils.models.attention_unet import unet_grid_attention_3D\n",
    "from aneurysm_utils.models.pointnet  import SegNet "
   ]
  },
  {
   "cell_type": "code",
   "execution_count": 33,
   "id": "ec3c7b42",
   "metadata": {},
   "outputs": [
    {
     "data": {
      "text/plain": [
       "<All keys matched successfully>"
      ]
     },
     "execution_count": 33,
     "metadata": {},
     "output_type": "execute_result"
    }
   ],
   "source": [
    "\n",
    "model = SegNet(dropout=0.38, num_classes=2, sample_rate1 =0.2263, sample_rate2 =0.2941,start_radius =7.254)\n",
    "PATH = \"/group/cake/our-git-project/models/2021-07-14-20-52-20_mask-pytorch-segnet/SegNet_SegNet_3000.pt\"\n",
    "device = torch.device('cpu')\n",
    "model.load_state_dict(torch.load(PATH, map_location=device))"
   ]
  },
  {
   "cell_type": "code",
   "execution_count": 34,
   "id": "325cc869",
   "metadata": {},
   "outputs": [
    {
     "name": "stdout",
     "output_type": "stream",
     "text": [
      "Processing...\n",
      "Done!\n",
      "/group/cake/our-git-project/processed/processed/test.pt\n"
     ]
    }
   ],
   "source": [
    "from aneurysm_utils.utils import pytorch_utils\n",
    "from torch.utils.data.dataloader import DataLoader\n",
    "#datasets_folder = exp._env.project_folder\n",
    "test_dataset = pytorch_utils.PyTorchGeometricDataset(\n",
    "                mri_images=mri_imgs_test,\n",
    "                labels=labels_test,\n",
    "                root=\"/group/cake/our-git-project/processed\",\n",
    "                split=\"test\",\n",
    "                force_processing=True            \n",
    "            )\n",
    "\n",
    "del mri_imgs_test,labels_test"
   ]
  },
  {
   "cell_type": "code",
   "execution_count": 35,
   "id": "476d64fc",
   "metadata": {},
   "outputs": [],
   "source": [
    "from torch_geometric.data import DataLoader as DataLoaderGeometric\n",
    "test_loader = DataLoaderGeometric(\n",
    "            test_dataset,\n",
    "            batch_size=1,  # TODO: use fixed batch size of 5\n",
    "            shuffle=False,\n",
    "            num_workers=0,\n",
    "            pin_memory=True,\n",
    "        )\n",
    "predictions = predict(model, test_loader, apply_softmax=False,ispointnet=True,dimension=(70, 70, 60))"
   ]
  },
  {
   "cell_type": "code",
   "execution_count": 39,
   "id": "ea0bda65",
   "metadata": {},
   "outputs": [],
   "source": [
    "converter_probs = map(lambda x: x[0], predictions)\n",
    "probs = list(converter_probs)"
   ]
  },
  {
   "cell_type": "code",
   "execution_count": 40,
   "id": "67932eb9",
   "metadata": {},
   "outputs": [
    {
     "name": "stdout",
     "output_type": "stream",
     "text": [
      "(70, 70, 60)\n",
      "(70, 70, 60)\n",
      "(70, 70, 60)\n",
      "(70, 70, 60)\n",
      "(70, 70, 60)\n",
      "(70, 70, 60)\n",
      "(70, 70, 60)\n",
      "(70, 70, 60)\n",
      "(70, 70, 60)\n"
     ]
    }
   ],
   "source": [
    "for n in range(len(predictions)):\n",
    "    print(probs[n].shape)"
   ]
  },
  {
   "cell_type": "code",
   "execution_count": 42,
   "id": "75585636",
   "metadata": {},
   "outputs": [],
   "source": [
    "\n",
    "###############   Name und Ort gegebenfalls ändern\n",
    "np.save(\"/group/cake/our-git-project/develop/Leo/pointnet_3.npy\",probs)"
   ]
  }
 ],
 "metadata": {
  "kernelspec": {
   "display_name": "tab_nine_terminal",
   "language": "python",
   "name": "exploration-tutorial"
  },
  "language_info": {
   "codemirror_mode": {
    "name": "ipython",
    "version": 3
   },
   "file_extension": ".py",
   "mimetype": "text/x-python",
   "name": "python",
   "nbconvert_exporter": "python",
   "pygments_lexer": "ipython3",
   "version": "3.8.10"
  }
 },
 "nbformat": 4,
 "nbformat_minor": 5
}
