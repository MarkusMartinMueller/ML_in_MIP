{
 "cells": [
  {
   "cell_type": "code",
   "execution_count": 1,
   "id": "b372923d",
   "metadata": {},
   "outputs": [
    {
     "name": "stderr",
     "output_type": "stream",
     "text": [
      "/group/cake/leo/.venv/lib/python3.8/site-packages/nilearn/datasets/__init__.py:87: FutureWarning: Fetchers from the nilearn.datasets module will be updated in version 0.9 to return python strings instead of bytes and Pandas dataframes instead of Numpy arrays.\n",
      "  warn(\"Fetchers from the nilearn.datasets module will be \"\n"
     ]
    },
    {
     "name": "stdout",
     "output_type": "stream",
     "text": [
      "Jupyter environment detected. Enabling Open3D WebVisualizer.\n",
      "[Open3D INFO] WebRTC GUI backend enabled.\n",
      "[Open3D INFO] WebRTCWindowSystem: HTTP handshake server disabled.\n"
     ]
    }
   ],
   "source": [
    "from __future__ import absolute_import, division, print_function\n",
    "import logging, os, sys\n",
    "\n",
    "# Enable logging\n",
    "logging.basicConfig(format='[%(levelname)s] %(message)s', level=logging.INFO, stream=sys.stdout)\n",
    "\n",
    "# Re-import packages if they change\n",
    "%load_ext memory_profiler\n",
    "%load_ext autoreload\n",
    "%autoreload 2\n",
    "\n",
    "# Recursion Depth\n",
    "sys.setrecursionlimit(1000000000)\n",
    "\n",
    "# Intialize tqdm to always use the notebook progress bar\n",
    "import tqdm\n",
    "\n",
    "tqdm.tqdm = tqdm.tqdm_notebook\n",
    "\n",
    "# Third-party libraries\n",
    "import comet_ml\n",
    "\n",
    "import numpy as np\n",
    "import pandas as pd\n",
    "import nilearn.plotting as nip\n",
    "import matplotlib.pyplot as plt\n",
    "import nibabel as nib\n",
    "import numpy as np\n",
    "import torch\n",
    "import collections\n",
    "\n",
    "plt.rcParams[\"figure.figsize\"] = (12,6)\n",
    "%config InlineBackend.figure_format='retina'  # adapt plots for retina displays\n",
    "import git\n",
    "import aneurysm_utils.evaluation as evaluation\n",
    "\n",
    "# Project utils\n",
    "\n",
    "from mpl_toolkits.mplot3d import Axes3D\n",
    "import aneurysm_utils\n",
    "from aneurysm_utils import evaluation, training,preprocessing,postprocessing\n",
    "%matplotlib inline"
   ]
  },
  {
   "cell_type": "code",
   "execution_count": 2,
   "id": "202ac091",
   "metadata": {},
   "outputs": [],
   "source": [
    "#load list of test cases for comparison\n",
    "case_list_shuffled=[\"A130_R\",\"A118\",\"A120\",\"A115\",\"A133\",\"A073\",\"A072\",\"A077\",\"A064\"]\n",
    "labels=[]\n",
    "\n",
    "for cases in case_list_shuffled:\n",
    "    file_path=f\"../../../../../data/training/{cases}_labeledMasks.nii.gz\"\n",
    "    labels.append(nib.load(file_path).get_fdata())"
   ]
  },
  {
   "cell_type": "markdown",
   "id": "2488445a",
   "metadata": {},
   "source": [
    "Uncomment the model_name of the model you want to use, comment the reset"
   ]
  },
  {
   "cell_type": "code",
   "execution_count": 3,
   "id": "c773a9d9",
   "metadata": {},
   "outputs": [
    {
     "ename": "FileNotFoundError",
     "evalue": "[Errno 2] No such file or directory: '../models/pointnet_2.npy'",
     "output_type": "error",
     "traceback": [
      "\u001b[0;31m---------------------------------------------------------------------------\u001b[0m",
      "\u001b[0;31mFileNotFoundError\u001b[0m                         Traceback (most recent call last)",
      "\u001b[0;32m<ipython-input-3-f37ace08bf7b>\u001b[0m in \u001b[0;36m<module>\u001b[0;34m\u001b[0m\n\u001b[1;32m      5\u001b[0m \u001b[0;31m#Pointnet_model\u001b[0m\u001b[0;34m\u001b[0m\u001b[0;34m\u001b[0m\u001b[0;34m\u001b[0m\u001b[0m\n\u001b[1;32m      6\u001b[0m \u001b[0mmodel_name\u001b[0m\u001b[0;34m=\u001b[0m \u001b[0;34m\"../models/pointnet_2.npy\"\u001b[0m\u001b[0;34m\u001b[0m\u001b[0;34m\u001b[0m\u001b[0m\n\u001b[0;32m----> 7\u001b[0;31m \u001b[0mpredictions\u001b[0m \u001b[0;34m=\u001b[0m\u001b[0mnp\u001b[0m\u001b[0;34m.\u001b[0m\u001b[0mload\u001b[0m\u001b[0;34m(\u001b[0m\u001b[0mmodel_name\u001b[0m\u001b[0;34m,\u001b[0m\u001b[0mallow_pickle\u001b[0m\u001b[0;34m=\u001b[0m\u001b[0;32mTrue\u001b[0m\u001b[0;34m)\u001b[0m\u001b[0;34m\u001b[0m\u001b[0;34m\u001b[0m\u001b[0m\n\u001b[0m",
      "\u001b[0;32m/group/cake/leo/.venv/lib/python3.8/site-packages/numpy/lib/npyio.py\u001b[0m in \u001b[0;36mload\u001b[0;34m(file, mmap_mode, allow_pickle, fix_imports, encoding)\u001b[0m\n\u001b[1;32m    414\u001b[0m             \u001b[0mown_fid\u001b[0m \u001b[0;34m=\u001b[0m \u001b[0;32mFalse\u001b[0m\u001b[0;34m\u001b[0m\u001b[0;34m\u001b[0m\u001b[0m\n\u001b[1;32m    415\u001b[0m         \u001b[0;32melse\u001b[0m\u001b[0;34m:\u001b[0m\u001b[0;34m\u001b[0m\u001b[0;34m\u001b[0m\u001b[0m\n\u001b[0;32m--> 416\u001b[0;31m             \u001b[0mfid\u001b[0m \u001b[0;34m=\u001b[0m \u001b[0mstack\u001b[0m\u001b[0;34m.\u001b[0m\u001b[0menter_context\u001b[0m\u001b[0;34m(\u001b[0m\u001b[0mopen\u001b[0m\u001b[0;34m(\u001b[0m\u001b[0mos_fspath\u001b[0m\u001b[0;34m(\u001b[0m\u001b[0mfile\u001b[0m\u001b[0;34m)\u001b[0m\u001b[0;34m,\u001b[0m \u001b[0;34m\"rb\"\u001b[0m\u001b[0;34m)\u001b[0m\u001b[0;34m)\u001b[0m\u001b[0;34m\u001b[0m\u001b[0;34m\u001b[0m\u001b[0m\n\u001b[0m\u001b[1;32m    417\u001b[0m             \u001b[0mown_fid\u001b[0m \u001b[0;34m=\u001b[0m \u001b[0;32mTrue\u001b[0m\u001b[0;34m\u001b[0m\u001b[0;34m\u001b[0m\u001b[0m\n\u001b[1;32m    418\u001b[0m \u001b[0;34m\u001b[0m\u001b[0m\n",
      "\u001b[0;31mFileNotFoundError\u001b[0m: [Errno 2] No such file or directory: '../models/pointnet_2.npy'"
     ]
    }
   ],
   "source": [
    "#Attention-Unet model\n",
    "#model_name=\"../predictions/preds_attention_ramona_2021-07-12-17-17-25_mask-pytorch-attention-unet_Attention_Unet_Attention_Unet_1560.pt.npy\"\n",
    "#Unet model\n",
    "#model_name =\"../predictions/preds_unet_fs2_6240.npy\"\n",
    "#Pointnet_model\n",
    "model_name= \"../predictions/pointnet_2.npy\"\n",
    "predictions =np.load(model_name,allow_pickle=True)"
   ]
  },
  {
   "cell_type": "code",
   "execution_count": null,
   "id": "bb2f5d04",
   "metadata": {},
   "outputs": [],
   "source": [
    "#create the output masks as list out of the loaded predictions\n",
    "converter = map(lambda x: x[0], predictions)\n",
    "preds = list(converter)\n",
    "probabilites=list(map(lambda x: x[1], predictions))\n"
   ]
  },
  {
   "cell_type": "code",
   "execution_count": null,
   "id": "55b5b06a",
   "metadata": {},
   "outputs": [],
   "source": [
    "del predictions"
   ]
  },
  {
   "cell_type": "code",
   "execution_count": null,
   "id": "28e8dcc1",
   "metadata": {},
   "outputs": [],
   "source": [
    "if \"workspace\" in os.getcwd():\n",
    "    ROOT = \"/workspace\"\n",
    "elif \"/group/cake\" in os.getcwd(): \n",
    "    ROOT = \"/group/cake\""
   ]
  },
  {
   "cell_type": "code",
   "execution_count": null,
   "id": "2230e7e0",
   "metadata": {},
   "outputs": [],
   "source": [
    "#create Environment\n",
    "env = aneurysm_utils.Environment(project=\"our-git-project\", root_folder=ROOT)\n",
    "env.cached_data[\"comet_key\"] = \"EGrR4luSis87yhHbs2rEaqAWs\" \n",
    "env.print_info()"
   ]
  },
  {
   "cell_type": "markdown",
   "id": "4fef96bc",
   "metadata": {},
   "source": [
    "Postprocess the loaded prediction masks"
   ]
  },
  {
   "cell_type": "code",
   "execution_count": null,
   "id": "b02689ce",
   "metadata": {},
   "outputs": [],
   "source": [
    "#dictionary for postprocessing, \n",
    "if model_name = \"../models/pointnet.py\":\n",
    "    postprocess_dict={\n",
    "        \"dbscan\":True,\n",
    "        \"eps\":3,\n",
    "        \"min_samples\":3,\n",
    "        \"size_smallest\":5,\n",
    "        \"size_biggest\":200000,\n",
    "        \"resample\":True,\n",
    "        \"remove_border_candidates\":True\n",
    "\n",
    "    }\n",
    "else:\n",
    "    postprocess_dict={\n",
    "        \"dbscan\":True,\n",
    "        \"patch_size\":64,\n",
    "        \"resample_voxel_dim\":(2,2,2),\n",
    "        \"eps\":3,\n",
    "        \"num_imgs\":9,\n",
    "        \"min_samples\":3,\n",
    "        \"size_smallest\":5,\n",
    "        \"size_biggest\":200000,\n",
    "        \"resample\":True,\n",
    "        \"remove_border_candidates\":True\n",
    "    }"
   ]
  },
  {
   "cell_type": "code",
   "execution_count": null,
   "id": "a0245590",
   "metadata": {},
   "outputs": [],
   "source": [
    "#postprocess data\n",
    "processed = postprocessing.postprocess(env,predictions,postprocess_dict)"
   ]
  },
  {
   "cell_type": "code",
   "execution_count": null,
   "id": "56807061",
   "metadata": {},
   "outputs": [],
   "source": [
    "#create json for task one\n",
    "postprocessing.create_task_one_json(processed,case_list_shuffled,processing_times=None,path=\"../../cada-challenge-master/cada_detection/test/reference.json\",path_datasets=\"../../../../../data/training/\")"
   ]
  },
  {
   "cell_type": "code",
   "execution_count": null,
   "id": "646ad3ea",
   "metadata": {},
   "outputs": [],
   "source": [
    "#create bounding box and visualize ground truth masks and outputh masks\n",
    "candidates = postprocessing.bounding_boxes(processed)\n",
    "for count,(image,label) in enumerate(zip(processed,labels)):\n",
    "        fig = plt.figure()\n",
    "        ax = Axes3D(fig)\n",
    "        evaluation.draw_mask_3d(label,ax=ax,c=\"black\",alpha=0.1)\n",
    "        evaluation.draw_mask_3d(image,ax=ax,zorder=10,alpha=0.1,markersize=4)\n",
    "        evaluation.draw_bounding_box(candidates[count][\"candidates\"],ax=ax)"
   ]
  },
  {
   "cell_type": "markdown",
   "id": "02592356",
   "metadata": {},
   "source": [
    "for image in labels:\n",
    "    evaluation.draw_mask_3d(image)"
   ]
  },
  {
   "cell_type": "code",
   "execution_count": null,
   "id": "6035ffaa",
   "metadata": {},
   "outputs": [],
   "source": []
  }
 ],
 "metadata": {
  "kernelspec": {
   "display_name": "tab_nine_terminal",
   "language": "python",
   "name": "exploration-tutorial"
  },
  "language_info": {
   "codemirror_mode": {
    "name": "ipython",
    "version": 3
   },
   "file_extension": ".py",
   "mimetype": "text/x-python",
   "name": "python",
   "nbconvert_exporter": "python",
   "pygments_lexer": "ipython3",
   "version": "3.8.10"
  }
 },
 "nbformat": 4,
 "nbformat_minor": 5
}
