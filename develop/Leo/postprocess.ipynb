{
 "cells": [
  {
   "cell_type": "markdown",
   "metadata": {},
   "source": [
    "# Post Processing\n",
    "\n",
    "**In this notebook:**\n",
    "\n",
    "* Test DBSCAN for post processing"
   ]
  },
  {
   "cell_type": "markdown",
   "metadata": {},
   "source": [
    "## Dependencies\n",
    "Install, load, and initialize all required dependencies for this experiment.\n",
    "\n",
    "### Install Dependencies"
   ]
  },
  {
   "cell_type": "code",
   "execution_count": null,
   "metadata": {
    "ExecuteTime": {
     "end_time": "2021-07-04T18:43:02.584226Z",
     "start_time": "2021-07-04T18:42:25.857703Z"
    }
   },
   "outputs": [
    {
     "name": "stdout",
     "output_type": "stream",
     "text": [
      "^C\n",
      "\u001b[31mERROR: Operation cancelled by user\u001b[0m\n",
      "\u001b[33mWARNING: You are using pip version 21.1.1; however, version 21.1.3 is available.\n",
      "You should consider upgrading via the '/opt/jupyterhub/bin/python3 -m pip install --upgrade pip' command.\u001b[0m\n"
     ]
    }
   ],
   "source": [
    "#It should be possible to run the notebook independent of anything else. \n",
    "# If dependency cannot be installed via pip, either:\n",
    "# - download & install it via %%bash\n",
    "# - atleast mention those dependecies in this section\n",
    "\n",
    "import sys\n",
    "!{sys.executable} -m pip install -q -e ../../utils/"
   ]
  },
  {
   "cell_type": "markdown",
   "metadata": {},
   "source": [
    "# System libraries"
   ]
  },
  {
   "cell_type": "code",
   "execution_count": 2,
   "metadata": {
    "ExecuteTime": {
     "end_time": "2021-07-04T18:57:11.602149Z",
     "start_time": "2021-07-04T18:57:11.502096Z"
    }
   },
   "outputs": [
    {
     "name": "stdout",
     "output_type": "stream",
     "text": [
      "Jupyter environment detected. Enabling Open3D WebVisualizer.\n",
      "[Open3D INFO] WebRTC GUI backend enabled.\n",
      "[Open3D INFO] WebRTCWindowSystem: HTTP handshake server disabled.\n"
     ]
    }
   ],
   "source": [
    "from __future__ import absolute_import, division, print_function\n",
    "import logging, os, sys\n",
    "\n",
    "# Enable logging\n",
    "logging.basicConfig(format='[%(levelname)s] %(message)s', level=logging.INFO, stream=sys.stdout)\n",
    "\n",
    "# Re-import packages if they change\n",
    "%load_ext autoreload\n",
    "%autoreload 2\n",
    "\n",
    "# Recursion Depth\n",
    "import sys\n",
    "sys.setrecursionlimit(10000)\n",
    "\n",
    "# Intialize tqdm to always use the notebook progress bar\n",
    "import tqdm\n",
    "tqdm.tqdm = tqdm.tqdm_notebook\n",
    "\n",
    "# Third-party libraries\n",
    "import comet_ml\n",
    "import numpy as np\n",
    "import pandas as pd\n",
    "import nilearn.plotting as nip\n",
    "import matplotlib.pyplot as plt\n",
    "import nibabel as nib\n",
    "import numpy as np\n",
    "import collections\n",
    "%matplotlib inline\n",
    "plt.rcParams[\"figure.figsize\"] = (12,6)\n",
    "%config InlineBackend.figure_format='retina'  # adapt plots for retina displays\n",
    "import git\n",
    "\n",
    "\n",
    "# Project utils\n",
    "\n",
    "import aneurysm_utils\n",
    "from aneurysm_utils import evaluation, training\n"
   ]
  },
  {
   "cell_type": "code",
   "execution_count": 3,
   "metadata": {},
   "outputs": [],
   "source": [
    "if \"workspace\" in os.getcwd():\n",
    "    ROOT = \"/workspace\"\n",
    "elif \"/group/cake\" in os.getcwd(): \n",
    "    ROOT = \"/group/cake\""
   ]
  },
  {
   "cell_type": "markdown",
   "metadata": {},
   "source": [
    "### Initialize Environment"
   ]
  },
  {
   "cell_type": "code",
   "execution_count": 4,
   "metadata": {
    "ExecuteTime": {
     "end_time": "2021-07-04T18:57:12.754622Z",
     "start_time": "2021-07-04T18:57:12.677426Z"
    }
   },
   "outputs": [
    {
     "name": "stdout",
     "output_type": "stream",
     "text": [
      "Environment Info:\n",
      "\n",
      "Library Version: 0.1.0\n",
      "Configured Project: our-git-project\n",
      "\n",
      "Folder Structure: \n",
      "- Root folder: /group/cake\n",
      " - Project folder: /group/cake/our-git-project\n",
      " - Datasets folder: /data/training\n",
      " - Models folder: /group/cake/our-git-project/models\n",
      " - Experiments folder: /group/cake/our-git-project/experiments\n"
     ]
    }
   ],
   "source": [
    "env = aneurysm_utils.Environment(project=\"our-git-project\", root_folder=ROOT)\n",
    "env.cached_data[\"comet_key\"] = \"EGrR4luSis87yhHbs2rEaqAWs\" \n",
    "env.print_info()"
   ]
  },
  {
   "cell_type": "markdown",
   "metadata": {},
   "source": [
    "## Load Data\n",
    "Download, explore, and prepare all required data for the experiment in this section."
   ]
  },
  {
   "cell_type": "code",
   "execution_count": 5,
   "metadata": {
    "ExecuteTime": {
     "end_time": "2021-07-04T18:57:13.684964Z",
     "start_time": "2021-07-04T18:57:13.606817Z"
    }
   },
   "outputs": [],
   "source": [
    "dataset_params = {\n",
    "    \"prediction\": \"labeled\",\n",
    "    \"mri_data_selection\": \"\", \n",
    "    \"balance_data\": False,\n",
    "    \"seed\": 1,\n",
    "    \"resample_voxel_dim\": (1,1,1)\n",
    "}\n",
    "\n",
    "preprocessing_params = {\n",
    "    'min_max_normalize': None,\n",
    "    'mean_std_normalize': False,\n",
    "    'smooth_img': False, # can contain a number: smoothing factor\n",
    "}\n"
   ]
  },
  {
   "cell_type": "markdown",
   "metadata": {},
   "source": [
    "### Load Meta Data"
   ]
  },
  {
   "cell_type": "code",
   "execution_count": 6,
   "metadata": {
    "ExecuteTime": {
     "end_time": "2021-07-04T18:57:14.460321Z",
     "start_time": "2021-07-04T18:57:14.325923Z"
    }
   },
   "outputs": [
    {
     "data": {
      "text/html": [
       "<div>\n",
       "<style scoped>\n",
       "    .dataframe tbody tr th:only-of-type {\n",
       "        vertical-align: middle;\n",
       "    }\n",
       "\n",
       "    .dataframe tbody tr th {\n",
       "        vertical-align: top;\n",
       "    }\n",
       "\n",
       "    .dataframe thead th {\n",
       "        text-align: right;\n",
       "    }\n",
       "</style>\n",
       "<table border=\"1\" class=\"dataframe\">\n",
       "  <thead>\n",
       "    <tr style=\"text-align: right;\">\n",
       "      <th></th>\n",
       "      <th>Aneurysm Geometry</th>\n",
       "      <th>Angiography Data</th>\n",
       "      <th>Vessel Geometry</th>\n",
       "      <th>Labeled Mask Index</th>\n",
       "      <th>Location</th>\n",
       "      <th>Age</th>\n",
       "      <th>Sex</th>\n",
       "      <th>Rupture Status</th>\n",
       "      <th>Age Bin</th>\n",
       "      <th>Aneurysm Count</th>\n",
       "      <th>Case</th>\n",
       "      <th>Path Orig</th>\n",
       "      <th>Path Mask</th>\n",
       "      <th>Path Vessel</th>\n",
       "      <th>Path Labeled Mask</th>\n",
       "    </tr>\n",
       "  </thead>\n",
       "  <tbody>\n",
       "    <tr>\n",
       "      <th>0</th>\n",
       "      <td>A001.stl</td>\n",
       "      <td>A001_orig.nii.gz</td>\n",
       "      <td>A001_vessel.stl</td>\n",
       "      <td>1</td>\n",
       "      <td>Acom</td>\n",
       "      <td>48</td>\n",
       "      <td>m</td>\n",
       "      <td>1.0</td>\n",
       "      <td>(40, 50]</td>\n",
       "      <td>1</td>\n",
       "      <td>A001</td>\n",
       "      <td>/data/training/A001_orig.nii.gz</td>\n",
       "      <td>/data/training/A001_masks.nii.gz</td>\n",
       "      <td>/data/training/A001_vessel.nii.gz</td>\n",
       "      <td>/data/training/A001_labeledMasks.nii.gz</td>\n",
       "    </tr>\n",
       "    <tr>\n",
       "      <th>1</th>\n",
       "      <td>A003.stl</td>\n",
       "      <td>A003_orig.nii.gz</td>\n",
       "      <td>A003_vessel.stl</td>\n",
       "      <td>1</td>\n",
       "      <td>Pcom</td>\n",
       "      <td>58</td>\n",
       "      <td>f</td>\n",
       "      <td>0.0</td>\n",
       "      <td>(50, 60]</td>\n",
       "      <td>1</td>\n",
       "      <td>A003</td>\n",
       "      <td>/data/training/A003_orig.nii.gz</td>\n",
       "      <td>/data/training/A003_masks.nii.gz</td>\n",
       "      <td>/data/training/A003_vessel.nii.gz</td>\n",
       "      <td>/data/training/A003_labeledMasks.nii.gz</td>\n",
       "    </tr>\n",
       "    <tr>\n",
       "      <th>2</th>\n",
       "      <td>A005.stl</td>\n",
       "      <td>A005_orig.nii.gz</td>\n",
       "      <td>A005_vessel.stl</td>\n",
       "      <td>1</td>\n",
       "      <td>PICA</td>\n",
       "      <td>45</td>\n",
       "      <td>m</td>\n",
       "      <td>1.0</td>\n",
       "      <td>(40, 50]</td>\n",
       "      <td>1</td>\n",
       "      <td>A005</td>\n",
       "      <td>/data/training/A005_orig.nii.gz</td>\n",
       "      <td>/data/training/A005_masks.nii.gz</td>\n",
       "      <td>/data/training/A005_vessel.nii.gz</td>\n",
       "      <td>/data/training/A005_labeledMasks.nii.gz</td>\n",
       "    </tr>\n",
       "    <tr>\n",
       "      <th>3</th>\n",
       "      <td>A006.stl</td>\n",
       "      <td>A006_orig.nii.gz</td>\n",
       "      <td>A006_vessel.stl</td>\n",
       "      <td>1</td>\n",
       "      <td>ACom</td>\n",
       "      <td>46</td>\n",
       "      <td>f</td>\n",
       "      <td>1.0</td>\n",
       "      <td>(40, 50]</td>\n",
       "      <td>1</td>\n",
       "      <td>A006</td>\n",
       "      <td>/data/training/A006_orig.nii.gz</td>\n",
       "      <td>/data/training/A006_masks.nii.gz</td>\n",
       "      <td>/data/training/A006_vessel.nii.gz</td>\n",
       "      <td>/data/training/A006_labeledMasks.nii.gz</td>\n",
       "    </tr>\n",
       "    <tr>\n",
       "      <th>4</th>\n",
       "      <td>A008.stl</td>\n",
       "      <td>A008_orig.nii.gz</td>\n",
       "      <td>A008_vessel.stl</td>\n",
       "      <td>1</td>\n",
       "      <td>ACA</td>\n",
       "      <td>72</td>\n",
       "      <td>f</td>\n",
       "      <td>0.0</td>\n",
       "      <td>(70, 80]</td>\n",
       "      <td>1</td>\n",
       "      <td>A008</td>\n",
       "      <td>/data/training/A008_orig.nii.gz</td>\n",
       "      <td>/data/training/A008_masks.nii.gz</td>\n",
       "      <td>/data/training/A008_vessel.nii.gz</td>\n",
       "      <td>/data/training/A008_labeledMasks.nii.gz</td>\n",
       "    </tr>\n",
       "  </tbody>\n",
       "</table>\n",
       "</div>"
      ],
      "text/plain": [
       "  Aneurysm Geometry  Angiography Data  Vessel Geometry  Labeled Mask Index  \\\n",
       "0          A001.stl  A001_orig.nii.gz  A001_vessel.stl                   1   \n",
       "1          A003.stl  A003_orig.nii.gz  A003_vessel.stl                   1   \n",
       "2          A005.stl  A005_orig.nii.gz  A005_vessel.stl                   1   \n",
       "3          A006.stl  A006_orig.nii.gz  A006_vessel.stl                   1   \n",
       "4          A008.stl  A008_orig.nii.gz  A008_vessel.stl                   1   \n",
       "\n",
       "  Location  Age Sex  Rupture Status   Age Bin  Aneurysm Count  Case  \\\n",
       "0     Acom   48   m             1.0  (40, 50]               1  A001   \n",
       "1     Pcom   58   f             0.0  (50, 60]               1  A003   \n",
       "2     PICA   45   m             1.0  (40, 50]               1  A005   \n",
       "3     ACom   46   f             1.0  (40, 50]               1  A006   \n",
       "4      ACA   72   f             0.0  (70, 80]               1  A008   \n",
       "\n",
       "                         Path Orig                         Path Mask  \\\n",
       "0  /data/training/A001_orig.nii.gz  /data/training/A001_masks.nii.gz   \n",
       "1  /data/training/A003_orig.nii.gz  /data/training/A003_masks.nii.gz   \n",
       "2  /data/training/A005_orig.nii.gz  /data/training/A005_masks.nii.gz   \n",
       "3  /data/training/A006_orig.nii.gz  /data/training/A006_masks.nii.gz   \n",
       "4  /data/training/A008_orig.nii.gz  /data/training/A008_masks.nii.gz   \n",
       "\n",
       "                         Path Vessel                        Path Labeled Mask  \n",
       "0  /data/training/A001_vessel.nii.gz  /data/training/A001_labeledMasks.nii.gz  \n",
       "1  /data/training/A003_vessel.nii.gz  /data/training/A003_labeledMasks.nii.gz  \n",
       "2  /data/training/A005_vessel.nii.gz  /data/training/A005_labeledMasks.nii.gz  \n",
       "3  /data/training/A006_vessel.nii.gz  /data/training/A006_labeledMasks.nii.gz  \n",
       "4  /data/training/A008_vessel.nii.gz  /data/training/A008_labeledMasks.nii.gz  "
      ]
     },
     "execution_count": 6,
     "metadata": {},
     "output_type": "execute_result"
    }
   ],
   "source": [
    "from aneurysm_utils.data_collection import load_aneurysm_dataset\n",
    "\n",
    "df = load_aneurysm_dataset(\n",
    "    env,\n",
    "    mri_data_selection=dataset_params[\"mri_data_selection\"],\n",
    "    random_state=dataset_params[\"seed\"]\n",
    ")\n",
    "df.head()"
   ]
  },
  {
   "cell_type": "code",
   "execution_count": 28,
   "metadata": {},
   "outputs": [
    {
     "name": "stdout",
     "output_type": "stream",
     "text": [
      "115    A130_R\n",
      "104      A118\n",
      "106      A120\n",
      "102      A115\n",
      "119      A133\n",
      "60       A073\n",
      "99       A114\n",
      "59       A072\n",
      "53       A064\n",
      "71       A084\n",
      "63       A077\n",
      "Name: Case, dtype: object\n"
     ]
    }
   ],
   "source": [
    "from sklearn.model_selection import train_test_split\n",
    "df_train, df_test = train_test_split(\n",
    "        df,\n",
    "        test_size=0.1,\n",
    "        shuffle=True,\n",
    "        random_state=1,\n",
    ")\n",
    "\n",
    "print(df_test[\"Case\"])\n"
   ]
  },
  {
   "cell_type": "code",
   "execution_count": 16,
   "metadata": {},
   "outputs": [
    {
     "name": "stdout",
     "output_type": "stream",
     "text": [
      "109\n",
      "98\n",
      "         Images\n",
      "-----  --------\n",
      "All         109\n",
      "Train        87\n",
      "Val          11\n",
      "Test         11\n",
      "\n"
     ]
    },
    {
     "data": {
      "application/vnd.jupyter.widget-view+json": {
       "model_id": "0ef12b8f3f204d76814466597981a948",
       "version_major": 2,
       "version_minor": 0
      },
      "text/plain": [
       "  0%|          | 0/87 [00:00<?, ?it/s]"
      ]
     },
     "metadata": {},
     "output_type": "display_data"
    },
    {
     "data": {
      "application/vnd.jupyter.widget-view+json": {
       "model_id": "b4bc72e2ea614e1d8db8fafe9e818528",
       "version_major": 2,
       "version_minor": 0
      },
      "text/plain": [
       "  0%|          | 0/11 [00:00<?, ?it/s]"
      ]
     },
     "metadata": {},
     "output_type": "display_data"
    },
    {
     "data": {
      "application/vnd.jupyter.widget-view+json": {
       "model_id": "4303c83c273547e28152b4fe7b54d671",
       "version_major": 2,
       "version_minor": 0
      },
      "text/plain": [
       "  0%|          | 0/11 [00:00<?, ?it/s]"
      ]
     },
     "metadata": {},
     "output_type": "display_data"
    },
    {
     "name": "stdout",
     "output_type": "stream",
     "text": [
      "109\n",
      "98\n",
      "         Images\n",
      "-----  --------\n",
      "All         109\n",
      "Train        87\n",
      "Val          11\n",
      "Test         11\n",
      "\n"
     ]
    },
    {
     "data": {
      "application/vnd.jupyter.widget-view+json": {
       "model_id": "53d4e8217c974be98ad9bb4489237f6c",
       "version_major": 2,
       "version_minor": 0
      },
      "text/plain": [
       "  0%|          | 0/87 [00:00<?, ?it/s]"
      ]
     },
     "metadata": {},
     "output_type": "display_data"
    },
    {
     "data": {
      "application/vnd.jupyter.widget-view+json": {
       "model_id": "9ecc1d4804ff457cac5f2796db02d7d3",
       "version_major": 2,
       "version_minor": 0
      },
      "text/plain": [
       "  0%|          | 0/11 [00:00<?, ?it/s]"
      ]
     },
     "metadata": {},
     "output_type": "display_data"
    },
    {
     "data": {
      "application/vnd.jupyter.widget-view+json": {
       "model_id": "3c863cff8f2a4ea1b46c726dd1fb4eb7",
       "version_major": 2,
       "version_minor": 0
      },
      "text/plain": [
       "  0%|          | 0/11 [00:00<?, ?it/s]"
      ]
     },
     "metadata": {},
     "output_type": "display_data"
    }
   ],
   "source": [
    "from aneurysm_utils.data_collection import split_mri_images\n",
    "\n",
    "train_data, test_data, val_data, _ = split_mri_images(\n",
    "    env, \n",
    "    df, \n",
    "    prediction=dataset_params[\"prediction\"], \n",
    "    encode_labels=False,\n",
    "    random_state=dataset_params[\"seed\"],\n",
    "    balance_data=dataset_params[\"balance_data\"],\n",
    "    resample_voxel_dim=dataset_params[\"resample_voxel_dim\"]\n",
    ")\n",
    "mri_imgs_test, labels_test = test_data\n",
    "\n",
    "train_data, test_data, val_data, _ = split_mri_images(\n",
    "    env, \n",
    "    df, \n",
    "    prediction=\"mask\", \n",
    "    encode_labels=False,\n",
    "    random_state=dataset_params[\"seed\"],\n",
    "    balance_data=dataset_params[\"balance_data\"],\n",
    "    resample_voxel_dim=dataset_params[\"resample_voxel_dim\"]\n",
    ")\n",
    "mri_imgs_test, invidual_labels_test = test_data"
   ]
  },
  {
   "cell_type": "code",
   "execution_count": 25,
   "metadata": {},
   "outputs": [
    {
     "name": "stdout",
     "output_type": "stream",
     "text": [
      "[0. 1. 2. 3. 4.]\n",
      "[0. 1.]\n",
      "[0. 1.]\n",
      "[0. 1. 2.]\n",
      "[0. 1.]\n",
      "[0. 1.]\n",
      "[0. 1. 2. 3.]\n",
      "[0. 1.]\n",
      "[0. 1.]\n",
      "[0. 1.]\n",
      "[0. 1.]\n",
      "115    4\n",
      "104    1\n",
      "106    1\n",
      "102    2\n",
      "119    1\n",
      "60     1\n",
      "99     3\n",
      "59     1\n",
      "53     1\n",
      "71     1\n",
      "63     1\n",
      "Name: Aneurysm Count, dtype: int64\n"
     ]
    }
   ],
   "source": [
    "for image in labels_test:\n",
    "    print(np.unique(image))\n",
    "print(df_test[\"Aneurysm Count\"])"
   ]
  },
  {
   "cell_type": "code",
   "execution_count": 102,
   "metadata": {},
   "outputs": [],
   "source": [
    "store_inviduals=invidual_labels_test\n",
    "store_lables=labels_test"
   ]
  },
  {
   "cell_type": "markdown",
   "metadata": {},
   "source": [
    "!free -m"
   ]
  },
  {
   "cell_type": "markdown",
   "metadata": {
    "ExecuteTime": {
     "end_time": "2021-07-04T21:14:13.029659Z",
     "start_time": "2021-07-04T21:14:06.808147Z"
    }
   },
   "source": [
    "from aneurysm_utils import data_collection,postprocessing \n",
    "mir_images, vessel_labels, patients = data_collection.load_mri_images(env,df,prediction=\"vessel\",case_list=case_list,resample_voxel_dim=None)"
   ]
  },
  {
   "cell_type": "markdown",
   "metadata": {
    "ExecuteTime": {
     "end_time": "2021-07-04T21:14:36.902988Z",
     "start_time": "2021-07-04T21:14:13.031572Z"
    }
   },
   "source": [
    "case_list=[\"A001\",\"A003\",\"A005\",\"A006\",\"A008\",\"A009\",\"A010\",\"A012\",\"A014\",\"A015\",\"A016\",\"A017_L_\",\"A018\",\"A019\"]\n",
    "\n",
    "mir_images, aneurysm_labels, patients = data_collection.load_mri_images(env,df,prediction=\"mask\",case_list=case_list)\n",
    "mir_images, invidiual_aneurysm_labels, patients = data_collection.load_mri_images(env,df,prediction=\"labeled\",case_list=case_list)\n"
   ]
  },
  {
   "cell_type": "code",
   "execution_count": 59,
   "metadata": {},
   "outputs": [
    {
     "data": {
      "text/plain": [
       "162"
      ]
     },
     "execution_count": 59,
     "metadata": {},
     "output_type": "execute_result"
    }
   ],
   "source": [
    "new= np.load(\"../markus/predictions.npy\")\n",
    "converter = map(lambda x: x[0], new)\n",
    "aneurysm_labels = list(converter)\n",
    "len(aneurysm_labels)"
   ]
  },
  {
   "cell_type": "markdown",
   "metadata": {},
   "source": [
    "for image in aneurysm_labels:\n",
    "    print(np.unique(image))"
   ]
  },
  {
   "cell_type": "code",
   "execution_count": 67,
   "metadata": {},
   "outputs": [],
   "source": [
    "def unify_alternativ(image, patch_size,most_common_shape):\n",
    "    \"\"\"\n",
    "    image: numpy.array\n",
    "          shape is (number_of_patches,h,w,d) , number_of_patches,heigth,width,depth\n",
    "    patch_size: 64\n",
    "\n",
    "    most_common_shape: tuple\n",
    "                for example(139,139,120)\n",
    "\n",
    "    Return\n",
    "\n",
    "    image: np.array\n",
    "\n",
    "          unified and unpatch image, shape (most_common_shape)\n",
    "\n",
    "\n",
    "    \"\"\"\n",
    "    number_of_patches,heigth,width,depth = image.shape\n",
    "\n",
    "    dim = np.array(most_common_shape)# size of the image\n",
    "    n_patches = np.ceil(dim/patch_size).astype(int) # calculates the number of patches for each dim, to cover all voxel at least once in form e.g[3,3,2]\n",
    "    rest  = n_patches * patch_size%dim ## calculates number of entries for each dimension which overlapp, means for example n_patches = 18 and 64 we have rest = 53\n",
    "    \n",
    "    h,w,d = most_common_shape\n",
    "\n",
    "    ## initializing empty array for the unified image\n",
    "    unified_image =  np.zeros([h,w,d])\n",
    "\n",
    "    counter = 0 ## counter for patches\n",
    "    print(counter)\n",
    "\n",
    "    \n",
    "    for i in range(n_patches[0]):\n",
    "\n",
    "        if i == n_patches[0]-1: ## only the last cube is an overlapped cube\n",
    "          start_x = i*patch_size-rest[0]\n",
    "          stop_x= (i+1)* patch_size-rest[0]\n",
    "\n",
    "        else:    \n",
    "          start_x = i*patch_size\n",
    "          stop_x = (i+1)* patch_size\n",
    "\n",
    "\n",
    "\n",
    "        for j in range(n_patches[1]):\n",
    "            if j == n_patches[1]-1: ## only the last cube is an overlapped cube\n",
    "                start_y = j*patch_size-rest[1]\n",
    "                stop_y= (j+1)* patch_size-rest[1]\n",
    "\n",
    "            else:    \n",
    "                start_y = j*patch_size\n",
    "                stop_y = (j+1)* patch_size\n",
    "\n",
    "            for k in range(n_patches[2]):\n",
    "                if k == n_patches[2]-1: \n",
    "                    start_z = k*patch_size-rest[2]\n",
    "                    stop_z = (k+1)* patch_size-rest[2]\n",
    "\n",
    "                else:    \n",
    "                    start_z = k*patch_size\n",
    "                    stop_z = (k+1)* patch_size\n",
    "\n",
    "\n",
    "              ##maximum between channel one or two, probably not necessary\n",
    "              #max_class = np.maximum(image[n,0,:,:,:],image[n,1,:,:,:])\n",
    "\n",
    "              ###includes overlapping case\n",
    "              #unified_image[start_x:stop_x,start_y:stop_y,start_z:stop_z] = np.maximum(unified_image[start_x:stop_x,start_y:stop_y,start_z:stop_z],max_class)\n",
    "                unified_image[start_x:stop_x,start_y:stop_y,start_z:stop_z] = np.maximum(unified_image[start_x:stop_x,start_y:stop_y,start_z:stop_z],image[counter,:,:,:])\n",
    "                \n",
    "                counter+=1## next patch\n",
    "                \n",
    "                if (counter==18):\n",
    "                    break;\n",
    "    \n",
    "    return unified_image"
   ]
  },
  {
   "cell_type": "code",
   "execution_count": 68,
   "metadata": {},
   "outputs": [],
   "source": [
    "def patch_unifier_alternativ(list_patches,size_test_set,most_common_shape,patch_size):\n",
    "  \"\"\"\n",
    "  list_patches: list\n",
    "                containing predictions from the evaluations, length should be number_of_patches x length_test_set\n",
    "                each element should have the form (h,w,d)\n",
    "  size_test_set: int\n",
    "\n",
    "  most_common_shape: tuple\n",
    "                most_common shape from the original input images before patchifying\n",
    "  \n",
    "  patch_size: int\n",
    "\n",
    "\n",
    "\n",
    "  Return:\n",
    "\n",
    "  unified_images: list\n",
    "                contains the unpatched images \n",
    "                each element has the shape:(most_common_shape) \n",
    "\n",
    "  \"\"\"\n",
    "  \n",
    "  dim = np.array(most_common_shape)\n",
    "  n_patches = np.ceil(dim/patch_size).astype(int)# output is number of patches per dimension\n",
    "\n",
    "  number_of_patches = np.prod(n_patches)# number of patches overall\n",
    "\n",
    "  h,w,d = most_common_shape\n",
    "  \n",
    "  unified_images = []\n",
    "  assert (len(list_patches)/(number_of_patches))== size_test_set\n",
    "  \n",
    "\n",
    "  ##output list: each element has the form (number_of_patches,n_classes,h,w,d)\n",
    "  images = np.split(np.array(list_patches),size_test_set)  \n",
    "\n",
    "  for n in range(size_test_set):\n",
    "        \n",
    "        unified_images.append(unify_alternativ(images[n],patch_size,most_common_shape))\n",
    "  assert len(unified_images) == size_test_set\n",
    "  return unified_images"
   ]
  },
  {
   "cell_type": "code",
   "execution_count": 94,
   "metadata": {},
   "outputs": [
    {
     "name": "stdout",
     "output_type": "stream",
     "text": [
      "0\n",
      "0\n",
      "0\n",
      "0\n",
      "0\n",
      "0\n",
      "0\n",
      "0\n",
      "0\n"
     ]
    }
   ],
   "source": [
    "aneurysm_labels_new=patch_unifier_alternativ(aneurysm_labels,9,(139,139,120),64)\n"
   ]
  },
  {
   "cell_type": "code",
   "execution_count": 70,
   "metadata": {},
   "outputs": [
    {
     "data": {
      "text/plain": [
       "9"
      ]
     },
     "execution_count": 70,
     "metadata": {},
     "output_type": "execute_result"
    }
   ],
   "source": [
    "len(aneurysm_labels_new)"
   ]
  },
  {
   "cell_type": "code",
   "execution_count": 95,
   "metadata": {
    "ExecuteTime": {
     "end_time": "2021-07-04T21:14:36.981774Z",
     "start_time": "2021-07-04T21:14:36.904949Z"
    }
   },
   "outputs": [],
   "source": [
    "\n",
    "postprocess_dict={ \n",
    "    \"dbscan\":True,\n",
    "    \"remove_border_candidates\":True,\n",
    "    \"resample\":True,\n",
    "    \"eps\":2,\n",
    "    \"min_samples\":30,\n",
    "    #\"evaluate_dbscan\":True,\n",
    "    \"invidual_aneurysm_labels\":invidual_labels_test,\n",
    "    \"size\":90\n",
    "                      \n",
    "}"
   ]
  },
  {
   "cell_type": "markdown",
   "metadata": {
    "ExecuteTime": {
     "end_time": "2021-07-04T21:14:37.196481Z",
     "start_time": "2021-07-04T21:14:36.985407Z"
    }
   },
   "source": [
    "for imagebla in aneurysm_labels_new_test:\n",
    "    print(np.unique(imagebla))"
   ]
  },
  {
   "cell_type": "code",
   "execution_count": 96,
   "metadata": {
    "ExecuteTime": {
     "end_time": "2021-07-04T21:15:02.378579Z",
     "start_time": "2021-07-04T21:14:37.199124Z"
    }
   },
   "outputs": [
    {
     "name": "stdout",
     "output_type": "stream",
     "text": [
      "[INFO] Postprocessing: DBSCAN...\n",
      "[INFO] Postprocessing: Removing noise...\n",
      "[INFO] Postprocessing: Removing border candidates...\n",
      "[0. 1.]\n",
      "[INFO] Postprocessing: Resample to Size(256, 256, 220)\n"
     ]
    }
   ],
   "source": [
    "from aneurysm_utils import postprocessing\n",
    "mri_imgs= postprocessing.postprocess(env,aneurysm_labels_new,postprocess_dict)\n"
   ]
  },
  {
   "cell_type": "markdown",
   "metadata": {},
   "source": [
    "for image in invidual_labels_test:\n",
    "    print(image.shape)\n",
    "invidual_labels_test.pop(6)\n",
    "invidual_labels_test.pop(8)\n",
    "labels_test.pop(6)\n",
    "labels_test.pop(8)\n",
    "for image in invidual_labels_test:\n",
    "    print(image.shape)"
   ]
  },
  {
   "cell_type": "code",
   "execution_count": 90,
   "metadata": {},
   "outputs": [
    {
     "name": "stdout",
     "output_type": "stream",
     "text": [
      "[0. 1.]\n",
      "[0. 1. 2. 3. 4. 5.]\n",
      "[0. 1. 2. 3. 4.]\n",
      "[0. 1. 2.]\n",
      "[0. 1. 2. 3. 4. 5. 6. 7. 8.]\n",
      "[0. 1. 2. 3.]\n",
      "[0. 1. 2. 3. 4. 5. 6.]\n",
      "[0. 1. 2. 3. 4.]\n",
      "[0. 1. 2. 3.]\n"
     ]
    }
   ],
   "source": [
    "for image in mri_imgs:\n",
    "    print(np.unique(image))"
   ]
  },
  {
   "cell_type": "code",
   "execution_count": 130,
   "metadata": {},
   "outputs": [
    {
     "name": "stdout",
     "output_type": "stream",
     "text": [
      "[0. 1. 2. 3. 4.]\n",
      "[0. 1.]\n",
      "[0. 1.]\n",
      "[0. 1. 2.]\n",
      "[0. 1.]\n",
      "[0. 1.]\n",
      "[0. 1.]\n",
      "[0. 1.]\n",
      "[0. 1.]\n"
     ]
    }
   ],
   "source": [
    "for image in labels_test:\n",
    "    print(np.unique(image))"
   ]
  },
  {
   "cell_type": "code",
   "execution_count": 77,
   "metadata": {},
   "outputs": [],
   "source": [
    "evaluation.draw_mask_3d(aneurysm_labels_new_test[1])"
   ]
  },
  {
   "cell_type": "code",
   "execution_count": 107,
   "metadata": {
    "ExecuteTime": {
     "end_time": "2021-07-04T21:15:10.565998Z",
     "start_time": "2021-07-04T21:15:02.380097Z"
    }
   },
   "outputs": [
    {
     "name": "stdout",
     "output_type": "stream",
     "text": [
      "[0. 1. 2. 3. 4.]\n",
      "[0. 1. 2. 3. 4.]\n",
      "[0. 1. 2. 3. 4.]\n",
      "[0. 1. 2. 3. 4.]\n",
      "[0. 1.]\n",
      "[0. 1.]\n",
      "[0. 1. 2.]\n",
      "[0. 1. 2.]\n",
      "[0. 1.]\n",
      "[0. 1.]\n",
      "[0. 1.]\n",
      "[0. 1.]\n",
      "[0. 1.]\n"
     ]
    }
   ],
   "source": [
    "bounding_boxes =postprocessing.bounding_boxes(labels_test)"
   ]
  },
  {
   "cell_type": "code",
   "execution_count": 112,
   "metadata": {},
   "outputs": [
    {
     "name": "stdout",
     "output_type": "stream",
     "text": [
      "std::vector<Eigen::Vector3d> with 8 elements.\n",
      "Use numpy.asarray() to access data.\n"
     ]
    }
   ],
   "source": []
  },
  {
   "cell_type": "code",
   "execution_count": 117,
   "metadata": {
    "ExecuteTime": {
     "end_time": "2021-07-04T21:16:48.682139Z",
     "start_time": "2021-07-04T21:16:48.609615Z"
    }
   },
   "outputs": [],
   "source": [
    "evaluation.draw_bounding_box(bounding_boxes[1][\"candidates\"],aneurysm_labels_new[1],aneurysm_array=labels_test[1])"
   ]
  },
  {
   "cell_type": "code",
   "execution_count": 133,
   "metadata": {},
   "outputs": [
    {
     "ename": "AttributeError",
     "evalue": "'tuple' object has no attribute 'T'",
     "output_type": "error",
     "traceback": [
      "\u001b[0;31m---------------------------------------------------------------------------\u001b[0m",
      "\u001b[0;31mAttributeError\u001b[0m                            Traceback (most recent call last)",
      "\u001b[0;32m<ipython-input-133-e8ac442e3bd8>\u001b[0m in \u001b[0;36m<module>\u001b[0;34m\u001b[0m\n\u001b[0;32m----> 1\u001b[0;31m \u001b[0mprint\u001b[0m\u001b[0;34m(\u001b[0m\u001b[0mnp\u001b[0m\u001b[0;34m.\u001b[0m\u001b[0mwhere\u001b[0m\u001b[0;34m(\u001b[0m\u001b[0mlabels_test\u001b[0m\u001b[0;34m[\u001b[0m\u001b[0;36m3\u001b[0m\u001b[0;34m]\u001b[0m\u001b[0;34m!=\u001b[0m\u001b[0;36m0\u001b[0m\u001b[0;34m)\u001b[0m\u001b[0;34m.\u001b[0m\u001b[0mT\u001b[0m\u001b[0;34m)\u001b[0m\u001b[0;34m\u001b[0m\u001b[0;34m\u001b[0m\u001b[0m\n\u001b[0m\u001b[1;32m      2\u001b[0m \u001b[0mevaluation\u001b[0m\u001b[0;34m.\u001b[0m\u001b[0mdraw_mask_3d\u001b[0m\u001b[0;34m(\u001b[0m\u001b[0mlabels_test\u001b[0m\u001b[0;34m[\u001b[0m\u001b[0;36m3\u001b[0m\u001b[0;34m]\u001b[0m\u001b[0;34m)\u001b[0m\u001b[0;34m\u001b[0m\u001b[0;34m\u001b[0m\u001b[0m\n",
      "\u001b[0;31mAttributeError\u001b[0m: 'tuple' object has no attribute 'T'"
     ]
    }
   ],
   "source": [
    "\n",
    "print(np.where(labels_test[3]!=0))\n",
    "evaluation.draw_mask_3d(labels_test[3])"
   ]
  },
  {
   "cell_type": "code",
   "execution_count": 123,
   "metadata": {},
   "outputs": [],
   "source": [
    "import pickle\n",
    "# print(len(mri_imgs))\n",
    "\n",
    "# with open(\"postprocessed_imgs.pkl\", \"wb\") as fp:   \n",
    "#     pickle.dump(mri_imgs, fp)"
   ]
  },
  {
   "cell_type": "markdown",
   "metadata": {},
   "source": [
    "with open(\"postprocessed_imgs.pkl\", \"wb\") as fp:   \n",
    "    pickle.dump(mri_imgs, fp)\n",
    "with open(\"labels_test.pkl\",\"wb\") as fp:\n",
    "    pickle.dump(invidual_labels_test,fp)\n",
    "with open(\"labels_test_invidual.pkl\",\"wb\") as fp:\n",
    "    pickle.dump(labels_test,fp)\n",
    "with open(\"neuralnet_output.pkl\",\"wb\") as fp:\n",
    "    pickle.dump(aneurysm_labels_new,fp)"
   ]
  },
  {
   "cell_type": "code",
   "execution_count": 1,
   "metadata": {
    "ExecuteTime": {
     "end_time": "2021-07-05T15:49:02.945644Z",
     "start_time": "2021-07-05T15:49:02.861482Z"
    },
    "scrolled": true
   },
   "outputs": [
    {
     "ename": "NameError",
     "evalue": "name 'evaluation' is not defined",
     "output_type": "error",
     "traceback": [
      "\u001b[0;31m---------------------------------------------------------------------------\u001b[0m",
      "\u001b[0;31mNameError\u001b[0m                                 Traceback (most recent call last)",
      "\u001b[0;32m/tmp/ipykernel_5783/2605784262.py\u001b[0m in \u001b[0;36m<module>\u001b[0;34m\u001b[0m\n\u001b[0;32m----> 1\u001b[0;31m \u001b[0mevaluation\u001b[0m\u001b[0;34m.\u001b[0m\u001b[0mdraw_bounding_box\u001b[0m\u001b[0;34m(\u001b[0m\u001b[0mbounding_boxes\u001b[0m\u001b[0;34m[\u001b[0m\u001b[0;36m9\u001b[0m\u001b[0;34m]\u001b[0m\u001b[0;34m[\u001b[0m\u001b[0;34m\"candidates\"\u001b[0m\u001b[0;34m]\u001b[0m\u001b[0;34m,\u001b[0m\u001b[0maneurysm_array\u001b[0m\u001b[0;34m=\u001b[0m\u001b[0mmri_imgs\u001b[0m\u001b[0;34m[\u001b[0m\u001b[0;36m9\u001b[0m\u001b[0;34m]\u001b[0m\u001b[0;34m,\u001b[0m\u001b[0mvessel_array\u001b[0m\u001b[0;34m=\u001b[0m\u001b[0mvessel_labels\u001b[0m\u001b[0;34m[\u001b[0m\u001b[0;36m9\u001b[0m\u001b[0;34m]\u001b[0m\u001b[0;34m)\u001b[0m\u001b[0;34m\u001b[0m\u001b[0;34m\u001b[0m\u001b[0m\n\u001b[0m",
      "\u001b[0;31mNameError\u001b[0m: name 'evaluation' is not defined"
     ]
    }
   ],
   "source": [
    "#evaluation.draw_bounding_box(bounding_boxes[9][\"candidates\"],aneurysm_array=mri_imgs[9],vessel_array=vessel_labels[9])"
   ]
  },
  {
   "cell_type": "code",
   "execution_count": 154,
   "metadata": {
    "ExecuteTime": {
     "end_time": "2021-07-04T21:38:07.730676Z",
     "start_time": "2021-07-04T21:38:07.652164Z"
    }
   },
   "outputs": [
    {
     "name": "stdout",
     "output_type": "stream",
     "text": [
      "(256, 256, 220)\n"
     ]
    }
   ],
   "source": [
    "from aneurysm_utils import evaluation"
   ]
  },
  {
   "cell_type": "code",
   "execution_count": 184,
   "metadata": {},
   "outputs": [
    {
     "name": "stdout",
     "output_type": "stream",
     "text": [
      "[0. 1. 2. 3. 4.]\n"
     ]
    }
   ],
   "source": [
    "print(np.unique(labels_test[0]))"
   ]
  },
  {
   "cell_type": "code",
   "execution_count": 57,
   "metadata": {},
   "outputs": [
    {
     "name": "stdout",
     "output_type": "stream",
     "text": [
      "685\n",
      "676\n",
      "36\n",
      "33\n",
      "24\n",
      "20\n",
      "12\n",
      "4\n",
      "685\n",
      "0\n",
      "36\n",
      "0\n",
      "24\n",
      "0\n",
      "12\n",
      "0\n",
      "685\n",
      "0\n",
      "36\n",
      "0\n",
      "24\n",
      "0\n",
      "12\n",
      "0\n",
      "685\n",
      "0\n",
      "36\n",
      "0\n",
      "24\n",
      "0\n",
      "12\n",
      "0\n",
      "685\n",
      "0\n",
      "36\n",
      "0\n",
      "24\n",
      "0\n",
      "12\n",
      "0\n",
      "685\n",
      "0\n",
      "36\n",
      "0\n",
      "24\n",
      "0\n",
      "12\n",
      "0\n",
      "685\n",
      "0\n",
      "36\n",
      "0\n",
      "24\n",
      "0\n",
      "12\n",
      "0\n",
      "478\n",
      "0\n",
      "478\n",
      "0\n",
      "478\n",
      "0\n",
      "181\n",
      "0\n",
      "106\n",
      "0\n",
      "181\n",
      "0\n",
      "106\n",
      "0\n",
      "181\n",
      "0\n",
      "106\n",
      "0\n",
      "165\n",
      "0\n",
      "165\n",
      "0\n",
      "34\n",
      "0\n",
      "22\n",
      "0\n",
      "7\n",
      "0\n",
      "34\n",
      "0\n",
      "22\n",
      "0\n",
      "7\n",
      "0\n",
      "34\n",
      "0\n",
      "22\n",
      "0\n",
      "7\n",
      "0\n",
      "34\n",
      "0\n",
      "22\n",
      "0\n",
      "7\n",
      "0\n",
      "34\n",
      "0\n",
      "22\n",
      "0\n",
      "7\n",
      "0\n",
      "34\n",
      "0\n",
      "22\n",
      "0\n",
      "7\n",
      "0\n",
      "42\n",
      "0\n",
      "42\n",
      "0\n",
      "42\n",
      "0\n",
      "42\n",
      "0\n",
      "42\n",
      "0\n",
      "36\n",
      "0\n",
      "36\n",
      "0\n",
      "36\n",
      "0\n",
      "36\n",
      "0\n"
     ]
    }
   ],
   "source": [
    "#score_dict2=evaluation.calc_scores_task_2(aneurysm_labels_new,invidual_labels_test,mri_imgs,labels_test)\n",
    "#score_dict1=evaluation.calc_scores_task_1(mri_imgs,labels_test,bounding_boxes)"
   ]
  },
  {
   "cell_type": "code",
   "execution_count": 58,
   "metadata": {},
   "outputs": [
    {
     "name": "stdout",
     "output_type": "stream",
     "text": [
      "{'coverage_score': {'all_data': array([[1.],\n",
      "       [0.],\n",
      "       [0.],\n",
      "       [0.],\n",
      "       [0.],\n",
      "       [0.],\n",
      "       [0.],\n",
      "       [0.],\n",
      "       [0.]]), 'average': 0.1111111111111111}, 'bbox_fit_score': {'all_data': array([[0.60284707],\n",
      "       [0.        ],\n",
      "       [0.25570241],\n",
      "       [0.28355416],\n",
      "       [0.21227435],\n",
      "       [0.        ],\n",
      "       [1.        ],\n",
      "       [0.63355907],\n",
      "       [0.4880805 ]]), 'average': 0.3862241741634581}, 'f2_score': {'all_data': array([[0.],\n",
      "       [0.],\n",
      "       [0.],\n",
      "       [0.],\n",
      "       [0.],\n",
      "       [0.],\n",
      "       [0.],\n",
      "       [0.],\n",
      "       [0.]]), 'average': 0.0}}\n"
     ]
    }
   ],
   "source": [
    "print(score_dict1)"
   ]
  },
  {
   "cell_type": "code",
   "execution_count": null,
   "metadata": {},
   "outputs": [],
   "source": [
    "final_score =evaluation.calc_total_segmentation_score(score_dict2)"
   ]
  }
 ],
 "metadata": {
  "interpreter": {
   "hash": "4cd7ab41f5fca4b9b44701077e38c5ffd31fe66a6cab21e0214b68d958d0e462"
  },
  "jupytext": {
   "cell_metadata_filter": "-all",
   "encoding": "# coding: utf-8",
   "executable": "/usr/bin/env python",
   "notebook_metadata_filter": "-all",
   "text_representation": {
    "extension": ".py",
    "format_name": "percent"
   }
  },
  "kernelspec": {
   "display_name": "tab_nine_terminal",
   "language": "python",
   "name": "exploration-tutorial"
  },
  "language_info": {
   "codemirror_mode": {
    "name": "ipython",
    "version": 3
   },
   "file_extension": ".py",
   "mimetype": "text/x-python",
   "name": "python",
   "nbconvert_exporter": "python",
   "pygments_lexer": "ipython3",
   "version": "3.8.10"
  },
  "toc": {
   "base_numbering": 1,
   "nav_menu": {},
   "number_sections": false,
   "sideBar": true,
   "skip_h1_title": false,
   "title_cell": "Table of Contents",
   "title_sidebar": "Contents",
   "toc_cell": false,
   "toc_position": {
    "height": "calc(100% - 180px)",
    "left": "10px",
    "top": "150px",
    "width": "288px"
   },
   "toc_section_display": true,
   "toc_window_display": true
  }
 },
 "nbformat": 4,
 "nbformat_minor": 4
}
