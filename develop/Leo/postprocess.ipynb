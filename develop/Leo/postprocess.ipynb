{
 "cells": [
  {
   "cell_type": "markdown",
   "metadata": {},
   "source": [
    "# Post Processing\n",
    "\n",
    "**In this notebook:**\n",
    "\n",
    "* Test DBSCAN for post processing"
   ]
  },
  {
   "cell_type": "markdown",
   "metadata": {},
   "source": [
    "## Dependencies\n",
    "Install, load, and initialize all required dependencies for this experiment.\n",
    "\n",
    "### Install Dependencies"
   ]
  },
  {
   "cell_type": "code",
   "execution_count": 1,
   "metadata": {
    "ExecuteTime": {
     "end_time": "2021-07-04T18:43:02.584226Z",
     "start_time": "2021-07-04T18:42:25.857703Z"
    }
   },
   "outputs": [
    {
     "name": "stdout",
     "output_type": "stream",
     "text": [
      "\u001b[0m"
     ]
    }
   ],
   "source": [
    "#It should be possible to run the notebook independent of anything else. \n",
    "# If dependency cannot be installed via pip, either:\n",
    "# - download & install it via %%bash\n",
    "# - atleast mention those dependecies in this section\n",
    "\n",
    "import sys\n",
    "!{sys.executable} -m pip install -q -e ../../utils/"
   ]
  },
  {
   "cell_type": "markdown",
   "metadata": {},
   "source": [
    "# System libraries"
   ]
  },
  {
   "cell_type": "code",
   "execution_count": 22,
   "metadata": {
    "ExecuteTime": {
     "end_time": "2021-07-04T18:57:11.602149Z",
     "start_time": "2021-07-04T18:57:11.502096Z"
    }
   },
   "outputs": [
    {
     "name": "stdout",
     "output_type": "stream",
     "text": [
      "The autoreload extension is already loaded. To reload it, use:\n",
      "  %reload_ext autoreload\n"
     ]
    }
   ],
   "source": [
    "from __future__ import absolute_import, division, print_function\n",
    "import logging, os, sys\n",
    "\n",
    "# Enable logging\n",
    "logging.basicConfig(format='[%(levelname)s] %(message)s', level=logging.INFO, stream=sys.stdout)\n",
    "\n",
    "# Re-import packages if they change\n",
    "%load_ext autoreload\n",
    "%autoreload 2\n",
    "\n",
    "# Recursion Depth\n",
    "import sys\n",
    "sys.setrecursionlimit(10000)\n",
    "\n",
    "# Intialize tqdm to always use the notebook progress bar\n",
    "import tqdm\n",
    "tqdm.tqdm = tqdm.tqdm_notebook\n",
    "\n",
    "# Third-party libraries\n",
    "import comet_ml\n",
    "import numpy as np\n",
    "import pandas as pd\n",
    "import nilearn.plotting as nip\n",
    "import matplotlib.pyplot as plt\n",
    "import nibabel as nib\n",
    "import numpy as np\n",
    "import collections\n",
    "%matplotlib inline\n",
    "plt.rcParams[\"figure.figsize\"] = (12,6)\n",
    "%config InlineBackend.figure_format='retina'  # adapt plots for retina displays\n",
    "import git\n",
    "\n",
    "\n",
    "# Project utils\n",
    "\n",
    "import aneurysm_utils\n",
    "from aneurysm_utils import evaluation, training\n"
   ]
  },
  {
   "cell_type": "markdown",
   "metadata": {},
   "source": [
    "### Initialize Environment"
   ]
  },
  {
   "cell_type": "code",
   "execution_count": 23,
   "metadata": {
    "ExecuteTime": {
     "end_time": "2021-07-04T18:57:12.754622Z",
     "start_time": "2021-07-04T18:57:12.677426Z"
    }
   },
   "outputs": [
    {
     "name": "stdout",
     "output_type": "stream",
     "text": [
      "Environment Info:\n",
      "\n",
      "Library Version: 0.1.0\n",
      "Configured Project: our-git-project\n",
      "\n",
      "Folder Structure: \n",
      "- Root folder: /workspace\n",
      " - Project folder: /workspace/our-git-project\n",
      " - Datasets folder: /workspace/our-git-project/datasets\n",
      " - Models folder: /workspace/our-git-project/models\n",
      " - Experiments folder: /workspace/our-git-project/experiments\n"
     ]
    }
   ],
   "source": [
    "env = aneurysm_utils.Environment(project=\"our-git-project\", root_folder=\"/workspace/\")\n",
    "env.cached_data[\"comet_key\"] = \"EGrR4luSis87yhHbs2rEaqAWs\" \n",
    "env.print_info()"
   ]
  },
  {
   "cell_type": "markdown",
   "metadata": {},
   "source": [
    "## Load Data\n",
    "Download, explore, and prepare all required data for the experiment in this section."
   ]
  },
  {
   "cell_type": "code",
   "execution_count": 24,
   "metadata": {
    "ExecuteTime": {
     "end_time": "2021-07-04T18:57:13.684964Z",
     "start_time": "2021-07-04T18:57:13.606817Z"
    }
   },
   "outputs": [],
   "source": [
    "dataset_params = {\n",
    "    \"prediction\": \"LabeledMask\",\n",
    "    \"mri_data_selection\": \"\", \n",
    "    \"balance_data\": False,\n",
    "    \"seed\": 1,\n",
    "    \"resample_voxel_dim\": None\n",
    "}\n",
    "\n",
    "preprocessing_params = {\n",
    "    'min_max_normalize': None,\n",
    "    'mean_std_normalize': False,\n",
    "    'smooth_img': False, # can contain a number: smoothing factor\n",
    "}\n"
   ]
  },
  {
   "cell_type": "markdown",
   "metadata": {},
   "source": [
    "### Load Meta Data"
   ]
  },
  {
   "cell_type": "code",
   "execution_count": 25,
   "metadata": {
    "ExecuteTime": {
     "end_time": "2021-07-04T18:57:14.460321Z",
     "start_time": "2021-07-04T18:57:14.325923Z"
    }
   },
   "outputs": [
    {
     "data": {
      "text/html": [
       "<div>\n",
       "<style scoped>\n",
       "    .dataframe tbody tr th:only-of-type {\n",
       "        vertical-align: middle;\n",
       "    }\n",
       "\n",
       "    .dataframe tbody tr th {\n",
       "        vertical-align: top;\n",
       "    }\n",
       "\n",
       "    .dataframe thead th {\n",
       "        text-align: right;\n",
       "    }\n",
       "</style>\n",
       "<table border=\"1\" class=\"dataframe\">\n",
       "  <thead>\n",
       "    <tr style=\"text-align: right;\">\n",
       "      <th></th>\n",
       "      <th>Aneurysm Geometry</th>\n",
       "      <th>Angiography Data</th>\n",
       "      <th>Vessel Geometry</th>\n",
       "      <th>Labeled Mask Index</th>\n",
       "      <th>Location</th>\n",
       "      <th>Age</th>\n",
       "      <th>Sex</th>\n",
       "      <th>Rupture Status</th>\n",
       "      <th>Age Bin</th>\n",
       "      <th>Aneurysm Count</th>\n",
       "      <th>Case</th>\n",
       "      <th>Path Orig</th>\n",
       "      <th>Path Mask</th>\n",
       "      <th>Path Vessel</th>\n",
       "      <th>Path Labeled Mask</th>\n",
       "    </tr>\n",
       "  </thead>\n",
       "  <tbody>\n",
       "    <tr>\n",
       "      <th>0</th>\n",
       "      <td>A001.stl</td>\n",
       "      <td>A001_orig.nii.gz</td>\n",
       "      <td>A001_vessel.stl</td>\n",
       "      <td>1</td>\n",
       "      <td>Acom</td>\n",
       "      <td>48</td>\n",
       "      <td>m</td>\n",
       "      <td>1.0</td>\n",
       "      <td>(40, 50]</td>\n",
       "      <td>1</td>\n",
       "      <td>A001</td>\n",
       "      <td>/workspace/our-git-project/datasets/A001_orig....</td>\n",
       "      <td>/workspace/our-git-project/datasets/A001_masks...</td>\n",
       "      <td>/workspace/our-git-project/datasets/A001_vesse...</td>\n",
       "      <td>/workspace/our-git-project/datasets/A001_label...</td>\n",
       "    </tr>\n",
       "    <tr>\n",
       "      <th>1</th>\n",
       "      <td>A003.stl</td>\n",
       "      <td>A003_orig.nii.gz</td>\n",
       "      <td>A003_vessel.stl</td>\n",
       "      <td>1</td>\n",
       "      <td>Pcom</td>\n",
       "      <td>58</td>\n",
       "      <td>f</td>\n",
       "      <td>0.0</td>\n",
       "      <td>(50, 60]</td>\n",
       "      <td>1</td>\n",
       "      <td>A003</td>\n",
       "      <td>/workspace/our-git-project/datasets/A003_orig....</td>\n",
       "      <td>/workspace/our-git-project/datasets/A003_masks...</td>\n",
       "      <td>/workspace/our-git-project/datasets/A003_vesse...</td>\n",
       "      <td>/workspace/our-git-project/datasets/A003_label...</td>\n",
       "    </tr>\n",
       "    <tr>\n",
       "      <th>2</th>\n",
       "      <td>A005.stl</td>\n",
       "      <td>A005_orig.nii.gz</td>\n",
       "      <td>A005_vessel.stl</td>\n",
       "      <td>1</td>\n",
       "      <td>PICA</td>\n",
       "      <td>45</td>\n",
       "      <td>m</td>\n",
       "      <td>1.0</td>\n",
       "      <td>(40, 50]</td>\n",
       "      <td>1</td>\n",
       "      <td>A005</td>\n",
       "      <td>/workspace/our-git-project/datasets/A005_orig....</td>\n",
       "      <td>/workspace/our-git-project/datasets/A005_masks...</td>\n",
       "      <td>/workspace/our-git-project/datasets/A005_vesse...</td>\n",
       "      <td>/workspace/our-git-project/datasets/A005_label...</td>\n",
       "    </tr>\n",
       "    <tr>\n",
       "      <th>3</th>\n",
       "      <td>A006.stl</td>\n",
       "      <td>A006_orig.nii.gz</td>\n",
       "      <td>A006_vessel.stl</td>\n",
       "      <td>1</td>\n",
       "      <td>ACom</td>\n",
       "      <td>46</td>\n",
       "      <td>f</td>\n",
       "      <td>1.0</td>\n",
       "      <td>(40, 50]</td>\n",
       "      <td>1</td>\n",
       "      <td>A006</td>\n",
       "      <td>/workspace/our-git-project/datasets/A006_orig....</td>\n",
       "      <td>/workspace/our-git-project/datasets/A006_masks...</td>\n",
       "      <td>/workspace/our-git-project/datasets/A006_vesse...</td>\n",
       "      <td>/workspace/our-git-project/datasets/A006_label...</td>\n",
       "    </tr>\n",
       "    <tr>\n",
       "      <th>4</th>\n",
       "      <td>A008.stl</td>\n",
       "      <td>A008_orig.nii.gz</td>\n",
       "      <td>A008_vessel.stl</td>\n",
       "      <td>1</td>\n",
       "      <td>ACA</td>\n",
       "      <td>72</td>\n",
       "      <td>f</td>\n",
       "      <td>0.0</td>\n",
       "      <td>(70, 80]</td>\n",
       "      <td>1</td>\n",
       "      <td>A008</td>\n",
       "      <td>/workspace/our-git-project/datasets/A008_orig....</td>\n",
       "      <td>/workspace/our-git-project/datasets/A008_masks...</td>\n",
       "      <td>/workspace/our-git-project/datasets/A008_vesse...</td>\n",
       "      <td>/workspace/our-git-project/datasets/A008_label...</td>\n",
       "    </tr>\n",
       "  </tbody>\n",
       "</table>\n",
       "</div>"
      ],
      "text/plain": [
       "  Aneurysm Geometry  Angiography Data  Vessel Geometry  Labeled Mask Index  \\\n",
       "0          A001.stl  A001_orig.nii.gz  A001_vessel.stl                   1   \n",
       "1          A003.stl  A003_orig.nii.gz  A003_vessel.stl                   1   \n",
       "2          A005.stl  A005_orig.nii.gz  A005_vessel.stl                   1   \n",
       "3          A006.stl  A006_orig.nii.gz  A006_vessel.stl                   1   \n",
       "4          A008.stl  A008_orig.nii.gz  A008_vessel.stl                   1   \n",
       "\n",
       "  Location  Age Sex  Rupture Status   Age Bin  Aneurysm Count  Case  \\\n",
       "0     Acom   48   m             1.0  (40, 50]               1  A001   \n",
       "1     Pcom   58   f             0.0  (50, 60]               1  A003   \n",
       "2     PICA   45   m             1.0  (40, 50]               1  A005   \n",
       "3     ACom   46   f             1.0  (40, 50]               1  A006   \n",
       "4      ACA   72   f             0.0  (70, 80]               1  A008   \n",
       "\n",
       "                                           Path Orig  \\\n",
       "0  /workspace/our-git-project/datasets/A001_orig....   \n",
       "1  /workspace/our-git-project/datasets/A003_orig....   \n",
       "2  /workspace/our-git-project/datasets/A005_orig....   \n",
       "3  /workspace/our-git-project/datasets/A006_orig....   \n",
       "4  /workspace/our-git-project/datasets/A008_orig....   \n",
       "\n",
       "                                           Path Mask  \\\n",
       "0  /workspace/our-git-project/datasets/A001_masks...   \n",
       "1  /workspace/our-git-project/datasets/A003_masks...   \n",
       "2  /workspace/our-git-project/datasets/A005_masks...   \n",
       "3  /workspace/our-git-project/datasets/A006_masks...   \n",
       "4  /workspace/our-git-project/datasets/A008_masks...   \n",
       "\n",
       "                                         Path Vessel  \\\n",
       "0  /workspace/our-git-project/datasets/A001_vesse...   \n",
       "1  /workspace/our-git-project/datasets/A003_vesse...   \n",
       "2  /workspace/our-git-project/datasets/A005_vesse...   \n",
       "3  /workspace/our-git-project/datasets/A006_vesse...   \n",
       "4  /workspace/our-git-project/datasets/A008_vesse...   \n",
       "\n",
       "                                   Path Labeled Mask  \n",
       "0  /workspace/our-git-project/datasets/A001_label...  \n",
       "1  /workspace/our-git-project/datasets/A003_label...  \n",
       "2  /workspace/our-git-project/datasets/A005_label...  \n",
       "3  /workspace/our-git-project/datasets/A006_label...  \n",
       "4  /workspace/our-git-project/datasets/A008_label...  "
      ]
     },
     "execution_count": 25,
     "metadata": {},
     "output_type": "execute_result"
    }
   ],
   "source": [
    "from aneurysm_utils.data_collection import load_aneurysm_dataset\n",
    "\n",
    "df = load_aneurysm_dataset(\n",
    "    env,\n",
    "    mri_data_selection=dataset_params[\"mri_data_selection\"],\n",
    "    random_state=dataset_params[\"seed\"]\n",
    ")\n",
    "df.head()"
   ]
  },
  {
   "cell_type": "code",
   "execution_count": 115,
   "metadata": {
    "ExecuteTime": {
     "end_time": "2021-07-04T21:14:13.029659Z",
     "start_time": "2021-07-04T21:14:06.808147Z"
    }
   },
   "outputs": [
    {
     "data": {
      "application/vnd.jupyter.widget-view+json": {
       "model_id": "eb70a7c82d4b4b578ad8bfd0dfb4132f",
       "version_major": 2,
       "version_minor": 0
      },
      "text/plain": [
       "  0%|          | 0/13 [00:00<?, ?it/s]"
      ]
     },
     "metadata": {},
     "output_type": "display_data"
    }
   ],
   "source": [
    "from aneurysm_utils import data_collection,postprocessing \n",
    "mir_images, vessel_labels, patients = data_collection.load_mri_images(env,df,prediction=\"vessel\",case_list=case_list,resample_voxel_dim=None)"
   ]
  },
  {
   "cell_type": "code",
   "execution_count": 116,
   "metadata": {
    "ExecuteTime": {
     "end_time": "2021-07-04T21:14:36.902988Z",
     "start_time": "2021-07-04T21:14:13.031572Z"
    }
   },
   "outputs": [
    {
     "data": {
      "application/vnd.jupyter.widget-view+json": {
       "model_id": "f604ba1d588544ac80871eedd463c23c",
       "version_major": 2,
       "version_minor": 0
      },
      "text/plain": [
       "  0%|          | 0/13 [00:00<?, ?it/s]"
      ]
     },
     "metadata": {},
     "output_type": "display_data"
    },
    {
     "data": {
      "application/vnd.jupyter.widget-view+json": {
       "model_id": "ab10a790391844818491fbc0d036b97e",
       "version_major": 2,
       "version_minor": 0
      },
      "text/plain": [
       "  0%|          | 0/13 [00:00<?, ?it/s]"
      ]
     },
     "metadata": {},
     "output_type": "display_data"
    }
   ],
   "source": [
    "case_list=[\"A001\",\"A003\",\"A005\",\"A006\",\"A008\",\"A009\",\"A010\",\"A012\",\"A014\",\"A015\",\"A016\",\"A017_L_\",\"A018\",\"A019\"]\n",
    "\n",
    "mir_images, aneurysm_labels, patients = data_collection.load_mri_images(env,df,prediction=\"mask\",case_list=case_list)\n",
    "mir_images, invidiual_aneurysm_labels, patients = data_collection.load_mri_images(env,df,prediction=\"labeled\",case_list=case_list)"
   ]
  },
  {
   "cell_type": "code",
   "execution_count": 117,
   "metadata": {
    "ExecuteTime": {
     "end_time": "2021-07-04T21:14:36.981774Z",
     "start_time": "2021-07-04T21:14:36.904949Z"
    }
   },
   "outputs": [],
   "source": [
    "\n",
    "postprocess_dict={ \n",
    "    \"dbscan\":True,\n",
    "    \"remove_border_candidates\":True,\n",
    "    \"resample\":True,\n",
    "    \"evaluate_dbscan\":True,\n",
    "    \"invidual_aneurysm_labels\":invidiual_aneurysm_labels,\n",
    "    \"cases\": patients\n",
    "                      \n",
    "}"
   ]
  },
  {
   "cell_type": "code",
   "execution_count": 118,
   "metadata": {
    "ExecuteTime": {
     "end_time": "2021-07-04T21:14:37.196481Z",
     "start_time": "2021-07-04T21:14:36.985407Z"
    }
   },
   "outputs": [
    {
     "name": "stdout",
     "output_type": "stream",
     "text": [
      "[0. 1.]\n",
      "[0. 1.]\n",
      "[0. 1.]\n",
      "[0. 1.]\n",
      "[0. 1.]\n",
      "[0. 1.]\n",
      "[0. 1.]\n",
      "[0. 1.]\n",
      "[0. 1.]\n",
      "[0. 1.]\n",
      "[0. 1.]\n",
      "[0. 1.]\n",
      "[0. 1.]\n"
     ]
    }
   ],
   "source": [
    "for image in aneurysm_labels:\n",
    "    print(np.unique(image))"
   ]
  },
  {
   "cell_type": "code",
   "execution_count": 119,
   "metadata": {
    "ExecuteTime": {
     "end_time": "2021-07-04T21:15:02.378579Z",
     "start_time": "2021-07-04T21:14:37.199124Z"
    }
   },
   "outputs": [
    {
     "name": "stdout",
     "output_type": "stream",
     "text": [
      "[INFO] Postprocessing: DBSCAN...\n",
      "[INFO] Postprocessing: Evaluating DBSCAN\n",
      "[INFO] {'A001': {'predicted_cluster_1': {'true_cluster_1': 1.0}}, 'A003': {'predicted_cluster_1': {'true_cluster_1': 1.0}}, 'A005': {'predicted_cluster_1': {'true_cluster_1': 1.0}}, 'A006': {'predicted_cluster_1': {'true_cluster_1': 1.0}}, 'A008': {'predicted_cluster_1': {'true_cluster_1': 1.0}}, 'A009': {'predicted_cluster_1': {'true_cluster_1': 1.0}}, 'A010': {'predicted_cluster_1': {'true_cluster_1': 1.0}}, 'A012': {'predicted_cluster_1': {'true_cluster_1': 1.0}}, 'A014': {'predicted_cluster_1': {'true_cluster_1': 1.0}}, 'A015': {'predicted_cluster_1': {'true_cluster_1': 1.0}}, 'A016': {'predicted_cluster_1': {'true_cluster_1': 1.0}}, 'A018': {'predicted_cluster_1': {'true_cluster_1': 1.0}}, 'A019': {'predicted_cluster_1': {'true_cluster_1': 1.0}}}\n",
      "[INFO] Postprocessing: Removing border candidates...\n",
      "[INFO] Postprocessing: Resample to Size(256, 256, 220)\n"
     ]
    }
   ],
   "source": [
    "np.array(np.where(aneurysm_labels[0]==1)).T\n",
    "mri_imgs= postprocessing.postprocess(env,aneurysm_labels,postprocess_dict)"
   ]
  },
  {
   "cell_type": "code",
   "execution_count": 120,
   "metadata": {
    "ExecuteTime": {
     "end_time": "2021-07-04T21:15:10.565998Z",
     "start_time": "2021-07-04T21:15:02.380097Z"
    }
   },
   "outputs": [
    {
     "name": "stdout",
     "output_type": "stream",
     "text": [
      "[0. 1.]\n",
      "[-0.  1.]\n",
      "[0. 1.]\n",
      "[0. 1.]\n",
      "[0. 1.]\n",
      "[0. 1.]\n",
      "[-0.  1.]\n",
      "[0. 1.]\n",
      "[0. 1.]\n",
      "[-0.  1.]\n",
      "[0. 1.]\n",
      "[0. 1.]\n",
      "[0. 1.]\n"
     ]
    }
   ],
   "source": [
    "bounding_boxes =postprocessing.bounding_boxes(mri_imgs,patients)"
   ]
  },
  {
   "cell_type": "code",
   "execution_count": 124,
   "metadata": {
    "ExecuteTime": {
     "end_time": "2021-07-04T21:16:48.682139Z",
     "start_time": "2021-07-04T21:16:48.609615Z"
    }
   },
   "outputs": [
    {
     "name": "stdout",
     "output_type": "stream",
     "text": [
      "(256, 256, 220)\n"
     ]
    },
    {
     "data": {
      "text/plain": [
       "(256, 256, 220)"
      ]
     },
     "execution_count": 124,
     "metadata": {},
     "output_type": "execute_result"
    }
   ],
   "source": [
    "print(vessel_labels[9].shape)\n",
    "mri_imgs[9].shape"
   ]
  },
  {
   "cell_type": "code",
   "execution_count": null,
   "metadata": {},
   "outputs": [],
   "source": []
  },
  {
   "cell_type": "code",
   "execution_count": 1,
   "metadata": {
    "ExecuteTime": {
     "end_time": "2021-07-05T15:49:02.945644Z",
     "start_time": "2021-07-05T15:49:02.861482Z"
    },
    "scrolled": true
   },
   "outputs": [
    {
     "ename": "NameError",
     "evalue": "name 'evaluation' is not defined",
     "output_type": "error",
     "traceback": [
      "\u001b[0;31m---------------------------------------------------------------------------\u001b[0m",
      "\u001b[0;31mNameError\u001b[0m                                 Traceback (most recent call last)",
      "\u001b[0;32m/tmp/ipykernel_5783/2605784262.py\u001b[0m in \u001b[0;36m<module>\u001b[0;34m\u001b[0m\n\u001b[0;32m----> 1\u001b[0;31m \u001b[0mevaluation\u001b[0m\u001b[0;34m.\u001b[0m\u001b[0mdraw_bounding_box\u001b[0m\u001b[0;34m(\u001b[0m\u001b[0mbounding_boxes\u001b[0m\u001b[0;34m[\u001b[0m\u001b[0;36m9\u001b[0m\u001b[0;34m]\u001b[0m\u001b[0;34m[\u001b[0m\u001b[0;34m\"candidates\"\u001b[0m\u001b[0;34m]\u001b[0m\u001b[0;34m,\u001b[0m\u001b[0maneurysm_array\u001b[0m\u001b[0;34m=\u001b[0m\u001b[0mmri_imgs\u001b[0m\u001b[0;34m[\u001b[0m\u001b[0;36m9\u001b[0m\u001b[0;34m]\u001b[0m\u001b[0;34m,\u001b[0m\u001b[0mvessel_array\u001b[0m\u001b[0;34m=\u001b[0m\u001b[0mvessel_labels\u001b[0m\u001b[0;34m[\u001b[0m\u001b[0;36m9\u001b[0m\u001b[0;34m]\u001b[0m\u001b[0;34m)\u001b[0m\u001b[0;34m\u001b[0m\u001b[0;34m\u001b[0m\u001b[0m\n\u001b[0m",
      "\u001b[0;31mNameError\u001b[0m: name 'evaluation' is not defined"
     ]
    }
   ],
   "source": [
    "evaluation.draw_bounding_box(bounding_boxes[9][\"candidates\"],aneurysm_array=mri_imgs[9],vessel_array=vessel_labels[9])"
   ]
  },
  {
   "cell_type": "code",
   "execution_count": 154,
   "metadata": {
    "ExecuteTime": {
     "end_time": "2021-07-04T21:38:07.730676Z",
     "start_time": "2021-07-04T21:38:07.652164Z"
    }
   },
   "outputs": [
    {
     "name": "stdout",
     "output_type": "stream",
     "text": [
      "(256, 256, 220)\n"
     ]
    }
   ],
   "source": [
    "from aneurysm_utils import evaluation"
   ]
  },
  {
   "cell_type": "code",
   "execution_count": null,
   "metadata": {},
   "outputs": [],
   "source": [
    "score_dict2=evaluation.calc_scores_task_2(aneurysm_labels,aneurysm_labels,mir_imgs,invidual_aneurysm_labels)\n",
    "score_dict1=evaluation.calc_scores_task_1(mri_imgs,invidual_aneurysm_labels,bounding_boxes)"
   ]
  },
  {
   "cell_type": "code",
   "execution_count": null,
   "metadata": {},
   "outputs": [],
   "source": [
    "final_score =evaluation.calc_total_segmentation_score(score_dict2)"
   ]
  }
 ],
 "metadata": {
  "interpreter": {
   "hash": "4cd7ab41f5fca4b9b44701077e38c5ffd31fe66a6cab21e0214b68d958d0e462"
  },
  "jupytext": {
   "cell_metadata_filter": "-all",
   "encoding": "# coding: utf-8",
   "executable": "/usr/bin/env python",
   "notebook_metadata_filter": "-all",
   "text_representation": {
    "extension": ".py",
    "format_name": "percent"
   }
  },
  "kernelspec": {
   "display_name": "Python 3 (ipykernel)",
   "language": "python",
   "name": "python3"
  },
  "language_info": {
   "codemirror_mode": {
    "name": "ipython",
    "version": 3
   },
   "file_extension": ".py",
   "mimetype": "text/x-python",
   "name": "python",
   "nbconvert_exporter": "python",
   "pygments_lexer": "ipython3",
   "version": "3.8.5"
  },
  "toc": {
   "base_numbering": 1,
   "nav_menu": {},
   "number_sections": false,
   "sideBar": true,
   "skip_h1_title": false,
   "title_cell": "Table of Contents",
   "title_sidebar": "Contents",
   "toc_cell": false,
   "toc_position": {
    "height": "calc(100% - 180px)",
    "left": "10px",
    "top": "150px",
    "width": "288px"
   },
   "toc_section_display": true,
   "toc_window_display": true
  }
 },
 "nbformat": 4,
 "nbformat_minor": 4
}
