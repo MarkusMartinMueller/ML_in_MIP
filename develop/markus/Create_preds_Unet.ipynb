{
 "cells": [
  {
   "cell_type": "code",
   "execution_count": null,
   "id": "279fa8ea",
   "metadata": {},
   "outputs": [],
   "source": [
    "from __future__ import absolute_import, division, print_function\n",
    "import logging, os, sys\n",
    "\n",
    "# Enable logging\n",
    "logging.basicConfig(format='[%(levelname)s] %(message)s', level=logging.INFO, stream=sys.stdout)\n",
    "\n",
    "# Re-import packages if they change\n",
    "%load_ext memory_profiler\n",
    "%load_ext autoreload\n",
    "%autoreload 2\n",
    "\n",
    "# Recursion Depth\n",
    "sys.setrecursionlimit(1000000000)\n",
    "\n",
    "# Intialize tqdm to always use the notebook progress bar\n",
    "import tqdm\n",
    "\n",
    "tqdm.tqdm = tqdm.tqdm_notebook\n",
    "\n",
    "# Third-party libraries\n",
    "import comet_ml\n",
    "\n",
    "import numpy as np\n",
    "import pandas as pd\n",
    "import nilearn.plotting as nip\n",
    "import matplotlib.pyplot as plt\n",
    "import nibabel as nib\n",
    "import numpy as np\n",
    "import torch\n",
    "import collections\n",
    "%matplotlib inline\n",
    "plt.rcParams[\"figure.figsize\"] = (12,6)\n",
    "%config InlineBackend.figure_format='retina'  # adapt plots for retina displays\n",
    "import git\n",
    "import aneurysm_utils.evaluation as evaluation\n",
    "\n",
    "# Project utils\n",
    "\n",
    "import aneurysm_utils\n",
    "from aneurysm_utils import evaluation, training,preprocessing\n"
   ]
  },
  {
   "cell_type": "code",
   "execution_count": null,
   "id": "d400f8a6",
   "metadata": {},
   "outputs": [],
   "source": [
    "if \"workspace\" in os.getcwd():\n",
    "    ROOT = \"/workspace\" # local \n",
    "elif \"/group/cake\" in os.getcwd(): \n",
    "    ROOT = \"/group/cake\" # Jupyter Lab\n"
   ]
  },
  {
   "cell_type": "code",
   "execution_count": null,
   "id": "90ed6b55",
   "metadata": {},
   "outputs": [],
   "source": [
    "env = aneurysm_utils.Environment(project=\"our-git-project\", root_folder=ROOT)\n",
    "env.cached_data[\"comet_key\"] = \"EGrR4luSis87yhHbs2rEaqAWs\" \n",
    "env.print_info()"
   ]
  },
  {
   "cell_type": "code",
   "execution_count": null,
   "id": "c86eb1e0",
   "metadata": {},
   "outputs": [],
   "source": [
    "## this notebook needs the same seed as the training notebook to get disjoint test samples \n",
    "### the dataset and preprocessing params should be the same as in the training notebook\n",
    "\n",
    "\n",
    "dataset_params = {\n",
    "    \"prediction\": \"mask\",\n",
    "    \"mri_data_selection\": \"\", \n",
    "    \"balance_data\": False,\n",
    "    \"seed\": 1,\n",
    "    \"resample_voxel_dim\": (1.2,1.2,1.2)\n",
    "}\n",
    "\n",
    "preprocessing_params = {\n",
    "    'min_max_normalize': True,\n",
    "    'mean_std_normalize': False,\n",
    "    'smooth_img': False, # can contain a number: smoothing factor\n",
    "    'intensity_segmentation': False\n",
    "}\n"
   ]
  },
  {
   "cell_type": "code",
   "execution_count": null,
   "id": "df93f813",
   "metadata": {},
   "outputs": [],
   "source": [
    "from aneurysm_utils.data_collection import load_aneurysm_dataset\n",
    "\n",
    "df = load_aneurysm_dataset(\n",
    "    env,\n",
    "    mri_data_selection=dataset_params[\"mri_data_selection\"],\n",
    "    random_state=dataset_params[\"seed\"]\n",
    ")\n",
    "df.head()"
   ]
  },
  {
   "cell_type": "code",
   "execution_count": null,
   "id": "c94e9b51",
   "metadata": {},
   "outputs": [],
   "source": [
    "# Load MRI images and split into train, test, and validation\n",
    "from aneurysm_utils.data_collection import split_mri_images\n",
    "#case_list = [ \"A123\", \"A121\", \"A124\"] # \"A003\",\"A005\",\"A006\",\"A008\", \"A010\", \"A012\",\"A009\", \"A120\",\n",
    "#df = df.loc[df[\"Case\"].isin(case_list)]\n",
    "\n",
    "train_data, test_data, val_data, _ = split_mri_images(\n",
    "    env, \n",
    "    df, \n",
    "    prediction=dataset_params[\"prediction\"], \n",
    "    encode_labels=False,\n",
    "    random_state=dataset_params[\"seed\"],\n",
    "    balance_data=dataset_params[\"balance_data\"],\n",
    "    resample_voxel_dim=dataset_params[\"resample_voxel_dim\"]\n",
    ")\n",
    "\n",
    "mri_imgs_train, labels_train,train_participants = train_data\n",
    "mri_imgs_test, labels_test,test_participants = test_data\n",
    "mri_imgs_val, labels_val,val_participants = val_data"
   ]
  },
  {
   "cell_type": "code",
   "execution_count": null,
   "id": "f08f88d7",
   "metadata": {},
   "outputs": [],
   "source": [
    "from aneurysm_utils import preprocessing\n",
    "\n",
    "most_common_shape = preprocessing.check_mri_shapes(mri_imgs_train)"
   ]
  },
  {
   "cell_type": "code",
   "execution_count": null,
   "id": "2b6228c5",
   "metadata": {},
   "outputs": [],
   "source": [
    "size = most_common_shape  #(139, 139, 120)\n",
    "train_index = [i for i, e in enumerate(mri_imgs_train) if e.shape != size]\n",
    "mri_imgs_train = [i for j, i in enumerate(mri_imgs_train) if j not in train_index]\n",
    "labels_train = [i for j, i in enumerate(labels_train) if j not in train_index]\n",
    "\n",
    "test_index = [i for i, e in enumerate(mri_imgs_test) if e.shape != size]\n",
    "mri_imgs_test = [i for j, i in enumerate(mri_imgs_test) if j not in test_index]\n",
    "labels_test = [i for j, i in enumerate(labels_test) if j not in test_index]\n",
    "\n",
    "val_index = [i for i, e in enumerate(mri_imgs_val) if e.shape != size]\n",
    "mri_imgs_val = [i for j, i in enumerate(mri_imgs_val) if j not in val_index]\n",
    "labels_val = [i for j, i in enumerate(labels_val) if j not in val_index]\n",
    "\n",
    "mri_imgs_train[0].shape\n",
    "preprocessing.check_mri_shapes(mri_imgs_train)\n",
    "print(np.unique(labels_val[0], return_counts=True))"
   ]
  },
  {
   "cell_type": "code",
   "execution_count": null,
   "id": "8c0ad10a",
   "metadata": {},
   "outputs": [],
   "source": [
    "from aneurysm_utils import preprocessing\n",
    "patch_size = 64\n",
    "size_of_train = len(mri_imgs_train)\n",
    "size_of_test = len(mri_imgs_test)\n",
    "size_of_val = len(mri_imgs_val)\n",
    "\n",
    "# preprocess all lists as one to have a working mean_std_normalization\n",
    "mri_imgs = mri_imgs_train + mri_imgs_test + mri_imgs_val\n",
    "mri_imgs = preprocessing.preprocess(env, mri_imgs, preprocessing_params)\n",
    "###creating patches\n",
    "#mri_imgs_train = np.asarray(mri_imgs[:size_of_train])\n",
    "#mri_imgs_train = patch_list(mri_imgs_train,patch_size)\n",
    "mri_imgs_test = np.asarray(mri_imgs[size_of_train : size_of_train + size_of_test])\n",
    "mri_imgs_test = preprocessing.patch_list(mri_imgs_test,patch_size)\n",
    "#mri_imgs_val = np.asarray(mri_imgs[size_of_train + size_of_test :])\n",
    "#mri_imgs_val = patch_list(mri_imgs_val,patch_size)\n",
    "\n",
    "# preprocess mask\n",
    "x, y, h = labels_train[0].shape\n",
    "#labels_train = patch_list(labels_train,patch_size)\n",
    "labels_test = np.asarray(labels_test)\n",
    "labels_test = patch_list(labels_test,patch_size)\n",
    "#labels_val = patch_list(labels_val,patch_size)"
   ]
  },
  {
   "cell_type": "code",
   "execution_count": null,
   "id": "e1556570",
   "metadata": {},
   "outputs": [],
   "source": [
    "## to save RAM \n",
    "del mri_imgs_train\n",
    "del mri_imgs_val"
   ]
  },
  {
   "cell_type": "code",
   "execution_count": null,
   "id": "7cddd96b",
   "metadata": {},
   "outputs": [],
   "source": [
    "from aneurysm_utils.utils.pytorch_utils import predict\n",
    "from aneurysm_utils.models.unet_3d_oktay import unet_3D\n",
    "from aneurysm_utils.models.attention_unet import unet_grid_attention_3D"
   ]
  },
  {
   "cell_type": "code",
   "execution_count": null,
   "id": "2543ae55",
   "metadata": {},
   "outputs": [],
   "source": [
    "#model = unet_grid_attention_3D(self, feature_scale=4, n_classes=2, is_deconv=True, in_channels=1,\n",
    "                 #nonlocal_mode='concatenation', attention_dsample=(2,2,2), is_batchnorm=True)\n",
    "    \n",
    "model = unet_3D(feature_scale=2, n_classes=2, is_deconv=True, in_channels=1, is_batchnorm=True)\n",
    "PATH = \"group/cake/our-git-project/models/insert_your_model_either U-Net or Attention U-net.pt\"\n",
    "device = torch.device('cpu')\n",
    "\n",
    "\n",
    "model.load_state_dict(torch.load(PATH, map_location=device))"
   ]
  },
  {
   "cell_type": "code",
   "execution_count": null,
   "id": "a82d55a8",
   "metadata": {},
   "outputs": [],
   "source": [
    "## save some RAM\n",
    "import gc\n",
    "gc.collect()"
   ]
  },
  {
   "cell_type": "code",
   "execution_count": null,
   "id": "8e4710dd",
   "metadata": {},
   "outputs": [],
   "source": [
    "from aneurysm_utils.utils import pytorch_utils\n",
    "from torch.utils.data.dataloader import DataLoader\n",
    "test_dataset = pytorch_utils.PytorchDataset(\n",
    "                mri_imgs_test,\n",
    "                labels_test,\n",
    "                dtype=np.float64,\n",
    "                \n",
    "            )\n",
    "\n"
   ]
  },
  {
   "cell_type": "code",
   "execution_count": null,
   "id": "1434abb9",
   "metadata": {},
   "outputs": [],
   "source": [
    "test_loader = DataLoader(\n",
    "            test_dataset,\n",
    "            batch_size=1,  # TODO: use fixed batch size of 5\n",
    "            shuffle=False,\n",
    "            num_workers=0,\n",
    "            pin_memory=True,\n",
    "        )\n",
    "predictions = predict(model, test_loader, apply_softmax=False )"
   ]
  },
  {
   "cell_type": "code",
   "execution_count": null,
   "id": "8408f2e6",
   "metadata": {},
   "outputs": [],
   "source": [
    "\n",
    "###############   Name und Ort gegebenfalls ändern\n",
    "#### predictions is saved as numpy array\n",
    "## The shape of the array is (number_of_patches x length_test_set,tuple(masks,probabilities),h,w,d)\n",
    "## PATH choose your patch to save the predictions\n",
    "PATH = \"/group/cake/our-git-project/predictions/preds.npy\"\n",
    "np.save(PATH,predictions)"
   ]
  }
 ],
 "metadata": {
  "kernelspec": {
   "display_name": "Exploration Tutorial",
   "language": "python",
   "name": "exploration-tutorial"
  },
  "language_info": {
   "codemirror_mode": {
    "name": "ipython",
    "version": 3
   },
   "file_extension": ".py",
   "mimetype": "text/x-python",
   "name": "python",
   "nbconvert_exporter": "python",
   "pygments_lexer": "ipython3",
   "version": "3.6.9"
  }
 },
 "nbformat": 4,
 "nbformat_minor": 5
}
