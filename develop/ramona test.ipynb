{
 "cells": [
  {
   "cell_type": "markdown",
   "id": "9928726f",
   "metadata": {},
   "source": [
    "# Experiment on JupyterHub Template\n",
    "\n",
    "\n",
    "**In this notebook:**\n",
    "\n",
    "* Load original mri data + aneurysm mask\n",
    "* Resample Images to 1.5 mm Voxelsize\n",
    "* Filter images based on size\n",
    "* Train uunet network to predict aneurysm mask\n",
    "* Evaluate mask\n",
    "\n",
    "**Todo:**\n"
   ]
  },
  {
   "cell_type": "markdown",
   "id": "4837c689",
   "metadata": {},
   "source": [
    "##  Dependencies\n",
    "Install, load, and initialize all required dependencies for this experiment."
   ]
  },
  {
   "cell_type": "markdown",
   "id": "320c1085",
   "metadata": {},
   "source": [
    "### Install Dependencies"
   ]
  },
  {
   "cell_type": "code",
   "execution_count": 1,
   "id": "a726fa29",
   "metadata": {},
   "outputs": [],
   "source": [
    "import sys\n",
    "\n",
    "!{sys.executable} -m pip install -q -e ../utils/"
   ]
  },
  {
   "cell_type": "markdown",
   "id": "53a2fd1d",
   "metadata": {},
   "source": [
    "## System libraries"
   ]
  },
  {
   "cell_type": "code",
   "execution_count": 2,
   "id": "f6aaa5e6",
   "metadata": {},
   "outputs": [
    {
     "name": "stderr",
     "output_type": "stream",
     "text": [
      "/group/cake/.venv/lib/python3.8/site-packages/nilearn/datasets/__init__.py:87: FutureWarning: Fetchers from the nilearn.datasets module will be updated in version 0.9 to return python strings instead of bytes and Pandas dataframes instead of Numpy arrays.\n",
      "  warn(\"Fetchers from the nilearn.datasets module will be \"\n"
     ]
    }
   ],
   "source": [
    "from __future__ import absolute_import, division, print_function\n",
    "import logging, os, sys\n",
    "\n",
    "# Enable logging\n",
    "logging.basicConfig(format='[%(levelname)s] %(message)s', level=logging.INFO, stream=sys.stdout)\n",
    "\n",
    "# Re-import packages if they change\n",
    "%load_ext autoreload\n",
    "%autoreload 2\n",
    "\n",
    "# Recursion Depth\n",
    "import sys\n",
    "sys.setrecursionlimit(10000)\n",
    "\n",
    "# Intialize tqdm to always use the notebook progress bar\n",
    "import tqdm\n",
    "tqdm.tqdm = tqdm.tqdm_notebook\n",
    "\n",
    "# Third-party libraries\n",
    "import comet_ml\n",
    "import numpy as np\n",
    "import pandas as pd\n",
    "import nilearn.plotting as nip\n",
    "import matplotlib.pyplot as plt\n",
    "import nibabel as nib\n",
    "import numpy as np\n",
    "import collections\n",
    "%matplotlib inline\n",
    "plt.rcParams[\"figure.figsize\"] = (12,6)\n",
    "%config InlineBackend.figure_format='retina'  # adapt plots for retina displays\n",
    "import git\n",
    "\n",
    "\n",
    "# Project utils\n",
    "import aneurysm_utils\n",
    "from aneurysm_utils import evaluation, training"
   ]
  },
  {
   "cell_type": "code",
   "execution_count": 3,
   "id": "1155d35c",
   "metadata": {},
   "outputs": [
    {
     "name": "stdout",
     "output_type": "stream",
     "text": [
      "Environment Info:\n",
      "\n",
      "Library Version: 0.1.0\n",
      "Configured Project: ML_in_MIP\n",
      "\n",
      "Folder Structure: \n",
      "- Root folder: /group/cake\n",
      " - Project folder: /group/cake/ML_in_MIP\n",
      " - Datasets folder: /group/cake/ML_in_MIP/datasets\n",
      " - Models folder: /group/cake/ML_in_MIP/models\n",
      " - Experiments folder: /group/cake/ML_in_MIP/experiments\n"
     ]
    },
    {
     "name": "stderr",
     "output_type": "stream",
     "text": [
      "[autoreload of aneurysm_utils.environment failed: Traceback (most recent call last):\n",
      "  File \"/group/cake/.venv/lib/python3.8/site-packages/IPython/extensions/autoreload.py\", line 245, in check\n",
      "    superreload(m, reload, self.old_objects)\n",
      "  File \"/group/cake/.venv/lib/python3.8/site-packages/IPython/extensions/autoreload.py\", line 394, in superreload\n",
      "    module = reload(module)\n",
      "  File \"/home/tu-ramonabendias/.pyenv/versions/3.8.10/lib/python3.8/imp.py\", line 314, in reload\n",
      "    return importlib.reload(module)\n",
      "  File \"/home/tu-ramonabendias/.pyenv/versions/3.8.10/lib/python3.8/importlib/__init__.py\", line 169, in reload\n",
      "    _bootstrap._exec(spec, module)\n",
      "  File \"<frozen importlib._bootstrap>\", line 604, in _exec\n",
      "  File \"<frozen importlib._bootstrap_external>\", line 844, in exec_module\n",
      "  File \"<frozen importlib._bootstrap_external>\", line 981, in get_code\n",
      "  File \"<frozen importlib._bootstrap_external>\", line 911, in source_to_code\n",
      "  File \"<frozen importlib._bootstrap>\", line 219, in _call_with_frames_removed\n",
      "  File \"/group/cake/our-git-project/utils/aneurysm_utils/environment.py\", line 695\n",
      "    folder = #os.path.join(self.project_folder, self._DATASETS_FOLDER_NAME)\n",
      "             ^\n",
      "SyntaxError: invalid syntax\n",
      "]\n"
     ]
    }
   ],
   "source": [
    "env = aneurysm_utils.Environment(project=\"ML_in_MIP\", root_folder=\"/group/cake\")\n",
    "env.cached_data[\"comet_key\"] = \"EGrR4luSis87yhHbs2rEaqAWs\" \n",
    "env.print_info()"
   ]
  },
  {
   "cell_type": "code",
   "execution_count": null,
   "id": "3f952d76",
   "metadata": {},
   "outputs": [],
   "source": []
  }
 ],
 "metadata": {
  "kernelspec": {
   "display_name": "Environment",
   "language": "python",
   "name": "exploration-tutorial"
  },
  "language_info": {
   "codemirror_mode": {
    "name": "ipython",
    "version": 3
   },
   "file_extension": ".py",
   "mimetype": "text/x-python",
   "name": "python",
   "nbconvert_exporter": "python",
   "pygments_lexer": "ipython3",
   "version": "3.8.10"
  }
 },
 "nbformat": 4,
 "nbformat_minor": 5
}
