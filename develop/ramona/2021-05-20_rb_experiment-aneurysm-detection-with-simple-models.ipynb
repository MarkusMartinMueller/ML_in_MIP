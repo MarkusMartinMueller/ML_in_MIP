{
 "cells": [
  {
   "cell_type": "code",
   "execution_count": null,
   "metadata": {},
   "outputs": [],
   "source": [
    "\n",
    "# # Experiment Template <a class=\"tocSkip\">\n",
    "\n",
    "# To use this template, please use the [file tree](./) to duplicate this notebook and move it to the folder of your repository. The following sections contain only exemplary content, please adapt and change based on your experiment implementation.\n",
    "# \n",
    "# **In this notebook:**\n",
    "# \n",
    "# * Describe your notbeook here in a few bullet points, e.g.:\n",
    "# * Method xyz on dataset abc --> Key insight: xyz works pretty well\n",
    "# * Modification zyx --> Dead end\n",
    "# \n",
    "# **Todo:**\n",
    "# \n",
    "# * List all todos that are related to this notebook here, e.g.:\n",
    "# * Apply xyz to another dataset\n",
    "# \n",
    "# This could be some more general information on method xyz (e.g. a link to a paper).\n",
    "# \n",
    "# _Please use a Python 3 kernel for the notebook_\n",
    "\n",
    "# ## Dependencies\n",
    "# Install, load, and initialize all required dependencies for this experiment.\n",
    "\n",
    "# ### Install Dependencies"
   ]
  },
  {
   "cell_type": "code",
   "execution_count": null,
   "metadata": {},
   "outputs": [],
   "source": [
    "\n",
    "\n",
    "# It should be possible to run the notebook independent of anything else. \n",
    "# If dependency cannot be installed via pip, either:\n",
    "# - download & install it via %%bash\n",
    "# - atleast mention those dependecies in this section\n",
    "\n",
    "#get_ipython().system('pip install -q -e ../utils/')\n",
    "\n",
    "\n",
    "# ### Import Dependencies"
   ]
  },
  {
   "cell_type": "code",
   "execution_count": null,
   "metadata": {},
   "outputs": [],
   "source": [
    "\n",
    "\n",
    "# System libraries\n",
    "#from __future__ import absolute_import, division, print_function\n",
    "import logging, os, sys\n",
    "\n",
    "# Enable logging\n",
    "logging.basicConfig(format='[%(levelname)s] %(message)s', level=logging.INFO, stream=sys.stdout)\n",
    "\n",
    "# Re-import packages if they change\n",
    "#get_ipython().run_line_magic('load_ext', 'autoreload')\n",
    "#get_ipython().run_line_magic('autoreload', '2')\n",
    "\n",
    "# Intialize tqdm to always use the notebook progress bar\n",
    "import tqdm\n",
    "tqdm.tqdm = tqdm.tqdm_notebook\n",
    "\n",
    "# Third-party libraries\n",
    "import numpy as np\n",
    "import pandas as pd\n",
    "import nilearn.plotting as nip\n",
    "import matplotlib.pyplot as plt\n",
    "import nibabel as nib\n",
    "#get_ipython().run_line_magic('matplotlib', 'inline')\n",
    "plt.rcParams[\"figure.figsize\"] = (12,6)\n",
    "#get_ipython().run_line_magic('config', \"InlineBackend.figure_format='retina'  # adapt plots for retina displays\")\n",
    "import git\n",
    "import comet_ml\n",
    "\n",
    "# Project utils\n",
    "import aneurysm_utils\n",
    "from aneurysm_utils import evaluation, training\n",
    "\n",
    "\n",
    "# ### Initialize Environment"
   ]
  },
  {
   "cell_type": "code",
   "execution_count": null,
   "metadata": {},
   "outputs": [],
   "source": [
    "\n",
    "\n",
    "env = aneurysm_utils.Environment(project=\"ML_in_MIP\", root_folder=\"/workspace/\")\n",
    "env.cached_data[\"comet_key\"] = \"EGrR4luSis87yhHbs2rEaqAWs\" \n",
    "env.print_info()\n",
    "\n",
    "\n",
    "# ## Load Data\n",
    "# Download, explore, and prepare all required data for the experiment in this section."
   ]
  },
  {
   "cell_type": "code",
   "execution_count": null,
   "metadata": {},
   "outputs": [],
   "source": [
    "\n",
    "\n",
    "dataset_params = {\n",
    "    \"prediction\": \"mask\",\n",
    "    \"mri_data_selection\": \"unprocessed\", \n",
    "    \"balance_data\": False,\n",
    "    \"seed\": 1\n",
    "}\n",
    "\n",
    "preprocessing_params = {\n",
    "    'min_max_normalize': True,\n",
    "    'mean_std_normalize': False,\n",
    "    'smooth_img': False, # can contain a number: smoothing factor\n",
    "}\n",
    "\n",
    "\n",
    "# ### Load Meta Data"
   ]
  },
  {
   "cell_type": "code",
   "execution_count": null,
   "metadata": {},
   "outputs": [],
   "source": [
    "\n",
    "\n",
    "from aneurysm_utils.data_collection import load_aneurysm_dataset\n",
    "\n",
    "df = load_aneurysm_dataset(\n",
    "    env,\n",
    "    mri_data_selection=dataset_params[\"mri_data_selection\"],\n",
    "    random_state=dataset_params[\"seed\"]\n",
    ")\n",
    "df.head()\n",
    "\n",
    "\n",
    "# ### Load & Split MRI Data"
   ]
  },
  {
   "cell_type": "code",
   "execution_count": null,
   "metadata": {
    "lines_to_next_cell": 2
   },
   "outputs": [],
   "source": [
    "\n",
    "\n",
    "# Load MRI images and split into train, test, and validation\n",
    "from aneurysm_utils.data_collection import split_mri_images\n",
    "#case_list = [\"A001\", \"A130_R\", \"A005\"]\n",
    "#df = df.loc[df[\"Case\"].isin(case_list)]\n",
    "\n",
    "train_data, test_data, val_data, _ = split_mri_images(\n",
    "    env, \n",
    "    df, \n",
    "    prediction=dataset_params[\"prediction\"], \n",
    "    encode_labels=False,\n",
    "    random_state=dataset_params[\"seed\"],\n",
    "    balance_data=dataset_params[\"balance_data\"]\n",
    ")\n",
    "\n",
    "mri_imgs_train, labels_train = train_data\n",
    "mri_imgs_test, labels_test = test_data\n",
    "mri_imgs_val, labels_val = val_data"
   ]
  },
  {
   "cell_type": "code",
   "execution_count": null,
   "metadata": {},
   "outputs": [],
   "source": [
    "\n",
    "\n",
    "from aneurysm_utils import preprocessing\n",
    "\n",
    "preprocessing.check_mri_shapes(mri_imgs_train)\n",
    "\n",
    "\n",
    "# ## Transform & Preprocess Data"
   ]
  },
  {
   "cell_type": "code",
   "execution_count": null,
   "metadata": {
    "lines_to_next_cell": 2
   },
   "outputs": [],
   "source": [
    "\n",
    "\n",
    "from aneurysm_utils import preprocessing\n",
    "\n",
    "size_of_train = len(mri_imgs_train)\n",
    "size_of_test = len(mri_imgs_test)\n",
    "size_of_val = len(mri_imgs_val)\n",
    "\n",
    "# preprocess all lists as one to have a working mean_std_normalization\n",
    "mri_imgs = mri_imgs_train + mri_imgs_test + mri_imgs_val\n",
    "mri_imgs = preprocessing.preprocess(env, mri_imgs, preprocessing_params)\n",
    "\n",
    "mri_imgs_train = mri_imgs[:size_of_train]\n",
    "mri_imgs_train = [train for train in mri_imgs_train]\n",
    "mri_imgs_test = mri_imgs[size_of_train : size_of_train + size_of_test]\n",
    "mri_imgs_test = [test for test in mri_imgs_test]\n",
    "mri_imgs_val = mri_imgs[size_of_train + size_of_test :]\n",
    "mri_imgs_val = [val for val in mri_imgs_val]\n",
    "\n",
    "# preprocess mask\n",
    "x, y, h = labels_train[0].shape\n",
    "labels_train = [label_train for label_train in labels_train]\n",
    "labels_test = [label_test for label_test in labels_test]\n",
    "labels_val = [label_val for label_val in labels_val]\n",
    "# flatten"
   ]
  },
  {
   "cell_type": "code",
   "execution_count": null,
   "metadata": {},
   "outputs": [],
   "source": [
    "train_index = [i for i, e in enumerate(mri_imgs_train) if e.shape != (93, 93, 80)]\n",
    "mri_imgs_train = [i for j, i in enumerate(mri_imgs_train) if j not in train_index]\n",
    "labels_train = [i for j, i in enumerate(labels_train) if j not in train_index]\n",
    "\n",
    "test_index = [i for i, e in enumerate(mri_imgs_test) if e.shape != (93, 93, 80)]\n",
    "mri_imgs_test = [i for j, i in enumerate(mri_imgs_test) if j not in test_index]\n",
    "labels_test = [i for j, i in enumerate(labels_test) if j not in test_index]\n",
    "\n",
    "val_index = [i for i, e in enumerate(mri_imgs_val) if e.shape != (93, 93, 80)]\n",
    "mri_imgs_val = [i for j, i in enumerate(mri_imgs_val) if j not in val_index]\n",
    "labels_val = [i for j, i in enumerate(labels_val) if j not in val_index]\n",
    "\n",
    "mri_imgs_train[0].shape\n",
    "preprocessing.check_mri_shapes(mri_imgs_train)"
   ]
  },
  {
   "cell_type": "code",
   "execution_count": null,
   "metadata": {},
   "outputs": [],
   "source": [
    "\n",
    "\n",
    "labels_train[0].shape\n",
    "\n",
    "\n",
    "# ### Optional: View image\n",
    "# "
   ]
  },
  {
   "cell_type": "code",
   "execution_count": null,
   "metadata": {
    "lines_to_next_cell": 2
   },
   "outputs": [],
   "source": [
    "\n",
    "\n",
    "idx = 0\n",
    "nip.view_img(\n",
    "    nib.Nifti1Image(mri_imgs_train[0], np.eye(4)),\n",
    "    symmetric_cmap=False,\n",
    "    cmap=\"Greys_r\",\n",
    "    bg_img=False,\n",
    "    black_bg=True,\n",
    "    threshold=1e-03, \n",
    "    draw_cross=False\n",
    ")"
   ]
  },
  {
   "cell_type": "code",
   "execution_count": null,
   "metadata": {},
   "outputs": [],
   "source": [
    "\n",
    "\n",
    "evaluation.plot_slices(mri_imgs_train[0])\n",
    "\n",
    "\n",
    "# ## Train Model\n",
    "# Implementation, configuration, and evaluation of the experiment.\n",
    "\n",
    "# ### Train Deep Model 3D data"
   ]
  },
  {
   "cell_type": "code",
   "execution_count": null,
   "metadata": {
    "lines_to_next_cell": 2
   },
   "outputs": [],
   "source": [
    "\n",
    "\n",
    "artifacts = {\n",
    "    \"train_data\": (mri_imgs_train, labels_train),\n",
    "    \"val_data\": (mri_imgs_val, labels_val),\n",
    "    \"test_data\": (mri_imgs_test, labels_test)\n",
    "}\n",
    "\n",
    "# Define parameter configuration for experiment run\n",
    "params = {\n",
    "    \"training_size\": None,  # None=all\n",
    "    \"val_size\": None,   # None=all\n",
    "    \"batch_size\": 3,\n",
    "    \"epochs\": 10,\n",
    "    \"learning_rate\": 5.0e-5, # 3e-04, 1.0E-5\n",
    "    \"es_patience\": 75, # None = deactivate early stopping\n",
    "    \"weight_decay\": 0.001, # 1e-3\n",
    "    \"model_name\": 'SimpleCNN3D', # \"resnet\", \"preresnet\", \"wideresnet\", \"densenet\", \"simpleCNN\", \"ClassificationModel3D\", \"CNN3DSoftmax\", \"CNN3DMoboehle\", \"CNN3DTutorial\", \"LinearModel3D\",\n",
    "    #\"model_depth\": 10, # 10\n",
    "    #\"resnet_shortcut\": 'B',\n",
    "    \"optimizer_momentum\": 0.9,\n",
    "    \"optimizer\":'Adam',\n",
    "    \"criterion\": \"CrossEntropyLoss\", #'BCEWithLogitsLoss',\n",
    "    \"criterion_weights\": False, # [1.75, 1.0],\n",
    "    \"sampler\": None,   #'ImbalancedDatasetSampler2',\n",
    "    \"shuffle_train_set\": True,\n",
    "    \"scheduler\": None, # \"ReduceLROnPlateau\",\n",
    "    \"save_models\": False,\n",
    "    \"debug\": True,\n",
    "    \"dropout\": 0.4,\n",
    "    \"dropout2\": 0.2\n",
    "    #\"pretrain_path\": env.get_file(\"models/resnet_10_23dataset.pth\"),\n",
    "    #\"train_pretrain\": True,\n",
    "    #\"new_layer_name\": [\"fc\"]\n",
    "}\n",
    "\n",
    "params.update(dataset_params)\n",
    "params.update(preprocessing_params)\n",
    "\n",
    "# data augmentation\n",
    "# use dropout\n",
    "# Cross-validation"
   ]
  },
  {
   "cell_type": "code",
   "execution_count": null,
   "metadata": {},
   "outputs": [],
   "source": [
    "\n",
    "\n",
    "# Run experiment and sync all metadata\n",
    "exp = env.create_experiment(\n",
    "    params[\"prediction\"] + \"-pytorch-\" + params[\"model_name\"],\n",
    "    comet_ml.Experiment(\n",
    "        env.cached_data[\"comet_key\"],\n",
    "        project_name=env.project + \"-\" + params[\"prediction\"],\n",
    "        disabled=params[\"debug\"],\n",
    "    ),\n",
    ")\n",
    "exp.run(training.train_pytorch_model, params, artifacts)\n",
    "\n",
    "\n",
    "# ## Evaluate Model"
   ]
  },
  {
   "cell_type": "code",
   "execution_count": null,
   "metadata": {
    "lines_to_next_cell": 2
   },
   "outputs": [],
   "source": [
    "\n",
    "\n",
    "# Do evaluation, e.g. visualizations  "
   ]
  }
 ],
 "metadata": {
  "jupytext": {
   "cell_metadata_filter": "-all",
   "encoding": "# coding: utf-8",
   "executable": "/usr/bin/env python",
   "notebook_metadata_filter": "-all",
   "text_representation": {
    "extension": ".py",
    "format_name": "percent"
   }
  },
  "kernelspec": {
   "display_name": "Python 3",
   "language": "python",
   "name": "python3"
  }
 },
 "nbformat": 4,
 "nbformat_minor": 4
}
