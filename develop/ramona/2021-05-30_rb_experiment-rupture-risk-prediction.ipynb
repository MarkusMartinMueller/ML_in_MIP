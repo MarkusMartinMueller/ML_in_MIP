{
 "cells": [
  {
   "cell_type": "markdown",
   "metadata": {},
   "source": [
    "# First Rupture Risk Experiment <a class=\"tocSkip\">"
   ]
  },
  {
   "cell_type": "markdown",
   "metadata": {},
   "source": [
    "In this notebook, I wanna test a simple CNN model to pretict the rupture risk of an aneurysm. \n",
    "\n",
    "TODO: estimate risk of every aneurysm in \n",
    "\n",
    "**In this notebook:**\n",
    "\n",
    "* Describe your notbeook here in a few bullet points, e.g.:\n",
    "* Method xyz on dataset abc --> Key insight: xyz works pretty well\n",
    "* Modification zyx --> Dead end\n",
    "\n",
    "**Todo:**\n",
    "\n",
    "* List all todos that are related to this notebook here, e.g.:\n",
    "* Apply xyz to another dataset\n",
    "\n",
    "This could be some more general information on method xyz (e.g. a link to a paper).\n",
    "\n",
    "_Please use a Python 3 kernel for the notebook_"
   ]
  },
  {
   "cell_type": "markdown",
   "metadata": {},
   "source": [
    "## Dependencies\n",
    "Install, load, and initialize all required dependencies for this experiment."
   ]
  },
  {
   "cell_type": "markdown",
   "metadata": {},
   "source": [
    "### Install Dependencies"
   ]
  },
  {
   "cell_type": "code",
   "execution_count": 1,
   "metadata": {
    "ExecuteTime": {
     "end_time": "2021-06-07T16:14:30.197439Z",
     "start_time": "2021-06-07T16:13:22.971855Z"
    }
   },
   "outputs": [
    {
     "name": "stdout",
     "output_type": "stream",
     "text": [
      "\u001b[0m"
     ]
    }
   ],
   "source": [
    "# It should be possible to run the notebook independent of anything else. \n",
    "# If dependency cannot be installed via pip, either:\n",
    "# - download & install it via %%bash\n",
    "# - atleast mention those dependecies in this section\n",
    "\n",
    "!pip install -q -e ../utils/"
   ]
  },
  {
   "cell_type": "markdown",
   "metadata": {
    "ExecuteTime": {
     "end_time": "2018-02-26T18:45:12.799022Z",
     "start_time": "2018-02-26T18:45:12.784137Z"
    }
   },
   "source": [
    "### Import Dependencies"
   ]
  },
  {
   "cell_type": "code",
   "execution_count": 2,
   "metadata": {
    "ExecuteTime": {
     "end_time": "2021-06-07T16:14:35.823846Z",
     "start_time": "2021-06-07T16:14:30.204165Z"
    }
   },
   "outputs": [
    {
     "name": "stderr",
     "output_type": "stream",
     "text": [
      "/opt/conda/lib/python3.8/site-packages/nilearn/datasets/__init__.py:87: FutureWarning: Fetchers from the nilearn.datasets module will be updated in version 0.9 to return python strings instead of bytes and Pandas dataframes instead of Numpy arrays.\n",
      "  warn(\"Fetchers from the nilearn.datasets module will be \"\n"
     ]
    }
   ],
   "source": [
    "# System libraries\n",
    "from __future__ import absolute_import, division, print_function\n",
    "import logging, os, sys\n",
    "\n",
    "# Enable logging\n",
    "logging.basicConfig(format='[%(levelname)s] %(message)s', level=logging.INFO, stream=sys.stdout)\n",
    "\n",
    "# Re-import packages if they change\n",
    "%load_ext autoreload\n",
    "%autoreload 2\n",
    "\n",
    "# Intialize tqdm to always use the notebook progress bar\n",
    "import tqdm\n",
    "tqdm.tqdm = tqdm.tqdm_notebook\n",
    "\n",
    "# Third-party libraries\n",
    "import numpy as np\n",
    "import pandas as pd\n",
    "import nilearn.plotting as nip\n",
    "import matplotlib.pyplot as plt\n",
    "import nibabel as nib\n",
    "%matplotlib inline\n",
    "plt.rcParams[\"figure.figsize\"] = (12,6)\n",
    "%config InlineBackend.figure_format='retina'  # adapt plots for retina displays\n",
    "import git\n",
    "import comet_ml\n",
    "\n",
    "# Project utils\n",
    "import aneurysm_utils\n",
    "from aneurysm_utils import evaluation, training"
   ]
  },
  {
   "cell_type": "markdown",
   "metadata": {},
   "source": [
    "### Initialize Environment"
   ]
  },
  {
   "cell_type": "code",
   "execution_count": 3,
   "metadata": {
    "ExecuteTime": {
     "end_time": "2021-06-07T16:14:35.870417Z",
     "start_time": "2021-06-07T16:14:35.826151Z"
    }
   },
   "outputs": [
    {
     "name": "stdout",
     "output_type": "stream",
     "text": [
      "Environment Info:\n",
      "\n",
      "Library Version: 0.1.0\n",
      "Configured Project: ML_in_MIP\n",
      "\n",
      "Folder Structure: \n",
      "- Root folder: /workspace\n",
      " - Project folder: /workspace/ML_in_MIP\n",
      " - Datasets folder: /workspace/ML_in_MIP/datasets\n",
      " - Models folder: /workspace/ML_in_MIP/models\n",
      " - Experiments folder: /workspace/ML_in_MIP/experiments\n"
     ]
    }
   ],
   "source": [
    "env = aneurysm_utils.Environment(project=\"ML_in_MIP\", root_folder=\"/workspace/\")\n",
    "env.cached_data[\"comet_key\"] = \"EGrR4luSis87yhHbs2rEaqAWs\" \n",
    "env.print_info()"
   ]
  },
  {
   "cell_type": "markdown",
   "metadata": {},
   "source": [
    "## Load Data\n",
    "Download, explore, and prepare all required data for the experiment in this section."
   ]
  },
  {
   "cell_type": "code",
   "execution_count": 4,
   "metadata": {
    "ExecuteTime": {
     "end_time": "2021-06-07T16:14:35.902187Z",
     "start_time": "2021-06-07T16:14:35.872524Z"
    }
   },
   "outputs": [],
   "source": [
    "dataset_params = {\n",
    "    \"prediction\": \"rupture risk\",\n",
    "    \"mri_data_selection\": \"unprocessed\", \n",
    "    \"balance_data\": False,\n",
    "    \"seed\": 1,\n",
    "}\n",
    "\n",
    "preprocessing_params = {\n",
    "    'min_max_normalize': True,\n",
    "    'mean_std_normalize': False,\n",
    "    'smooth_img': False, # can contain a number: smoothing factor\n",
    "}"
   ]
  },
  {
   "cell_type": "markdown",
   "metadata": {
    "ExecuteTime": {
     "end_time": "2018-02-26T16:41:53.434064Z",
     "start_time": "2018-02-26T16:41:53.431218Z"
    }
   },
   "source": [
    "### Load Meta Data"
   ]
  },
  {
   "cell_type": "code",
   "execution_count": 5,
   "metadata": {
    "ExecuteTime": {
     "end_time": "2021-06-07T16:14:36.145020Z",
     "start_time": "2021-06-07T16:14:35.904799Z"
    }
   },
   "outputs": [
    {
     "data": {
      "text/html": [
       "<div>\n",
       "<style scoped>\n",
       "    .dataframe tbody tr th:only-of-type {\n",
       "        vertical-align: middle;\n",
       "    }\n",
       "\n",
       "    .dataframe tbody tr th {\n",
       "        vertical-align: top;\n",
       "    }\n",
       "\n",
       "    .dataframe thead th {\n",
       "        text-align: right;\n",
       "    }\n",
       "</style>\n",
       "<table border=\"1\" class=\"dataframe\">\n",
       "  <thead>\n",
       "    <tr style=\"text-align: right;\">\n",
       "      <th></th>\n",
       "      <th>Aneurysm Geometry</th>\n",
       "      <th>Angiography Data</th>\n",
       "      <th>Vessel Geometry</th>\n",
       "      <th>Labeled Mask Index</th>\n",
       "      <th>Location</th>\n",
       "      <th>Age</th>\n",
       "      <th>Sex</th>\n",
       "      <th>Rupture Status</th>\n",
       "      <th>Age Bin</th>\n",
       "      <th>Aneurysm Count</th>\n",
       "      <th>Case</th>\n",
       "      <th>Path Orig</th>\n",
       "      <th>Path Mask</th>\n",
       "      <th>Path Vessel</th>\n",
       "      <th>Path Labeled Mask</th>\n",
       "    </tr>\n",
       "  </thead>\n",
       "  <tbody>\n",
       "    <tr>\n",
       "      <th>0</th>\n",
       "      <td>A001.stl</td>\n",
       "      <td>A001_orig.nii.gz</td>\n",
       "      <td>A001_vessel.stl</td>\n",
       "      <td>1</td>\n",
       "      <td>Acom</td>\n",
       "      <td>48</td>\n",
       "      <td>m</td>\n",
       "      <td>1.0</td>\n",
       "      <td>(40, 50]</td>\n",
       "      <td>1</td>\n",
       "      <td>A001</td>\n",
       "      <td>/workspace/ML_in_MIP/datasets/unprocessed/A001...</td>\n",
       "      <td>/workspace/ML_in_MIP/datasets/unprocessed/A001...</td>\n",
       "      <td>/workspace/ML_in_MIP/datasets/unprocessed/A001...</td>\n",
       "      <td>/workspace/ML_in_MIP/datasets/unprocessed/A001...</td>\n",
       "    </tr>\n",
       "    <tr>\n",
       "      <th>1</th>\n",
       "      <td>A003.stl</td>\n",
       "      <td>A003_orig.nii.gz</td>\n",
       "      <td>A003_vessel.stl</td>\n",
       "      <td>1</td>\n",
       "      <td>Pcom</td>\n",
       "      <td>58</td>\n",
       "      <td>f</td>\n",
       "      <td>0.0</td>\n",
       "      <td>(50, 60]</td>\n",
       "      <td>1</td>\n",
       "      <td>A003</td>\n",
       "      <td>/workspace/ML_in_MIP/datasets/unprocessed/A003...</td>\n",
       "      <td>/workspace/ML_in_MIP/datasets/unprocessed/A003...</td>\n",
       "      <td>/workspace/ML_in_MIP/datasets/unprocessed/A003...</td>\n",
       "      <td>/workspace/ML_in_MIP/datasets/unprocessed/A003...</td>\n",
       "    </tr>\n",
       "    <tr>\n",
       "      <th>2</th>\n",
       "      <td>A005.stl</td>\n",
       "      <td>A005_orig.nii.gz</td>\n",
       "      <td>A005_vessel.stl</td>\n",
       "      <td>1</td>\n",
       "      <td>PICA</td>\n",
       "      <td>45</td>\n",
       "      <td>m</td>\n",
       "      <td>1.0</td>\n",
       "      <td>(40, 50]</td>\n",
       "      <td>1</td>\n",
       "      <td>A005</td>\n",
       "      <td>/workspace/ML_in_MIP/datasets/unprocessed/A005...</td>\n",
       "      <td>/workspace/ML_in_MIP/datasets/unprocessed/A005...</td>\n",
       "      <td>/workspace/ML_in_MIP/datasets/unprocessed/A005...</td>\n",
       "      <td>/workspace/ML_in_MIP/datasets/unprocessed/A005...</td>\n",
       "    </tr>\n",
       "    <tr>\n",
       "      <th>3</th>\n",
       "      <td>A006.stl</td>\n",
       "      <td>A006_orig.nii.gz</td>\n",
       "      <td>A006_vessel.stl</td>\n",
       "      <td>1</td>\n",
       "      <td>ACom</td>\n",
       "      <td>46</td>\n",
       "      <td>f</td>\n",
       "      <td>1.0</td>\n",
       "      <td>(40, 50]</td>\n",
       "      <td>1</td>\n",
       "      <td>A006</td>\n",
       "      <td>/workspace/ML_in_MIP/datasets/unprocessed/A006...</td>\n",
       "      <td>/workspace/ML_in_MIP/datasets/unprocessed/A006...</td>\n",
       "      <td>/workspace/ML_in_MIP/datasets/unprocessed/A006...</td>\n",
       "      <td>/workspace/ML_in_MIP/datasets/unprocessed/A006...</td>\n",
       "    </tr>\n",
       "    <tr>\n",
       "      <th>4</th>\n",
       "      <td>A008.stl</td>\n",
       "      <td>A008_orig.nii.gz</td>\n",
       "      <td>A008_vessel.stl</td>\n",
       "      <td>1</td>\n",
       "      <td>ACA</td>\n",
       "      <td>72</td>\n",
       "      <td>f</td>\n",
       "      <td>0.0</td>\n",
       "      <td>(70, 80]</td>\n",
       "      <td>1</td>\n",
       "      <td>A008</td>\n",
       "      <td>/workspace/ML_in_MIP/datasets/unprocessed/A008...</td>\n",
       "      <td>/workspace/ML_in_MIP/datasets/unprocessed/A008...</td>\n",
       "      <td>/workspace/ML_in_MIP/datasets/unprocessed/A008...</td>\n",
       "      <td>/workspace/ML_in_MIP/datasets/unprocessed/A008...</td>\n",
       "    </tr>\n",
       "  </tbody>\n",
       "</table>\n",
       "</div>"
      ],
      "text/plain": [
       "  Aneurysm Geometry  Angiography Data  Vessel Geometry  Labeled Mask Index  \\\n",
       "0          A001.stl  A001_orig.nii.gz  A001_vessel.stl                   1   \n",
       "1          A003.stl  A003_orig.nii.gz  A003_vessel.stl                   1   \n",
       "2          A005.stl  A005_orig.nii.gz  A005_vessel.stl                   1   \n",
       "3          A006.stl  A006_orig.nii.gz  A006_vessel.stl                   1   \n",
       "4          A008.stl  A008_orig.nii.gz  A008_vessel.stl                   1   \n",
       "\n",
       "  Location  Age Sex  Rupture Status   Age Bin  Aneurysm Count  Case  \\\n",
       "0     Acom   48   m             1.0  (40, 50]               1  A001   \n",
       "1     Pcom   58   f             0.0  (50, 60]               1  A003   \n",
       "2     PICA   45   m             1.0  (40, 50]               1  A005   \n",
       "3     ACom   46   f             1.0  (40, 50]               1  A006   \n",
       "4      ACA   72   f             0.0  (70, 80]               1  A008   \n",
       "\n",
       "                                           Path Orig  \\\n",
       "0  /workspace/ML_in_MIP/datasets/unprocessed/A001...   \n",
       "1  /workspace/ML_in_MIP/datasets/unprocessed/A003...   \n",
       "2  /workspace/ML_in_MIP/datasets/unprocessed/A005...   \n",
       "3  /workspace/ML_in_MIP/datasets/unprocessed/A006...   \n",
       "4  /workspace/ML_in_MIP/datasets/unprocessed/A008...   \n",
       "\n",
       "                                           Path Mask  \\\n",
       "0  /workspace/ML_in_MIP/datasets/unprocessed/A001...   \n",
       "1  /workspace/ML_in_MIP/datasets/unprocessed/A003...   \n",
       "2  /workspace/ML_in_MIP/datasets/unprocessed/A005...   \n",
       "3  /workspace/ML_in_MIP/datasets/unprocessed/A006...   \n",
       "4  /workspace/ML_in_MIP/datasets/unprocessed/A008...   \n",
       "\n",
       "                                         Path Vessel  \\\n",
       "0  /workspace/ML_in_MIP/datasets/unprocessed/A001...   \n",
       "1  /workspace/ML_in_MIP/datasets/unprocessed/A003...   \n",
       "2  /workspace/ML_in_MIP/datasets/unprocessed/A005...   \n",
       "3  /workspace/ML_in_MIP/datasets/unprocessed/A006...   \n",
       "4  /workspace/ML_in_MIP/datasets/unprocessed/A008...   \n",
       "\n",
       "                                   Path Labeled Mask  \n",
       "0  /workspace/ML_in_MIP/datasets/unprocessed/A001...  \n",
       "1  /workspace/ML_in_MIP/datasets/unprocessed/A003...  \n",
       "2  /workspace/ML_in_MIP/datasets/unprocessed/A005...  \n",
       "3  /workspace/ML_in_MIP/datasets/unprocessed/A006...  \n",
       "4  /workspace/ML_in_MIP/datasets/unprocessed/A008...  "
      ]
     },
     "execution_count": 5,
     "metadata": {},
     "output_type": "execute_result"
    }
   ],
   "source": [
    "from aneurysm_utils.data_collection import load_aneurysm_dataset\n",
    "\n",
    "df = load_aneurysm_dataset(\n",
    "    env,\n",
    "    mri_data_selection=dataset_params[\"mri_data_selection\"],\n",
    "    random_state=dataset_params[\"seed\"],\n",
    "    prediction=dataset_params[\"prediction\"],\n",
    ")\n",
    "df.head()"
   ]
  },
  {
   "cell_type": "markdown",
   "metadata": {},
   "source": [
    "### Load & Split MRI Data"
   ]
  },
  {
   "cell_type": "code",
   "execution_count": 6,
   "metadata": {
    "ExecuteTime": {
     "end_time": "2021-06-07T16:16:34.406854Z",
     "start_time": "2021-06-07T16:14:36.147578Z"
    }
   },
   "outputs": [
    {
     "name": "stdout",
     "output_type": "stream",
     "text": [
      "         Images  -> 0.0     -> 1.0\n",
      "-----  --------  ---------  ---------\n",
      "All         126  70 (0.56)  56 (0.44)\n",
      "Train       100  54 (0.54)  46 (0.46)\n",
      "Val          13  7 (0.54)   6 (0.46)\n",
      "Test         13  9 (0.69)   4 (0.31)\n",
      "\n"
     ]
    },
    {
     "name": "stderr",
     "output_type": "stream",
     "text": [
      "\n",
      "A value is trying to be set on a copy of a slice from a DataFrame.\n",
      "Try using .loc[row_indexer,col_indexer] = value instead\n",
      "\n",
      "See the caveats in the documentation: https://pandas.pydata.org/pandas-docs/stable/user_guide/indexing.html#returning-a-view-versus-a-copy\n"
     ]
    },
    {
     "data": {
      "application/vnd.jupyter.widget-view+json": {
       "model_id": "2543638027bc4658a82dc25b9ec5510e",
       "version_major": 2,
       "version_minor": 0
      },
      "text/plain": [
       "  0%|          | 0/100 [00:00<?, ?it/s]"
      ]
     },
     "metadata": {},
     "output_type": "display_data"
    },
    {
     "data": {
      "application/vnd.jupyter.widget-view+json": {
       "model_id": "2ca52d28e4414f328ab2253f08c19501",
       "version_major": 2,
       "version_minor": 0
      },
      "text/plain": [
       "  0%|          | 0/13 [00:00<?, ?it/s]"
      ]
     },
     "metadata": {},
     "output_type": "display_data"
    },
    {
     "data": {
      "application/vnd.jupyter.widget-view+json": {
       "model_id": "99ba2e7ca9af4d6dae8a12333140e0bc",
       "version_major": 2,
       "version_minor": 0
      },
      "text/plain": [
       "  0%|          | 0/13 [00:00<?, ?it/s]"
      ]
     },
     "metadata": {},
     "output_type": "display_data"
    }
   ],
   "source": [
    "# Load MRI images and split into train, test, and validation\n",
    "from aneurysm_utils.data_collection import split_mri_images\n",
    "#case_list = [\"A001\", \"A130_R\", \"A005\"]\n",
    "#df = df.loc[df[\"Case\"].isin(case_list)]\n",
    "\n",
    "train_data, test_data, val_data, _ = split_mri_images(\n",
    "    env, \n",
    "    df, \n",
    "    prediction=dataset_params[\"prediction\"], \n",
    "    encode_labels=True,\n",
    "    random_state=dataset_params[\"seed\"],\n",
    "    balance_data=dataset_params[\"balance_data\"]\n",
    ")\n",
    "\n",
    "mri_imgs_train, labels_train = train_data\n",
    "mri_imgs_test, labels_test = test_data\n",
    "mri_imgs_val, labels_val = val_data"
   ]
  },
  {
   "cell_type": "code",
   "execution_count": 7,
   "metadata": {
    "ExecuteTime": {
     "end_time": "2021-06-07T16:16:34.443947Z",
     "start_time": "2021-06-07T16:16:34.410905Z"
    }
   },
   "outputs": [
    {
     "name": "stdout",
     "output_type": "stream",
     "text": [
      "Most common:\n",
      "(93, 93, 80):      91\n",
      "(47, 47, 40):       5\n",
      "(72, 72, 65):       2\n",
      "(47, 47, 41):       2\n"
     ]
    }
   ],
   "source": [
    "from aneurysm_utils import preprocessing\n",
    "\n",
    "preprocessing.check_mri_shapes(mri_imgs_train)"
   ]
  },
  {
   "cell_type": "code",
   "execution_count": 8,
   "metadata": {
    "ExecuteTime": {
     "end_time": "2021-06-07T16:16:34.478892Z",
     "start_time": "2021-06-07T16:16:34.446007Z"
    }
   },
   "outputs": [],
   "source": [
    "\n",
    "train_index = [i for i, e in enumerate(mri_imgs_train) if e.shape != (256, 256, 220)]\n",
    "mri_imgs_train = [i for j, i in enumerate(mri_imgs_train) if j not in train_index]\n",
    "labels_train = [i for j, i in enumerate(labels_train) if j not in train_index]\n",
    "\n",
    "test_index = [i for i, e in enumerate(mri_imgs_test) if e.shape != (256, 256, 220)]\n",
    "mri_imgs_test = [i for j, i in enumerate(mri_imgs_test) if j not in test_index]\n",
    "labels_test = [i for j, i in enumerate(labels_test) if j not in test_index]\n",
    "\n",
    "val_index = [i for i, e in enumerate(mri_imgs_val) if e.shape != (256, 256, 220)]\n",
    "mri_imgs_val = [i for j, i in enumerate(mri_imgs_val) if j not in val_index]\n",
    "labels_val = [i for j, i in enumerate(labels_val) if j not in val_index]"
   ]
  },
  {
   "cell_type": "markdown",
   "metadata": {},
   "source": [
    "## Transform & Preprocess Data"
   ]
  },
  {
   "cell_type": "code",
   "execution_count": 9,
   "metadata": {
    "ExecuteTime": {
     "end_time": "2021-06-07T16:16:34.515274Z",
     "start_time": "2021-06-07T16:16:34.481843Z"
    }
   },
   "outputs": [
    {
     "name": "stdout",
     "output_type": "stream",
     "text": [
      "[INFO] Preprocessing: Min Max Normalize...\n"
     ]
    }
   ],
   "source": [
    "from aneurysm_utils import preprocessing\n",
    "\n",
    "size_of_train = len(mri_imgs_train)\n",
    "size_of_test = len(mri_imgs_test)\n",
    "size_of_val = len(mri_imgs_val)\n",
    "\n",
    "# preprocess all lists as one to have a working mean_std_normalization\n",
    "mri_imgs = mri_imgs_train + mri_imgs_test + mri_imgs_val\n",
    "mri_imgs = preprocessing.preprocess(env, mri_imgs, preprocessing_params)\n",
    "\n",
    "mri_imgs_train = mri_imgs[:size_of_train]\n",
    "mri_imgs_train = [train[50:140,50:150,40:130] for train in mri_imgs_train]\n",
    "mri_imgs_test = mri_imgs[size_of_train : size_of_train + size_of_test]\n",
    "mri_imgs_test = [test[50:140,50:150,40:130] for test in mri_imgs_test]\n",
    "mri_imgs_val = mri_imgs[size_of_train + size_of_test :]\n",
    "mri_imgs_val = [val[50:140,50:150,40:130] for val in mri_imgs_val]\n"
   ]
  },
  {
   "cell_type": "code",
   "execution_count": 10,
   "metadata": {
    "ExecuteTime": {
     "end_time": "2021-06-07T16:16:34.728090Z",
     "start_time": "2021-06-07T16:16:34.517995Z"
    }
   },
   "outputs": [
    {
     "ename": "IndexError",
     "evalue": "list index out of range",
     "output_type": "error",
     "traceback": [
      "\u001b[0;31m---------------------------------------------------------------------------\u001b[0m",
      "\u001b[0;31mIndexError\u001b[0m                                Traceback (most recent call last)",
      "\u001b[0;32m<ipython-input-10-394225c48768>\u001b[0m in \u001b[0;36m<module>\u001b[0;34m\u001b[0m\n\u001b[0;32m----> 1\u001b[0;31m \u001b[0mmri_imgs_train\u001b[0m\u001b[0;34m[\u001b[0m\u001b[0;36m0\u001b[0m\u001b[0;34m]\u001b[0m\u001b[0;34m.\u001b[0m\u001b[0mshape\u001b[0m\u001b[0;34m\u001b[0m\u001b[0;34m\u001b[0m\u001b[0m\n\u001b[0m",
      "\u001b[0;31mIndexError\u001b[0m: list index out of range"
     ]
    }
   ],
   "source": [
    "mri_imgs_train[0].shape"
   ]
  },
  {
   "cell_type": "markdown",
   "metadata": {},
   "source": [
    "### Optional: View image\n"
   ]
  },
  {
   "cell_type": "code",
   "execution_count": null,
   "metadata": {
    "ExecuteTime": {
     "end_time": "2021-06-07T16:16:34.730511Z",
     "start_time": "2021-06-07T16:13:22.974Z"
    }
   },
   "outputs": [],
   "source": [
    "idx = 0\n",
    "nip.view_img(\n",
    "    nib.Nifti1Image(mri_imgs_train[0], np.eye(4)),\n",
    "    symmetric_cmap=False,\n",
    "    cmap=\"Greys_r\",\n",
    "    bg_img=False,\n",
    "    black_bg=True,\n",
    "    threshold=1e-03, \n",
    "    draw_cross=False\n",
    ")"
   ]
  },
  {
   "cell_type": "code",
   "execution_count": null,
   "metadata": {
    "ExecuteTime": {
     "end_time": "2021-06-07T16:16:34.731539Z",
     "start_time": "2021-06-07T16:13:22.976Z"
    }
   },
   "outputs": [],
   "source": [
    "evaluation.plot_slices(mri_imgs_train[0])\n"
   ]
  },
  {
   "cell_type": "markdown",
   "metadata": {},
   "source": [
    "## Train Model\n",
    "Implementation, configuration, and evaluation of the experiment."
   ]
  },
  {
   "cell_type": "markdown",
   "metadata": {},
   "source": [
    "### Train Deep Model 3D data"
   ]
  },
  {
   "cell_type": "code",
   "execution_count": null,
   "metadata": {
    "ExecuteTime": {
     "end_time": "2021-06-07T16:16:34.732480Z",
     "start_time": "2021-06-07T16:13:22.978Z"
    }
   },
   "outputs": [],
   "source": [
    "artifacts = {\n",
    "    \"train_data\": (mri_imgs_train, labels_train),\n",
    "    \"val_data\": (mri_imgs_val, labels_val),\n",
    "    \"test_data\": (mri_imgs_test, labels_test)\n",
    "}\n",
    "\n",
    "# Define parameter configuration for experiment run\n",
    "params = {\n",
    "    # \"seed\": 1, moved to dataset params\n",
    "    \"training_size\": None,  # None=all\n",
    "    \"val_size\": None,   # None=all\n",
    "    \"batch_size\": 3,\n",
    "    \"epochs\": 250,\n",
    "    \"learning_rate\": 5.0e-5, # 3e-04, 1.0E-5\n",
    "    \"es_patience\": 75, # None = deactivate early stopping\n",
    "    \"weight_decay\": 0.001, # 1e-3\n",
    "    \"model_name\": 'CNN3DTutorial', # \"resnet\", \"preresnet\", \"wideresnet\", \"densenet\", \"simpleCNN\", \"ClassificationModel3D\", \"CNN3DSoftmax\", \"CNN3DMoboehle\", \"CNN3DTutorial\", \"LinearModel3D\",\n",
    "    #\"model_depth\": 10, # 10\n",
    "    #\"resnet_shortcut\": 'B',\n",
    "    \"optimizer_momentum\": 0.9,\n",
    "    \"optimizer\":'Adam',\n",
    "    \"criterion\": 'CrossEntropyLoss',\n",
    "    \"criterion_weights\": False, # [1.75, 1.0],\n",
    "    \"sampler\": None,   #'ImbalancedDatasetSampler2',\n",
    "    \"shuffle_train_set\": True,\n",
    "    \"scheduler\": None, # \"ReduceLROnPlateau\",\n",
    "    \"save_models\": False,\n",
    "    \"debug\": True,\n",
    "    \"dropout\": 0.4,\n",
    "    \"dropout2\": 0.2\n",
    "    #\"pretrain_path\": env.get_file(\"models/resnet_10_23dataset.pth\"),\n",
    "    #\"train_pretrain\": True,\n",
    "    #\"new_layer_name\": [\"fc\"]\n",
    "}\n",
    "\n",
    "params.update(dataset_params)\n",
    "params.update(preprocessing_params)\n",
    "\n",
    "# data augmentation\n",
    "# use dropout\n",
    "# Cross-validation"
   ]
  },
  {
   "cell_type": "code",
   "execution_count": null,
   "metadata": {
    "ExecuteTime": {
     "end_time": "2021-06-07T16:16:34.733565Z",
     "start_time": "2021-06-07T16:13:22.980Z"
    }
   },
   "outputs": [],
   "source": [
    "# Run experiment and sync all metadata\n",
    "exp = env.create_experiment(\n",
    "    params[\"prediction\"] + \"-pytorch-\" + params[\"model_name\"],\n",
    "    comet_ml.Experiment(\n",
    "        env.cached_data[\"comet_key\"],\n",
    "        project_name=env.project + \"-\" + params[\"prediction\"],\n",
    "        disabled=params[\"debug\"],\n",
    "    ),\n",
    ")\n",
    "exp.run(training.train_pytorch_model, params, artifacts)"
   ]
  },
  {
   "cell_type": "markdown",
   "metadata": {
    "ExecuteTime": {
     "end_time": "2018-02-26T18:35:48.172911Z",
     "start_time": "2018-02-26T18:35:48.154756Z"
    }
   },
   "source": [
    "## Evaluate Model"
   ]
  },
  {
   "cell_type": "code",
   "execution_count": null,
   "metadata": {
    "ExecuteTime": {
     "end_time": "2021-06-07T16:16:34.734507Z",
     "start_time": "2021-06-07T16:13:22.983Z"
    }
   },
   "outputs": [],
   "source": [
    "# Do evaluation, e.g. visualizations  "
   ]
  }
 ],
 "metadata": {
  "kernelspec": {
   "display_name": "Python 3",
   "language": "python",
   "name": "python3"
  },
  "language_info": {
   "codemirror_mode": {
    "name": "ipython",
    "version": 3
   },
   "file_extension": ".py",
   "mimetype": "text/x-python",
   "name": "python",
   "nbconvert_exporter": "python",
   "pygments_lexer": "ipython3",
   "version": "3.8.5"
  },
  "toc": {
   "base_numbering": 1,
   "nav_menu": {
    "height": "840px",
    "width": "569px"
   },
   "number_sections": true,
   "sideBar": true,
   "skip_h1_title": false,
   "title_cell": "Table of Contents",
   "title_sidebar": "Contents",
   "toc_cell": false,
   "toc_position": {},
   "toc_section_display": "block",
   "toc_window_display": false
  },
  "varInspector": {
   "cols": {
    "lenName": 16,
    "lenType": 16,
    "lenVar": 40
   },
   "kernels_config": {
    "python": {
     "delete_cmd_postfix": "",
     "delete_cmd_prefix": "del ",
     "library": "var_list.py",
     "varRefreshCmd": "print(var_dic_list())"
    },
    "r": {
     "delete_cmd_postfix": ") ",
     "delete_cmd_prefix": "rm(",
     "library": "var_list.r",
     "varRefreshCmd": "cat(var_dic_list()) "
    }
   },
   "types_to_exclude": [
    "module",
    "function",
    "builtin_function_or_method",
    "instance",
    "_Feature"
   ],
   "window_display": false
  }
 },
 "nbformat": 4,
 "nbformat_minor": 4
}
