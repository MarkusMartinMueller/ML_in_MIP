{
 "cells": [
  {
   "cell_type": "markdown",
   "metadata": {},
   "source": [
    "# DBSCAN Post Processing\n",
    "\n",
    "**In this notebook:**\n",
    "\n",
    "* Test DBSCAN for post processing"
   ]
  },
  {
   "cell_type": "markdown",
   "metadata": {},
   "source": [
    "## Dependencies\n",
    "Install, load, and initialize all required dependencies for this experiment.\n",
    "\n",
    "### Install Dependencies"
   ]
  },
  {
   "cell_type": "code",
   "execution_count": null,
   "metadata": {
    "ExecuteTime": {
     "end_time": "2021-06-13T14:42:13.558404Z",
     "start_time": "2021-06-13T14:41:09.380000Z"
    }
   },
   "outputs": [],
   "source": [
    "#It should be possible to run the notebook independent of anything else. \n",
    "# If dependency cannot be installed via pip, either:\n",
    "# - download & install it via %%bash\n",
    "# - atleast mention those dependecies in this section\n",
    "\n",
    "import sys\n",
    "!{sys.executable} -m pip install -q -e ../../utils/"
   ]
  },
  {
   "cell_type": "markdown",
   "metadata": {},
   "source": [
    "# System libraries"
   ]
  },
  {
   "cell_type": "code",
   "execution_count": null,
   "metadata": {
    "ExecuteTime": {
     "end_time": "2021-06-13T14:42:20.515924Z",
     "start_time": "2021-06-13T14:42:13.561481Z"
    }
   },
   "outputs": [],
   "source": [
    "from __future__ import absolute_import, division, print_function\n",
    "import logging, os, sys\n",
    "\n",
    "# Enable logging\n",
    "logging.basicConfig(format='[%(levelname)s] %(message)s', level=logging.INFO, stream=sys.stdout)\n",
    "\n",
    "# Re-import packages if they change\n",
    "%load_ext autoreload\n",
    "%autoreload 2\n",
    "\n",
    "# Recursion Depth\n",
    "import sys\n",
    "sys.setrecursionlimit(10000)\n",
    "\n",
    "# Intialize tqdm to always use the notebook progress bar\n",
    "import tqdm\n",
    "tqdm.tqdm = tqdm.tqdm_notebook\n",
    "\n",
    "# Third-party libraries\n",
    "import comet_ml\n",
    "import numpy as np\n",
    "import pandas as pd\n",
    "import nilearn.plotting as nip\n",
    "import matplotlib.pyplot as plt\n",
    "import nibabel as nib\n",
    "import numpy as np\n",
    "import collections\n",
    "%matplotlib inline\n",
    "plt.rcParams[\"figure.figsize\"] = (12,6)\n",
    "%config InlineBackend.figure_format='retina'  # adapt plots for retina displays\n",
    "import git\n",
    "\n",
    "\n",
    "# Project utils\n",
    "\n",
    "import aneurysm_utils\n",
    "from aneurysm_utils import evaluation, training\n"
   ]
  },
  {
   "cell_type": "code",
   "execution_count": null,
   "metadata": {
    "ExecuteTime": {
     "end_time": "2021-06-13T14:42:20.600321Z",
     "start_time": "2021-06-13T14:42:20.519892Z"
    }
   },
   "outputs": [],
   "source": [
    "os.getcwd()"
   ]
  },
  {
   "cell_type": "markdown",
   "metadata": {},
   "source": [
    "### Initialize Environment"
   ]
  },
  {
   "cell_type": "code",
   "execution_count": null,
   "metadata": {
    "ExecuteTime": {
     "end_time": "2021-06-13T14:42:20.697881Z",
     "start_time": "2021-06-13T14:42:20.604089Z"
    }
   },
   "outputs": [],
   "source": [
    "env = aneurysm_utils.Environment(project=\"ML_IN_MIP\", root_folder=\"/workspace/\")\n",
    "env.cached_data[\"comet_key\"] = \"EGrR4luSis87yhHbs2rEaqAWs\" \n",
    "env.print_info()"
   ]
  },
  {
   "cell_type": "markdown",
   "metadata": {},
   "source": [
    "## Load Data\n",
    "Download, explore, and prepare all required data for the experiment in this section."
   ]
  },
  {
   "cell_type": "code",
   "execution_count": null,
   "metadata": {
    "ExecuteTime": {
     "end_time": "2021-06-13T15:17:03.211508Z",
     "start_time": "2021-06-13T15:17:03.110823Z"
    }
   },
   "outputs": [],
   "source": [
    "dataset_params = {\n",
    "    \"prediction\": \"LabeledMask\",\n",
    "    \"mri_data_selection\": \"unprocessed\", \n",
    "    \"balance_data\": False,\n",
    "    \"seed\": 1,\n",
    "    \"resample_voxel_dim\": None\n",
    "}\n",
    "\n",
    "preprocessing_params = {\n",
    "    'min_max_normalize': None,\n",
    "    'mean_std_normalize': False,\n",
    "    'smooth_img': False, # can contain a number: smoothing factor\n",
    "}\n"
   ]
  },
  {
   "cell_type": "markdown",
   "metadata": {},
   "source": [
    "### Load Meta Data"
   ]
  },
  {
   "cell_type": "code",
   "execution_count": null,
   "metadata": {
    "ExecuteTime": {
     "end_time": "2021-06-13T14:48:46.416003Z",
     "start_time": "2021-06-13T14:48:46.309744Z"
    }
   },
   "outputs": [],
   "source": [
    "from aneurysm_utils.data_collection import load_aneurysm_dataset\n",
    "\n",
    "df = load_aneurysm_dataset(\n",
    "    env,\n",
    "    mri_data_selection=dataset_params[\"mri_data_selection\"],\n",
    "    random_state=dataset_params[\"seed\"]\n",
    ")\n",
    "df.head()"
   ]
  },
  {
   "cell_type": "code",
   "execution_count": null,
   "metadata": {
    "ExecuteTime": {
     "end_time": "2021-06-13T14:51:19.166451Z",
     "start_time": "2021-06-13T14:51:19.094475Z"
    }
   },
   "outputs": [],
   "source": [
    "from aneurysm_utils import data_collection \n"
   ]
  },
  {
   "cell_type": "code",
   "execution_count": null,
   "metadata": {
    "ExecuteTime": {
     "end_time": "2021-06-13T15:17:22.530769Z",
     "start_time": "2021-06-13T15:17:21.713374Z"
    }
   },
   "outputs": [],
   "source": [
    "img_dict = data_collection.get_case_images(env, df, \"A130_R\", mesh=False, resample_voxel_dim=dataset_params[\"resample_voxel_dim\"])"
   ]
  },
  {
   "cell_type": "code",
   "execution_count": null,
   "metadata": {
    "ExecuteTime": {
     "end_time": "2021-06-13T15:17:23.783573Z",
     "start_time": "2021-06-13T15:17:23.722270Z"
    }
   },
   "outputs": [],
   "source": [
    "img_dict.keys()"
   ]
  },
  {
   "cell_type": "code",
   "execution_count": null,
   "metadata": {
    "ExecuteTime": {
     "end_time": "2021-06-13T15:17:35.558833Z",
     "start_time": "2021-06-13T15:17:24.451292Z"
    }
   },
   "outputs": [],
   "source": [
    "nip.view_img(\n",
    "    img_dict[\"Mask nii\"], \n",
    "    symmetric_cmap=False,\n",
    "    cmap=\"Greys_r\",\n",
    "    bg_img=False,\n",
    "    black_bg=True,\n",
    "    threshold=1e-03, \n",
    "    draw_cross=False,\n",
    ")"
   ]
  },
  {
   "cell_type": "code",
   "execution_count": null,
   "metadata": {
    "ExecuteTime": {
     "end_time": "2021-06-13T15:17:47.055687Z",
     "start_time": "2021-06-13T15:17:46.503200Z"
    }
   },
   "outputs": [],
   "source": [
    "np.unique(img_dict[\"Labeled Mask struct_arr\"])"
   ]
  },
  {
   "cell_type": "code",
   "execution_count": null,
   "metadata": {
    "ExecuteTime": {
     "end_time": "2021-06-13T15:43:00.085358Z",
     "start_time": "2021-06-13T15:42:59.802233Z"
    }
   },
   "outputs": [],
   "source": [
    "from sklearn.cluster import DBSCAN\n",
    "\n",
    "db = DBSCAN(eps=1, min_samples=5).fit(np.array(np.where(img_dict[\"Mask struct_arr\"]==1)).T)\n",
    "\n"
   ]
  },
  {
   "cell_type": "code",
   "execution_count": null,
   "metadata": {
    "ExecuteTime": {
     "end_time": "2021-06-13T15:43:00.434099Z",
     "start_time": "2021-06-13T15:43:00.367234Z"
    }
   },
   "outputs": [],
   "source": [
    "np.unique(db.labels_)"
   ]
  },
  {
   "cell_type": "code",
   "execution_count": null,
   "metadata": {
    "ExecuteTime": {
     "end_time": "2021-06-13T15:43:03.428055Z",
     "start_time": "2021-06-13T15:43:03.186846Z"
    }
   },
   "outputs": [],
   "source": [
    "dbscan_mask = np.zeros((img_dict[\"Mask struct_arr\"].shape))\n",
    "for i, label in zip(np.array(np.where(img_dict[\"Mask struct_arr\"]==1)).T, db.labels_):\n",
    "    dbscan_mask[i[0], i[1], i[2]] = label+1\n"
   ]
  },
  {
   "cell_type": "code",
   "execution_count": null,
   "metadata": {
    "ExecuteTime": {
     "end_time": "2021-06-13T15:43:08.225419Z",
     "start_time": "2021-06-13T15:43:04.153194Z"
    }
   },
   "outputs": [],
   "source": [
    "nip.view_img(\n",
    "    nib.Nifti1Image(dbscan_mask, np.eye(4)), \n",
    "    symmetric_cmap=False,\n",
    "    bg_img=False,\n",
    "    black_bg=True,\n",
    "    threshold=1e-03, \n",
    "    draw_cross=False,\n",
    ")"
   ]
  },
  {
   "cell_type": "code",
   "execution_count": null,
   "metadata": {
    "ExecuteTime": {
     "end_time": "2021-06-13T15:43:20.173368Z",
     "start_time": "2021-06-13T15:43:08.229150Z"
    }
   },
   "outputs": [],
   "source": [
    "nip.view_img(\n",
    "    img_dict[\"Labeled Mask nii\"], \n",
    "    symmetric_cmap=False,\n",
    "    bg_img=False,\n",
    "    black_bg=True,\n",
    "    threshold=1e-03, \n",
    "    draw_cross=False,\n",
    ")"
   ]
  },
  {
   "cell_type": "code",
   "execution_count": null,
   "metadata": {
    "ExecuteTime": {
     "end_time": "2021-06-13T16:06:52.898526Z",
     "start_time": "2021-06-13T16:05:42.665807Z"
    }
   },
   "outputs": [],
   "source": [
    "dbscan_sets = []\n",
    "mask_sets = []\n",
    "for array in [dbscan_mask, mask]:\n",
    "    for i in np.unique(dbscan_mask).tolist():\n",
    "        aneurysm_index = np.array(np.where(dbscan_mask==(i-1))).T\n",
    "        x_hashable = map(tuple, aneurysm_index)\n",
    "        y = set(x_hashable)\n",
    "        dbscan_sets.append(y)\n",
    "        print(y)"
   ]
  },
  {
   "cell_type": "code",
   "execution_count": null,
   "metadata": {},
   "outputs": [],
   "source": []
  }
 ],
 "metadata": {
  "interpreter": {
   "hash": "4cd7ab41f5fca4b9b44701077e38c5ffd31fe66a6cab21e0214b68d958d0e462"
  },
  "jupytext": {
   "cell_metadata_filter": "-all",
   "encoding": "# coding: utf-8",
   "executable": "/usr/bin/env python",
   "notebook_metadata_filter": "-all",
   "text_representation": {
    "extension": ".py",
    "format_name": "percent"
   }
  },
  "kernelspec": {
   "display_name": "Python 3",
   "language": "python",
   "name": "python3"
  },
  "language_info": {
   "codemirror_mode": {
    "name": "ipython",
    "version": 3
   },
   "file_extension": ".py",
   "mimetype": "text/x-python",
   "name": "python",
   "nbconvert_exporter": "python",
   "pygments_lexer": "ipython3",
   "version": "3.8.5"
  },
  "toc": {
   "base_numbering": 1,
   "nav_menu": {},
   "number_sections": false,
   "sideBar": true,
   "skip_h1_title": false,
   "title_cell": "Table of Contents",
   "title_sidebar": "Contents",
   "toc_cell": false,
   "toc_position": {
    "height": "calc(100% - 180px)",
    "left": "10px",
    "top": "150px",
    "width": "288px"
   },
   "toc_section_display": true,
   "toc_window_display": true
  }
 },
 "nbformat": 4,
 "nbformat_minor": 4
}
