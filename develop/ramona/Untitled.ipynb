{
 "cells": [
  {
   "cell_type": "code",
   "execution_count": 4,
   "id": "292ed216",
   "metadata": {},
   "outputs": [],
   "source": [
    "from zipfile import ZipFile\n",
    "\n",
    "with ZipFile('../markus/Archive 3.zip', 'r') as zipObj:\n",
    "   # Extract all the contents of zip file in current directory\n",
    "   zipObj.extractall()"
   ]
  },
  {
   "cell_type": "code",
   "execution_count": 3,
   "id": "01e91cfd",
   "metadata": {},
   "outputs": [
    {
     "name": "stdout",
     "output_type": "stream",
     "text": [
      " 2021-05-31_mm_first_experiment-aneurysm-detection.ipynb\r\n",
      "'Archive 3.zip'\r\n",
      " Archive.zip\r\n",
      " Create_preds.ipynb\r\n",
      " Load_preds.ipynb\r\n",
      " optimizer-template.ipynb\r\n",
      " predictions.npy\r\n",
      " predictions_unet_45ep.npy\r\n",
      " predictions_unet.npy\r\n",
      " preds_attention_markus.npy\r\n",
      " preds_attention_ramona_2021-07-10-13-17-35.npy\r\n",
      " preds_attention_ramona_672.npy\r\n",
      " testmodel.ipynb\r\n",
      " Untitled.ipynb\r\n"
     ]
    }
   ],
   "source": [
    "!ls ../markus"
   ]
  },
  {
   "cell_type": "code",
   "execution_count": null,
   "id": "339a24b8",
   "metadata": {},
   "outputs": [],
   "source": []
  }
 ],
 "metadata": {
  "kernelspec": {
   "display_name": "Exploration Tutorial",
   "language": "python",
   "name": "exploration-tutorial"
  },
  "language_info": {
   "codemirror_mode": {
    "name": "ipython",
    "version": 3
   },
   "file_extension": ".py",
   "mimetype": "text/x-python",
   "name": "python",
   "nbconvert_exporter": "python",
   "pygments_lexer": "ipython3",
   "version": "3.8.10"
  }
 },
 "nbformat": 4,
 "nbformat_minor": 5
}
