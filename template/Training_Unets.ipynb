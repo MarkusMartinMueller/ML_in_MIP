{
 "cells": [
  {
   "cell_type": "markdown",
   "metadata": {},
   "source": [
    "# Training Unet & Attention Unet\n"
   ]
  },
  {
   "cell_type": "markdown",
   "metadata": {},
   "source": [
    "## Dependencies\n",
    "Install, load, and initialize all required dependencies for this experiment.\n",
    "\n",
    "### Install Dependencies"
   ]
  },
  {
   "cell_type": "code",
   "execution_count": null,
   "metadata": {
    "ExecuteTime": {
     "end_time": "2021-06-14T16:03:54.761597Z",
     "start_time": "2021-06-14T16:00:27.572240Z"
    }
   },
   "outputs": [],
   "source": [
    "import sys\n",
    "!{sys.executable} -m pip install -q -e ../../utils/"
   ]
  },
  {
   "cell_type": "markdown",
   "metadata": {},
   "source": [
    "### Import Dependencies"
   ]
  },
  {
   "cell_type": "markdown",
   "metadata": {},
   "source": [
    "# System libraries"
   ]
  },
  {
   "cell_type": "code",
   "execution_count": null,
   "metadata": {
    "ExecuteTime": {
     "end_time": "2021-06-14T16:20:27.999665Z",
     "start_time": "2021-06-14T16:20:27.912162Z"
    }
   },
   "outputs": [],
   "source": [
    "from __future__ import absolute_import, division, print_function\n",
    "import logging, os, sys\n",
    "\n",
    "# Enable logging\n",
    "logging.basicConfig(format='[%(levelname)s] %(message)s', level=logging.INFO, stream=sys.stdout)\n",
    "\n",
    "# Re-import packages if they change\n",
    "\n",
    "%load_ext autoreload\n",
    "%autoreload 2\n",
    "\n",
    "# Recursion Depth\n",
    "sys.setrecursionlimit(1000000000)\n",
    "\n",
    "# Intialize tqdm to always use the notebook progress bar\n",
    "import tqdm\n",
    "tqdm.tqdm = tqdm.tqdm_notebook\n",
    "\n",
    "# Third-party libraries\n",
    "import comet_ml\n",
    "\n",
    "import numpy as np\n",
    "import pandas as pd\n",
    "import nilearn.plotting as nip\n",
    "import matplotlib.pyplot as plt\n",
    "import nibabel as nib\n",
    "import numpy as np\n",
    "import torch\n",
    "import collections\n",
    "%matplotlib inline\n",
    "plt.rcParams[\"figure.figsize\"] = (12,6)\n",
    "%config InlineBackend.figure_format='retina'  # adapt plots for retina displays\n",
    "import git\n",
    "import time\n",
    "\n",
    "# Project utils\n",
    "\n",
    "import aneurysm_utils\n",
    "from aneurysm_utils import evaluation, training,preprocessing\n"
   ]
  },
  {
   "cell_type": "code",
   "execution_count": null,
   "metadata": {
    "ExecuteTime": {
     "end_time": "2021-06-14T16:20:29.336695Z",
     "start_time": "2021-06-14T16:20:29.272932Z"
    }
   },
   "outputs": [],
   "source": [
    "if \"workspace\" in os.getcwd():\n",
    "    ROOT = \"/workspace\" # local \n",
    "elif \"/group/cake\" in os.getcwd(): \n",
    "    ROOT = \"/group/cake\" # Jupyter Lab\n"
   ]
  },
  {
   "cell_type": "markdown",
   "metadata": {},
   "source": [
    "### Initialize Environment"
   ]
  },
  {
   "cell_type": "code",
   "execution_count": null,
   "metadata": {
    "ExecuteTime": {
     "end_time": "2021-06-14T16:20:30.058122Z",
     "start_time": "2021-06-14T16:20:29.974521Z"
    }
   },
   "outputs": [],
   "source": [
    "env = aneurysm_utils.Environment(project=\"our-git-project\", root_folder=ROOT)\n",
    "env.cached_data[\"comet_key\"] = \"\" # Add comet key here to track experiments\n",
    "env.print_info()"
   ]
  },
  {
   "cell_type": "markdown",
   "metadata": {},
   "source": [
    "## Load Data\n",
    "Download, explore, and prepare all required data for the experiment in this section."
   ]
  },
  {
   "cell_type": "code",
   "execution_count": null,
   "metadata": {
    "ExecuteTime": {
     "end_time": "2021-06-14T16:20:30.450257Z",
     "start_time": "2021-06-14T16:20:30.387149Z"
    }
   },
   "outputs": [],
   "source": [
    "dataset_params = {\n",
    "    \"prediction\": \"mask\",\n",
    "    \"mri_data_selection\": \"\", \n",
    "    \"balance_data\": False,\n",
    "    \"seed\": 1,\n",
    "    \"resample_voxel_dim\": (1.2, 1.2, 1.2)\n",
    "}\n",
    "\n",
    "preprocessing_params = {\n",
    "    'min_max_normalize': True,\n",
    "    'mean_std_normalize': False,\n",
    "    'smooth_img': False, # can contain a number: smoothing factor\n",
    "    'intensity_segmentation': False\n",
    "}\n"
   ]
  },
  {
   "cell_type": "markdown",
   "metadata": {},
   "source": [
    "### Load Meta Data"
   ]
  },
  {
   "cell_type": "code",
   "execution_count": null,
   "metadata": {
    "ExecuteTime": {
     "end_time": "2021-06-14T16:20:31.556885Z",
     "start_time": "2021-06-14T16:20:31.453478Z"
    }
   },
   "outputs": [],
   "source": [
    "from aneurysm_utils.data_collection import load_aneurysm_dataset\n",
    "\n",
    "df = load_aneurysm_dataset(\n",
    "    env,\n",
    "    mri_data_selection=dataset_params[\"mri_data_selection\"],\n",
    "    random_state=dataset_params[\"seed\"]\n",
    ")\n",
    "df.head()"
   ]
  },
  {
   "cell_type": "markdown",
   "metadata": {},
   "source": [
    "### Load & Split MRI Data"
   ]
  },
  {
   "cell_type": "code",
   "execution_count": null,
   "metadata": {
    "ExecuteTime": {
     "end_time": "2021-06-14T16:20:40.711578Z",
     "start_time": "2021-06-14T16:20:34.520886Z"
    },
    "lines_to_next_cell": 2
   },
   "outputs": [],
   "source": [
    "# Load MRI images and split into train, test, and validation\n",
    "from aneurysm_utils.data_collection import split_mri_images\n",
    "\n",
    "train_data, test_data, val_data, _ = split_mri_images(\n",
    "    env, \n",
    "    df, \n",
    "    prediction=dataset_params[\"prediction\"], \n",
    "    encode_labels=False,\n",
    "    random_state=dataset_params[\"seed\"],\n",
    "    balance_data=dataset_params[\"balance_data\"],\n",
    "    resample_voxel_dim=dataset_params[\"resample_voxel_dim\"]\n",
    ")\n",
    "\n",
    "mri_imgs_train, labels_train,train_participants = train_data\n",
    "mri_imgs_test, labels_test,test_participants = test_data\n",
    "mri_imgs_val, labels_val,val_participants = val_data"
   ]
  },
  {
   "cell_type": "code",
   "execution_count": null,
   "metadata": {
    "ExecuteTime": {
     "end_time": "2021-06-14T16:20:40.777573Z",
     "start_time": "2021-06-14T16:20:40.714453Z"
    }
   },
   "outputs": [],
   "source": [
    "from aneurysm_utils import preprocessing\n",
    "\n",
    "most_commen_shape = preprocessing.check_mri_shapes(mri_imgs_train)"
   ]
  },
  {
   "cell_type": "markdown",
   "metadata": {},
   "source": [
    "## Transform & Preprocess Data"
   ]
  },
  {
   "cell_type": "code",
   "execution_count": null,
   "metadata": {
    "ExecuteTime": {
     "end_time": "2021-06-14T16:20:54.553912Z",
     "start_time": "2021-06-14T16:20:54.468605Z"
    }
   },
   "outputs": [],
   "source": [
    "size = most_commen_shape \n",
    "train_index = [i for i, e in enumerate(mri_imgs_train) if e.shape != size]\n",
    "mri_imgs_train = [i for j, i in enumerate(mri_imgs_train) if j not in train_index]\n",
    "labels_train = [i for j, i in enumerate(labels_train) if j not in train_index]\n",
    "\n",
    "test_index = [i for i, e in enumerate(mri_imgs_test) if e.shape != size]\n",
    "mri_imgs_test = [i for j, i in enumerate(mri_imgs_test) if j not in test_index]\n",
    "labels_test = [i for j, i in enumerate(labels_test) if j not in test_index]\n",
    "\n",
    "val_index = [i for i, e in enumerate(mri_imgs_val) if e.shape != size]\n",
    "mri_imgs_val = [i for j, i in enumerate(mri_imgs_val) if j not in val_index]\n",
    "labels_val = [i for j, i in enumerate(labels_val) if j not in val_index]\n",
    "\n",
    "mri_imgs_train[0].shape\n",
    "preprocessing.check_mri_shapes(mri_imgs_train)\n",
    "print(np.unique(labels_val[0], return_counts=True))"
   ]
  },
  {
   "cell_type": "code",
   "execution_count": null,
   "metadata": {},
   "outputs": [],
   "source": [
    "from aneurysm_utils import preprocessing\n",
    "patch_size = 64\n",
    "size_of_train = len(mri_imgs_train)\n",
    "size_of_test = len(mri_imgs_test)\n",
    "size_of_val = len(mri_imgs_val)\n",
    "\n",
    "# preprocess all lists as one to have a working mean_std_normalization\n",
    "mri_imgs = mri_imgs_train + mri_imgs_test + mri_imgs_val\n",
    "mri_imgs = preprocessing.preprocess(env, mri_imgs, preprocessing_params)\n",
    "\n",
    "###creating patches\n",
    "mri_imgs_train = np.asarray(mri_imgs[:size_of_train])\n",
    "mri_imgs_train = preprocessing.patch_list(mri_imgs_train,patch_size)\n",
    "mri_imgs_test = np.asarray(mri_imgs[size_of_train : size_of_train + size_of_test])\n",
    "mri_imgs_test = preprocessing.patch_list(mri_imgs_test,patch_size)\n",
    "mri_imgs_val = np.asarray(mri_imgs[size_of_train + size_of_test :])\n",
    "mri_imgs_val = preprocessing.patch_list(mri_imgs_val,patch_size)\n",
    "\n",
    "# preprocess mask\n",
    "x, y, h = labels_train[0].shape\n",
    "labels_train = patch_list(labels_train,patch_size)\n",
    "labels_test = patch_list(labels_test,patch_size)\n",
    "labels_val = patch_list(labels_val,patch_size)"
   ]
  },
  {
   "cell_type": "markdown",
   "metadata": {},
   "source": [
    "### Optional: View image"
   ]
  },
  {
   "cell_type": "code",
   "execution_count": null,
   "metadata": {
    "ExecuteTime": {
     "end_time": "2021-06-14T16:20:57.826373Z",
     "start_time": "2021-06-14T16:20:55.846926Z"
    },
    "lines_to_next_cell": 2
   },
   "outputs": [],
   "source": [
    "idx = 0\n",
    "nip.view_img(\n",
    "    nib.Nifti1Image(mri_imgs_train[0], np.eye(4)),\n",
    "    symmetric_cmap=False,\n",
    "    cmap=\"Greys_r\",\n",
    "    bg_img=False,\n",
    "    black_bg=True,\n",
    "    threshold=1e-03, \n",
    "    draw_cross=False\n",
    ")"
   ]
  },
  {
   "cell_type": "code",
   "execution_count": null,
   "metadata": {
    "ExecuteTime": {
     "end_time": "2021-06-14T16:20:58.946205Z",
     "start_time": "2021-06-14T16:20:57.829390Z"
    }
   },
   "outputs": [],
   "source": [
    "evaluation.plot_slices(mri_train[0])"
   ]
  },
  {
   "cell_type": "code",
   "execution_count": null,
   "metadata": {},
   "outputs": [],
   "source": [
    "mri_imgs_train = np.array(mri_imgs_train)\n",
    "labels_train = np.array(labels_train)\n",
    "mri_imgs_val = np.array(mri_imgs_val)\n",
    "labels_val = np.array(labels_val)\n",
    "mri_imgs_test = np.array(mri_imgs_test)\n",
    "labels_test = np.array(labels_test)\n",
    "\n",
    "## nach der zelle 3.3gb"
   ]
  },
  {
   "cell_type": "markdown",
   "metadata": {},
   "source": [
    "## Train Model\n",
    "Implementation, configuration, and evaluation of the experiment.\n",
    "\n",
    "### Train Deep Model 3D data"
   ]
  },
  {
   "cell_type": "code",
   "execution_count": null,
   "metadata": {
    "ExecuteTime": {
     "end_time": "2021-06-14T16:32:18.461681Z",
     "start_time": "2021-06-14T16:32:17.555797Z"
    },
    "lines_to_next_cell": 2
   },
   "outputs": [],
   "source": [
    "from comet_ml import Optimizer\n",
    "\n",
    "\n",
    "\n",
    "\n",
    "artifacts = {\n",
    "    \"train_data\": (mri_imgs_train, labels_train),\n",
    "    \"val_data\": (mri_imgs_val, labels_val),\n",
    "    \"test_data\": (mri_imgs_test, labels_test)\n",
    "}\n",
    "\n",
    "params = {\n",
    "    \"batch_size\": 6,\n",
    "    \"epochs\": 45,\n",
    "    \"es_patience\": 3, # None = deactivate early stopping\n",
    "    \"model_name\": 'Unet3D_Oktay',\n",
    "    \"optimizer_momentum\": 0.9,\n",
    "    \"optimizer\":'Adam',\n",
    "    \"scheduler\": 'ReduceLROnPlateau',\n",
    "    \"criterion\": \"DiceCELoss\",\n",
    "    \"sampler\": None,   #'ImbalancedDatasetSampler2',\n",
    "    \"shuffle_train_set\": True,\n",
    "    \"save_models\":True,\n",
    "    \"debug\": False,\n",
    "    \"criterion_weights\": 1,\n",
    "    \"learning_rate\": 1e-4,\n",
    "    \"use_cuda\":True,\n",
    "    \"feature_scale\": 2,\n",
    "    \n",
    "    \n",
    "}\n",
    "\n",
    "params.update(dataset_params)\n",
    "params.update(preprocessing_params)\n",
    "\n",
    "config = {\n",
    "    # We pick the Bayes algorithm:\n",
    "    \"algorithm\": \"bayes\",\n",
    "    # Declare your hyperparameters in the Vizier-inspired format:\n",
    "    \"parameters\": {\n",
    "       \"learning_rate\": {\"type\": \"float\", \"scalingType\": \"loguniform\", \"min\": 1e-4, \"max\": 1e-3},\n",
    "         \n",
    "    },\n",
    "    # Declare what we will be optimizing, and how:\n",
    "    \"spec\": {\"metric\": \"train_bal_acc\", \"objective\": \"maximize\"},  #test balance accuracy\n",
    "}\n",
    "\n",
    "\n",
    "opt = Optimizer(config, api_key=env.cached_data[\"comet_key\"])\n",
    "\n",
    "## 3.3gb"
   ]
  },
  {
   "cell_type": "code",
   "execution_count": null,
   "metadata": {},
   "outputs": [],
   "source": [
    "import gc\n",
    "gc.collect()"
   ]
  },
  {
   "cell_type": "code",
   "execution_count": null,
   "metadata": {
    "ExecuteTime": {
     "start_time": "2021-06-14T16:32:20.216Z"
    }
   },
   "outputs": [],
   "source": [
    "# Finally, get experiments, and train your models:\n",
    "for comet_exp in opt.get_experiments(project_name=env.project + \"-\" + params[\"prediction\"]):\n",
    "    print(comet_exp)\n",
    "    param_copy = params.copy()\n",
    "    comet_exp.params\n",
    "    param_copy[\"learning_rate\"] = comet_exp.get_parameter(\"learning_rate\")\n",
    "    \n",
    "\n",
    "    exp = env.create_experiment(\n",
    "        params[\"prediction\"] + \"-pytorch-\" + params[\"model_name\"], comet_exp\n",
    "    ) #params[\"selected_label\"] + \"-hyperopt-\" + params[\"model_name\"]\n",
    "    exp.run(training.train_pytorch_model, param_copy, artifacts)\n",
    "    \n",
    "    time.sleep(3)\n",
    "    del exp\n",
    "    import gc\n",
    "    gc.collect()\n",
    "\n"
   ]
  }
 ],
 "metadata": {
  "interpreter": {
   "hash": "4cd7ab41f5fca4b9b44701077e38c5ffd31fe66a6cab21e0214b68d958d0e462"
  },
  "jupytext": {
   "cell_metadata_filter": "-all",
   "encoding": "# coding: utf-8",
   "executable": "/usr/bin/env python",
   "notebook_metadata_filter": "-all",
   "text_representation": {
    "extension": ".py",
    "format_name": "percent"
   }
  },
  "kernelspec": {
   "display_name": "Exploration Tutorial",
   "language": "python",
   "name": "exploration-tutorial"
  },
  "language_info": {
   "codemirror_mode": {
    "name": "ipython",
    "version": 3
   },
   "file_extension": ".py",
   "mimetype": "text/x-python",
   "name": "python",
   "nbconvert_exporter": "python",
   "pygments_lexer": "ipython3",
   "version": "3.6.9"
  },
  "toc": {
   "base_numbering": 1,
   "nav_menu": {},
   "number_sections": false,
   "sideBar": true,
   "skip_h1_title": false,
   "title_cell": "Table of Contents",
   "title_sidebar": "Contents",
   "toc_cell": false,
   "toc_position": {},
   "toc_section_display": true,
   "toc_window_display": true
  }
 },
 "nbformat": 4,
 "nbformat_minor": 4
}
